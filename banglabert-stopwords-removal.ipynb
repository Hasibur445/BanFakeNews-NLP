{
 "cells": [
  {
   "cell_type": "code",
   "execution_count": 1,
   "id": "9c6a41e0",
   "metadata": {
    "execution": {
     "iopub.execute_input": "2023-10-15T18:45:24.942814Z",
     "iopub.status.busy": "2023-10-15T18:45:24.942483Z",
     "iopub.status.idle": "2023-10-15T18:45:24.950139Z",
     "shell.execute_reply": "2023-10-15T18:45:24.949271Z"
    },
    "papermill": {
     "duration": 0.015344,
     "end_time": "2023-10-15T18:45:24.951835",
     "exception": false,
     "start_time": "2023-10-15T18:45:24.936491",
     "status": "completed"
    },
    "tags": []
   },
   "outputs": [],
   "source": [
    "import warnings\n",
    "warnings.filterwarnings('ignore')"
   ]
  },
  {
   "cell_type": "code",
   "execution_count": 2,
   "id": "eb85a366",
   "metadata": {
    "execution": {
     "iopub.execute_input": "2023-10-15T18:45:24.962799Z",
     "iopub.status.busy": "2023-10-15T18:45:24.962276Z",
     "iopub.status.idle": "2023-10-15T18:45:31.548620Z",
     "shell.execute_reply": "2023-10-15T18:45:31.547658Z"
    },
    "papermill": {
     "duration": 6.594187,
     "end_time": "2023-10-15T18:45:31.550749",
     "exception": false,
     "start_time": "2023-10-15T18:45:24.956562",
     "status": "completed"
    },
    "tags": []
   },
   "outputs": [],
   "source": [
    "import pandas as pd\n",
    "auth = pd.read_csv(\"../input/banfakenews/Authentic-48K.csv\")\n",
    "fake = pd.read_csv(\"../input/banfakenews/Fake-1K.csv\")"
   ]
  },
  {
   "cell_type": "code",
   "execution_count": 3,
   "id": "54022782",
   "metadata": {
    "execution": {
     "iopub.execute_input": "2023-10-15T18:45:31.560412Z",
     "iopub.status.busy": "2023-10-15T18:45:31.559483Z",
     "iopub.status.idle": "2023-10-15T18:45:43.719450Z",
     "shell.execute_reply": "2023-10-15T18:45:43.718508Z"
    },
    "papermill": {
     "duration": 12.166896,
     "end_time": "2023-10-15T18:45:43.721610",
     "exception": false,
     "start_time": "2023-10-15T18:45:31.554714",
     "status": "completed"
    },
    "tags": []
   },
   "outputs": [],
   "source": [
    "import time\n",
    "import matplotlib.pyplot as plt\n",
    "import numpy as np\n",
    "import pandas as pd\n",
    "import torch\n",
    "import torch.nn as nn\n",
    "from torch.optim import AdamW\n",
    "from torch.utils.data import DataLoader\n",
    "from torch.utils.data import Dataset\n",
    "from tqdm.notebook import tqdm\n",
    "from transformers import BertModel, BertTokenizer, BertForSequenceClassification"
   ]
  },
  {
   "cell_type": "code",
   "execution_count": 4,
   "id": "4958259d",
   "metadata": {
    "execution": {
     "iopub.execute_input": "2023-10-15T18:45:43.731072Z",
     "iopub.status.busy": "2023-10-15T18:45:43.730208Z",
     "iopub.status.idle": "2023-10-15T18:45:58.104571Z",
     "shell.execute_reply": "2023-10-15T18:45:58.103475Z"
    },
    "papermill": {
     "duration": 14.381081,
     "end_time": "2023-10-15T18:45:58.106753",
     "exception": false,
     "start_time": "2023-10-15T18:45:43.725672",
     "status": "completed"
    },
    "tags": []
   },
   "outputs": [
    {
     "name": "stdout",
     "output_type": "stream",
     "text": [
      "Collecting bnltk\r\n",
      "  Downloading bnltk-0.7.6-py3-none-any.whl (11 kB)\r\n",
      "Requirement already satisfied: keras in /opt/conda/lib/python3.10/site-packages (from bnltk) (2.12.0)\r\n",
      "Requirement already satisfied: tensorflow in /opt/conda/lib/python3.10/site-packages (from bnltk) (2.12.0)\r\n",
      "Requirement already satisfied: numpy in /opt/conda/lib/python3.10/site-packages (from bnltk) (1.23.5)\r\n",
      "Collecting sklearn (from bnltk)\r\n",
      "  Downloading sklearn-0.0.post10.tar.gz (3.6 kB)\r\n",
      "  Preparing metadata (setup.py) ... \u001b[?25l-\b \berror\r\n",
      "  \u001b[1;31merror\u001b[0m: \u001b[1msubprocess-exited-with-error\u001b[0m\r\n",
      "  \r\n",
      "  \u001b[31m×\u001b[0m \u001b[32mpython setup.py egg_info\u001b[0m did not run successfully.\r\n",
      "  \u001b[31m│\u001b[0m exit code: \u001b[1;36m1\u001b[0m\r\n",
      "  \u001b[31m╰─>\u001b[0m \u001b[31m[18 lines of output]\u001b[0m\r\n",
      "  \u001b[31m   \u001b[0m The 'sklearn' PyPI package is deprecated, use 'scikit-learn'\r\n",
      "  \u001b[31m   \u001b[0m rather than 'sklearn' for pip commands.\r\n",
      "  \u001b[31m   \u001b[0m \r\n",
      "  \u001b[31m   \u001b[0m Here is how to fix this error in the main use cases:\r\n",
      "  \u001b[31m   \u001b[0m - use 'pip install scikit-learn' rather than 'pip install sklearn'\r\n",
      "  \u001b[31m   \u001b[0m - replace 'sklearn' by 'scikit-learn' in your pip requirements files\r\n",
      "  \u001b[31m   \u001b[0m   (requirements.txt, setup.py, setup.cfg, Pipfile, etc ...)\r\n",
      "  \u001b[31m   \u001b[0m - if the 'sklearn' package is used by one of your dependencies,\r\n",
      "  \u001b[31m   \u001b[0m   it would be great if you take some time to track which package uses\r\n",
      "  \u001b[31m   \u001b[0m   'sklearn' instead of 'scikit-learn' and report it to their issue tracker\r\n",
      "  \u001b[31m   \u001b[0m - as a last resort, set the environment variable\r\n",
      "  \u001b[31m   \u001b[0m   SKLEARN_ALLOW_DEPRECATED_SKLEARN_PACKAGE_INSTALL=True to avoid this error\r\n",
      "  \u001b[31m   \u001b[0m \r\n",
      "  \u001b[31m   \u001b[0m More information is available at\r\n",
      "  \u001b[31m   \u001b[0m https://github.com/scikit-learn/sklearn-pypi-package\r\n",
      "  \u001b[31m   \u001b[0m \r\n",
      "  \u001b[31m   \u001b[0m If the previous advice does not cover your use case, feel free to report it at\r\n",
      "  \u001b[31m   \u001b[0m https://github.com/scikit-learn/sklearn-pypi-package/issues/new\r\n",
      "  \u001b[31m   \u001b[0m \u001b[31m[end of output]\u001b[0m\r\n",
      "  \r\n",
      "  \u001b[1;35mnote\u001b[0m: This error originates from a subprocess, and is likely not a problem with pip.\r\n",
      "\u001b[1;31merror\u001b[0m: \u001b[1mmetadata-generation-failed\u001b[0m\r\n",
      "\r\n",
      "\u001b[31m×\u001b[0m Encountered error while generating package metadata.\r\n",
      "\u001b[31m╰─>\u001b[0m See above for output.\r\n",
      "\r\n",
      "\u001b[1;35mnote\u001b[0m: This is an issue with the package mentioned above, not pip.\r\n",
      "\u001b[1;36mhint\u001b[0m: See above for details.\r\n",
      "\u001b[?25hCollecting bnlp-toolkit==4.0.0.dev4\r\n",
      "  Downloading bnlp_toolkit-4.0.0.dev4-py3-none-any.whl (22 kB)\r\n",
      "Requirement already satisfied: sentencepiece in /opt/conda/lib/python3.10/site-packages (from bnlp-toolkit==4.0.0.dev4) (0.1.99)\r\n",
      "Requirement already satisfied: gensim in /opt/conda/lib/python3.10/site-packages (from bnlp-toolkit==4.0.0.dev4) (4.3.2)\r\n",
      "Requirement already satisfied: nltk in /opt/conda/lib/python3.10/site-packages (from bnlp-toolkit==4.0.0.dev4) (3.2.4)\r\n",
      "Requirement already satisfied: numpy in /opt/conda/lib/python3.10/site-packages (from bnlp-toolkit==4.0.0.dev4) (1.23.5)\r\n",
      "Requirement already satisfied: scipy in /opt/conda/lib/python3.10/site-packages (from bnlp-toolkit==4.0.0.dev4) (1.11.2)\r\n",
      "Collecting sklearn-crfsuite (from bnlp-toolkit==4.0.0.dev4)\r\n",
      "  Downloading sklearn_crfsuite-0.3.6-py2.py3-none-any.whl (12 kB)\r\n",
      "Requirement already satisfied: tqdm in /opt/conda/lib/python3.10/site-packages (from bnlp-toolkit==4.0.0.dev4) (4.66.1)\r\n",
      "Collecting ftfy (from bnlp-toolkit==4.0.0.dev4)\r\n",
      "  Downloading ftfy-6.1.1-py3-none-any.whl (53 kB)\r\n",
      "\u001b[2K     \u001b[90m━━━━━━━━━━━━━━━━━━━━━━━━━━━━━━━━━━━━━━━━\u001b[0m \u001b[32m53.1/53.1 kB\u001b[0m \u001b[31m3.5 MB/s\u001b[0m eta \u001b[36m0:00:00\u001b[0m\r\n",
      "\u001b[?25hCollecting emoji==1.7.0 (from bnlp-toolkit==4.0.0.dev4)\r\n",
      "  Downloading emoji-1.7.0.tar.gz (175 kB)\r\n",
      "\u001b[2K     \u001b[90m━━━━━━━━━━━━━━━━━━━━━━━━━━━━━━━━━━━━━━\u001b[0m \u001b[32m175.4/175.4 kB\u001b[0m \u001b[31m10.7 MB/s\u001b[0m eta \u001b[36m0:00:00\u001b[0m\r\n",
      "\u001b[?25h  Preparing metadata (setup.py) ... \u001b[?25ldone\r\n",
      "\u001b[?25hRequirement already satisfied: requests in /opt/conda/lib/python3.10/site-packages (from bnlp-toolkit==4.0.0.dev4) (2.31.0)\r\n",
      "Requirement already satisfied: wcwidth>=0.2.5 in /opt/conda/lib/python3.10/site-packages (from ftfy->bnlp-toolkit==4.0.0.dev4) (0.2.6)\r\n",
      "Requirement already satisfied: smart-open>=1.8.1 in /opt/conda/lib/python3.10/site-packages (from gensim->bnlp-toolkit==4.0.0.dev4) (6.3.0)\r\n",
      "Requirement already satisfied: six in /opt/conda/lib/python3.10/site-packages (from nltk->bnlp-toolkit==4.0.0.dev4) (1.16.0)\r\n",
      "Requirement already satisfied: charset-normalizer<4,>=2 in /opt/conda/lib/python3.10/site-packages (from requests->bnlp-toolkit==4.0.0.dev4) (3.1.0)\r\n",
      "Requirement already satisfied: idna<4,>=2.5 in /opt/conda/lib/python3.10/site-packages (from requests->bnlp-toolkit==4.0.0.dev4) (3.4)\r\n",
      "Requirement already satisfied: urllib3<3,>=1.21.1 in /opt/conda/lib/python3.10/site-packages (from requests->bnlp-toolkit==4.0.0.dev4) (1.26.15)\r\n",
      "Requirement already satisfied: certifi>=2017.4.17 in /opt/conda/lib/python3.10/site-packages (from requests->bnlp-toolkit==4.0.0.dev4) (2023.7.22)\r\n",
      "Collecting python-crfsuite>=0.8.3 (from sklearn-crfsuite->bnlp-toolkit==4.0.0.dev4)\r\n",
      "  Downloading python_crfsuite-0.9.9-cp310-cp310-manylinux_2_17_x86_64.manylinux2014_x86_64.whl (993 kB)\r\n",
      "\u001b[2K     \u001b[90m━━━━━━━━━━━━━━━━━━━━━━━━━━━━━━━━━━━━━━\u001b[0m \u001b[32m993.5/993.5 kB\u001b[0m \u001b[31m35.3 MB/s\u001b[0m eta \u001b[36m0:00:00\u001b[0m\r\n",
      "\u001b[?25hRequirement already satisfied: tabulate in /opt/conda/lib/python3.10/site-packages (from sklearn-crfsuite->bnlp-toolkit==4.0.0.dev4) (0.9.0)\r\n",
      "Building wheels for collected packages: emoji\r\n",
      "  Building wheel for emoji (setup.py) ... \u001b[?25l-\b \bdone\r\n",
      "\u001b[?25h  Created wheel for emoji: filename=emoji-1.7.0-py3-none-any.whl size=171033 sha256=61e5b4ee01622ddd21e09eea1ef1686181cb247c795b3d5e42d8e8149fd1ccee\r\n",
      "  Stored in directory: /root/.cache/pip/wheels/31/8a/8c/315c9e5d7773f74b33d5ed33f075b49c6eaeb7cedbb86e2cf8\r\n",
      "Successfully built emoji\r\n",
      "Installing collected packages: python-crfsuite, emoji, sklearn-crfsuite, ftfy, bnlp-toolkit\r\n",
      "  Attempting uninstall: emoji\r\n",
      "    Found existing installation: emoji 2.8.0\r\n",
      "    Uninstalling emoji-2.8.0:\r\n",
      "      Successfully uninstalled emoji-2.8.0\r\n",
      "Successfully installed bnlp-toolkit-4.0.0.dev4 emoji-1.7.0 ftfy-6.1.1 python-crfsuite-0.9.9 sklearn-crfsuite-0.3.6\r\n"
     ]
    }
   ],
   "source": [
    "!pip install bnltk\n",
    "!pip install bnlp-toolkit==4.0.0.dev4"
   ]
  },
  {
   "cell_type": "code",
   "execution_count": 5,
   "id": "96efd510",
   "metadata": {
    "execution": {
     "iopub.execute_input": "2023-10-15T18:45:58.118462Z",
     "iopub.status.busy": "2023-10-15T18:45:58.118115Z",
     "iopub.status.idle": "2023-10-15T18:46:06.695365Z",
     "shell.execute_reply": "2023-10-15T18:46:06.694203Z"
    },
    "papermill": {
     "duration": 8.585431,
     "end_time": "2023-10-15T18:46:06.697571",
     "exception": false,
     "start_time": "2023-10-15T18:45:58.112140",
     "status": "completed"
    },
    "tags": []
   },
   "outputs": [
    {
     "name": "stdout",
     "output_type": "stream",
     "text": [
      "Collecting BnLemma\r\n",
      "  Downloading BnLemma-2.1-py3-none-any.whl (57 kB)\r\n",
      "\u001b[2K     \u001b[90m━━━━━━━━━━━━━━━━━━━━━━━━━━━━━━━━━━━━━━━━\u001b[0m \u001b[32m57.6/57.6 kB\u001b[0m \u001b[31m2.9 MB/s\u001b[0m eta \u001b[36m0:00:00\u001b[0m\r\n",
      "\u001b[?25hInstalling collected packages: BnLemma\r\n",
      "Successfully installed BnLemma-2.1\r\n"
     ]
    }
   ],
   "source": [
    "!pip install BnLemma"
   ]
  },
  {
   "cell_type": "code",
   "execution_count": 6,
   "id": "f011f7e3",
   "metadata": {
    "execution": {
     "iopub.execute_input": "2023-10-15T18:46:06.709537Z",
     "iopub.status.busy": "2023-10-15T18:46:06.709210Z",
     "iopub.status.idle": "2023-10-15T18:46:06.744567Z",
     "shell.execute_reply": "2023-10-15T18:46:06.743658Z"
    },
    "papermill": {
     "duration": 0.043337,
     "end_time": "2023-10-15T18:46:06.746307",
     "exception": false,
     "start_time": "2023-10-15T18:46:06.702970",
     "status": "completed"
    },
    "tags": []
   },
   "outputs": [
    {
     "data": {
      "text/plain": [
       "10392"
      ]
     },
     "execution_count": 6,
     "metadata": {},
     "output_type": "execute_result"
    }
   ],
   "source": [
    "df = pd.concat([auth[:fake.shape[0]*7], fake])\n",
    "df = df.sample(frac=1).reset_index(drop=True)\n",
    "len(df)"
   ]
  },
  {
   "cell_type": "code",
   "execution_count": 7,
   "id": "a3ba384c",
   "metadata": {
    "execution": {
     "iopub.execute_input": "2023-10-15T18:46:06.758044Z",
     "iopub.status.busy": "2023-10-15T18:46:06.757766Z",
     "iopub.status.idle": "2023-10-15T18:46:06.775418Z",
     "shell.execute_reply": "2023-10-15T18:46:06.774575Z"
    },
    "papermill": {
     "duration": 0.025594,
     "end_time": "2023-10-15T18:46:06.777190",
     "exception": false,
     "start_time": "2023-10-15T18:46:06.751596",
     "status": "completed"
    },
    "tags": []
   },
   "outputs": [],
   "source": [
    "df = df.drop('domain', axis=1)\n",
    "df = df.drop('date', axis=1)\n",
    "df = df.drop('category', axis=1)\n",
    "df = df.drop('articleID', axis=1)"
   ]
  },
  {
   "cell_type": "code",
   "execution_count": 8,
   "id": "40db2dc7",
   "metadata": {
    "execution": {
     "iopub.execute_input": "2023-10-15T18:46:06.789592Z",
     "iopub.status.busy": "2023-10-15T18:46:06.788698Z",
     "iopub.status.idle": "2023-10-15T18:46:06.832564Z",
     "shell.execute_reply": "2023-10-15T18:46:06.831671Z"
    },
    "papermill": {
     "duration": 0.051936,
     "end_time": "2023-10-15T18:46:06.834566",
     "exception": false,
     "start_time": "2023-10-15T18:46:06.782630",
     "status": "completed"
    },
    "tags": []
   },
   "outputs": [],
   "source": [
    "df['data'] = df['headline'] + ' ' + df['content']"
   ]
  },
  {
   "cell_type": "code",
   "execution_count": 9,
   "id": "f2925eab",
   "metadata": {
    "execution": {
     "iopub.execute_input": "2023-10-15T18:46:06.846890Z",
     "iopub.status.busy": "2023-10-15T18:46:06.846077Z",
     "iopub.status.idle": "2023-10-15T18:46:06.852393Z",
     "shell.execute_reply": "2023-10-15T18:46:06.851652Z"
    },
    "papermill": {
     "duration": 0.01395,
     "end_time": "2023-10-15T18:46:06.854075",
     "exception": false,
     "start_time": "2023-10-15T18:46:06.840125",
     "status": "completed"
    },
    "tags": []
   },
   "outputs": [],
   "source": [
    "df['class'] = df['label'].replace({0: 'fake', 1: 'true'})"
   ]
  },
  {
   "cell_type": "code",
   "execution_count": 10,
   "id": "3c23dc7e",
   "metadata": {
    "execution": {
     "iopub.execute_input": "2023-10-15T18:46:06.865632Z",
     "iopub.status.busy": "2023-10-15T18:46:06.864925Z",
     "iopub.status.idle": "2023-10-15T18:46:06.873859Z",
     "shell.execute_reply": "2023-10-15T18:46:06.873089Z"
    },
    "papermill": {
     "duration": 0.016444,
     "end_time": "2023-10-15T18:46:06.875524",
     "exception": false,
     "start_time": "2023-10-15T18:46:06.859080",
     "status": "completed"
    },
    "tags": []
   },
   "outputs": [],
   "source": [
    "df = df.drop('headline', axis=1)\n",
    "df = df.drop('content', axis=1)\n",
    "df = df.drop('label', axis=1)\n",
    "\n",
    "\n"
   ]
  },
  {
   "cell_type": "code",
   "execution_count": 11,
   "id": "deaf7d03",
   "metadata": {
    "execution": {
     "iopub.execute_input": "2023-10-15T18:46:06.887695Z",
     "iopub.status.busy": "2023-10-15T18:46:06.886926Z",
     "iopub.status.idle": "2023-10-15T18:46:06.895952Z",
     "shell.execute_reply": "2023-10-15T18:46:06.895136Z"
    },
    "papermill": {
     "duration": 0.016513,
     "end_time": "2023-10-15T18:46:06.897634",
     "exception": false,
     "start_time": "2023-10-15T18:46:06.881121",
     "status": "completed"
    },
    "tags": []
   },
   "outputs": [
    {
     "data": {
      "text/plain": [
       "class\n",
       "true    9093\n",
       "fake    1299\n",
       "Name: count, dtype: int64"
      ]
     },
     "execution_count": 11,
     "metadata": {},
     "output_type": "execute_result"
    }
   ],
   "source": [
    "df[\"class\"].value_counts()"
   ]
  },
  {
   "cell_type": "code",
   "execution_count": 12,
   "id": "818bfcbc",
   "metadata": {
    "execution": {
     "iopub.execute_input": "2023-10-15T18:46:06.909673Z",
     "iopub.status.busy": "2023-10-15T18:46:06.908907Z",
     "iopub.status.idle": "2023-10-15T18:46:06.918720Z",
     "shell.execute_reply": "2023-10-15T18:46:06.917842Z"
    },
    "papermill": {
     "duration": 0.017421,
     "end_time": "2023-10-15T18:46:06.920344",
     "exception": false,
     "start_time": "2023-10-15T18:46:06.902923",
     "status": "completed"
    },
    "tags": []
   },
   "outputs": [
    {
     "data": {
      "text/plain": [
       "class\n",
       "true    9093\n",
       "fake    1299\n",
       "Name: count, dtype: int64"
      ]
     },
     "execution_count": 12,
     "metadata": {},
     "output_type": "execute_result"
    }
   ],
   "source": [
    "df.dropna(inplace=True)\n",
    "df[\"class\"].value_counts()"
   ]
  },
  {
   "cell_type": "code",
   "execution_count": 13,
   "id": "109cf086",
   "metadata": {
    "execution": {
     "iopub.execute_input": "2023-10-15T18:46:06.932454Z",
     "iopub.status.busy": "2023-10-15T18:46:06.932047Z",
     "iopub.status.idle": "2023-10-15T18:46:06.935746Z",
     "shell.execute_reply": "2023-10-15T18:46:06.934795Z"
    },
    "papermill": {
     "duration": 0.011727,
     "end_time": "2023-10-15T18:46:06.937406",
     "exception": false,
     "start_time": "2023-10-15T18:46:06.925679",
     "status": "completed"
    },
    "tags": []
   },
   "outputs": [],
   "source": [
    "#for column in df.columns:\n",
    "#    df[column] = df[column].str.slice(0, 100)"
   ]
  },
  {
   "cell_type": "code",
   "execution_count": 14,
   "id": "454ab160",
   "metadata": {
    "execution": {
     "iopub.execute_input": "2023-10-15T18:46:06.949774Z",
     "iopub.status.busy": "2023-10-15T18:46:06.949070Z",
     "iopub.status.idle": "2023-10-15T18:46:06.956427Z",
     "shell.execute_reply": "2023-10-15T18:46:06.955569Z"
    },
    "papermill": {
     "duration": 0.015279,
     "end_time": "2023-10-15T18:46:06.958142",
     "exception": false,
     "start_time": "2023-10-15T18:46:06.942863",
     "status": "completed"
    },
    "tags": []
   },
   "outputs": [
    {
     "data": {
      "text/plain": [
       "class\n",
       "true    9093\n",
       "fake    1299\n",
       "Name: count, dtype: int64"
      ]
     },
     "execution_count": 14,
     "metadata": {},
     "output_type": "execute_result"
    }
   ],
   "source": [
    "df[\"class\"].value_counts()"
   ]
  },
  {
   "cell_type": "code",
   "execution_count": 15,
   "id": "e4dbf428",
   "metadata": {
    "execution": {
     "iopub.execute_input": "2023-10-15T18:46:06.970904Z",
     "iopub.status.busy": "2023-10-15T18:46:06.970243Z",
     "iopub.status.idle": "2023-10-15T18:46:06.988499Z",
     "shell.execute_reply": "2023-10-15T18:46:06.987289Z"
    },
    "papermill": {
     "duration": 0.026425,
     "end_time": "2023-10-15T18:46:06.990299",
     "exception": false,
     "start_time": "2023-10-15T18:46:06.963874",
     "status": "completed"
    },
    "tags": []
   },
   "outputs": [
    {
     "name": "stdout",
     "output_type": "stream",
     "text": [
      "       data  class\n",
      "0      1294      4\n",
      "1      1448      4\n",
      "2      1205      4\n",
      "3      1020      4\n",
      "4       786      4\n",
      "...     ...    ...\n",
      "10387  4273      4\n",
      "10388  1036      4\n",
      "10389  3180      4\n",
      "10390   636      4\n",
      "10391  2396      4\n",
      "\n",
      "[10392 rows x 2 columns]\n"
     ]
    }
   ],
   "source": [
    "df_lengths = df.applymap(lambda x: len(str(x)))\n",
    "\n",
    "# Display the DataFrame with string lengths\n",
    "print(df_lengths)"
   ]
  },
  {
   "cell_type": "code",
   "execution_count": 16,
   "id": "2da08e78",
   "metadata": {
    "execution": {
     "iopub.execute_input": "2023-10-15T18:46:07.002845Z",
     "iopub.status.busy": "2023-10-15T18:46:07.002450Z",
     "iopub.status.idle": "2023-10-15T18:46:53.912527Z",
     "shell.execute_reply": "2023-10-15T18:46:53.911539Z"
    },
    "papermill": {
     "duration": 46.918986,
     "end_time": "2023-10-15T18:46:53.914880",
     "exception": false,
     "start_time": "2023-10-15T18:46:06.995894",
     "status": "completed"
    },
    "tags": []
   },
   "outputs": [],
   "source": [
    "#Tokenizer\n",
    "from bnlp import NLTKTokenizer\n",
    "bnltk = NLTKTokenizer()\n",
    "\n",
    "#for Train Set\n",
    "for i in range(0,df.shape[0]):\n",
    "    text = bnltk.word_tokenize(df['data'][i])\n",
    "    df['data'][i] = str(text)\n"
   ]
  },
  {
   "cell_type": "code",
   "execution_count": 17,
   "id": "5ca1772a",
   "metadata": {
    "execution": {
     "iopub.execute_input": "2023-10-15T18:46:53.928124Z",
     "iopub.status.busy": "2023-10-15T18:46:53.927841Z",
     "iopub.status.idle": "2023-10-15T18:47:03.971205Z",
     "shell.execute_reply": "2023-10-15T18:47:03.970237Z"
    },
    "papermill": {
     "duration": 10.052293,
     "end_time": "2023-10-15T18:47:03.973330",
     "exception": false,
     "start_time": "2023-10-15T18:46:53.921037",
     "status": "completed"
    },
    "tags": []
   },
   "outputs": [],
   "source": [
    "from bnlp import BengaliCorpus as corpus\n",
    "\n",
    "stop_words = set(corpus.stopwords)\n",
    "\n",
    "\n",
    "for i in range(0,df.shape[0]):\n",
    "    words = df['data'][i]\n",
    "    df['data'][i] =  str([word for word in words if word.lower() not in stop_words])"
   ]
  },
  {
   "cell_type": "code",
   "execution_count": 18,
   "id": "b42e952d",
   "metadata": {
    "execution": {
     "iopub.execute_input": "2023-10-15T18:47:03.986888Z",
     "iopub.status.busy": "2023-10-15T18:47:03.986603Z",
     "iopub.status.idle": "2023-10-15T18:47:03.991442Z",
     "shell.execute_reply": "2023-10-15T18:47:03.990486Z"
    },
    "papermill": {
     "duration": 0.013451,
     "end_time": "2023-10-15T18:47:03.993113",
     "exception": false,
     "start_time": "2023-10-15T18:47:03.979662",
     "status": "completed"
    },
    "tags": []
   },
   "outputs": [],
   "source": [
    "text = df['data'].values.tolist()\n",
    "label = df['class'].tolist()"
   ]
  },
  {
   "cell_type": "code",
   "execution_count": 19,
   "id": "f4dcf239",
   "metadata": {
    "execution": {
     "iopub.execute_input": "2023-10-15T18:47:04.005515Z",
     "iopub.status.busy": "2023-10-15T18:47:04.005248Z",
     "iopub.status.idle": "2023-10-15T18:47:04.013669Z",
     "shell.execute_reply": "2023-10-15T18:47:04.012877Z"
    },
    "papermill": {
     "duration": 0.016506,
     "end_time": "2023-10-15T18:47:04.015286",
     "exception": false,
     "start_time": "2023-10-15T18:47:03.998780",
     "status": "completed"
    },
    "tags": []
   },
   "outputs": [],
   "source": [
    "from sklearn.model_selection import train_test_split\n",
    "X_train, X_test, y_train, y_test = train_test_split(text , label, test_size=0.2, random_state=42)"
   ]
  },
  {
   "cell_type": "code",
   "execution_count": 20,
   "id": "f0759586",
   "metadata": {
    "execution": {
     "iopub.execute_input": "2023-10-15T18:47:04.028114Z",
     "iopub.status.busy": "2023-10-15T18:47:04.027330Z",
     "iopub.status.idle": "2023-10-15T18:47:41.824649Z",
     "shell.execute_reply": "2023-10-15T18:47:41.823458Z"
    },
    "papermill": {
     "duration": 37.805745,
     "end_time": "2023-10-15T18:47:41.826708",
     "exception": false,
     "start_time": "2023-10-15T18:47:04.020963",
     "status": "completed"
    },
    "tags": []
   },
   "outputs": [
    {
     "name": "stdout",
     "output_type": "stream",
     "text": [
      "Collecting ktrain\r\n",
      "  Downloading ktrain-0.38.0.tar.gz (25.3 MB)\r\n",
      "\u001b[2K     \u001b[90m━━━━━━━━━━━━━━━━━━━━━━━━━━━━━━━━━━━━━━━━\u001b[0m \u001b[32m25.3/25.3 MB\u001b[0m \u001b[31m44.4 MB/s\u001b[0m eta \u001b[36m0:00:00\u001b[0m\r\n",
      "\u001b[?25h  Preparing metadata (setup.py) ... \u001b[?25ldone\r\n",
      "\u001b[?25hRequirement already satisfied: scikit-learn in /opt/conda/lib/python3.10/site-packages (from ktrain) (1.2.2)\r\n",
      "Requirement already satisfied: matplotlib>=3.0.0 in /opt/conda/lib/python3.10/site-packages (from ktrain) (3.7.2)\r\n",
      "Requirement already satisfied: pandas>=1.0.1 in /opt/conda/lib/python3.10/site-packages (from ktrain) (2.0.2)\r\n",
      "Requirement already satisfied: fastprogress>=0.1.21 in /opt/conda/lib/python3.10/site-packages (from ktrain) (1.0.3)\r\n",
      "Requirement already satisfied: requests in /opt/conda/lib/python3.10/site-packages (from ktrain) (2.31.0)\r\n",
      "Requirement already satisfied: joblib in /opt/conda/lib/python3.10/site-packages (from ktrain) (1.3.2)\r\n",
      "Requirement already satisfied: packaging in /opt/conda/lib/python3.10/site-packages (from ktrain) (21.3)\r\n",
      "Collecting langdetect (from ktrain)\r\n",
      "  Downloading langdetect-1.0.9.tar.gz (981 kB)\r\n",
      "\u001b[2K     \u001b[90m━━━━━━━━━━━━━━━━━━━━━━━━━━━━━━━━━━━━━━\u001b[0m \u001b[32m981.5/981.5 kB\u001b[0m \u001b[31m45.9 MB/s\u001b[0m eta \u001b[36m0:00:00\u001b[0m\r\n",
      "\u001b[?25h  Preparing metadata (setup.py) ... \u001b[?25ldone\r\n",
      "\u001b[?25hRequirement already satisfied: jieba in /opt/conda/lib/python3.10/site-packages (from ktrain) (0.42.1)\r\n",
      "Collecting cchardet (from ktrain)\r\n",
      "  Downloading cchardet-2.1.7.tar.gz (653 kB)\r\n",
      "\u001b[2K     \u001b[90m━━━━━━━━━━━━━━━━━━━━━━━━━━━━━━━━━━━━━━\u001b[0m \u001b[32m653.6/653.6 kB\u001b[0m \u001b[31m41.5 MB/s\u001b[0m eta \u001b[36m0:00:00\u001b[0m\r\n",
      "\u001b[?25h  Preparing metadata (setup.py) ... \u001b[?25l-\b \bdone\r\n",
      "\u001b[?25hCollecting chardet (from ktrain)\r\n",
      "  Downloading chardet-5.2.0-py3-none-any.whl (199 kB)\r\n",
      "\u001b[2K     \u001b[90m━━━━━━━━━━━━━━━━━━━━━━━━━━━━━━━━━━━━━━\u001b[0m \u001b[32m199.4/199.4 kB\u001b[0m \u001b[31m16.6 MB/s\u001b[0m eta \u001b[36m0:00:00\u001b[0m\r\n",
      "\u001b[?25hCollecting syntok>1.3.3 (from ktrain)\r\n",
      "  Downloading syntok-1.4.4-py3-none-any.whl (24 kB)\r\n",
      "Collecting tika (from ktrain)\r\n",
      "  Downloading tika-2.6.0.tar.gz (27 kB)\r\n",
      "  Preparing metadata (setup.py) ... \u001b[?25ldone\r\n",
      "\u001b[?25hRequirement already satisfied: transformers>=4.17.0 in /opt/conda/lib/python3.10/site-packages (from ktrain) (4.33.0)\r\n",
      "Requirement already satisfied: sentencepiece in /opt/conda/lib/python3.10/site-packages (from ktrain) (0.1.99)\r\n",
      "Collecting keras_bert>=0.86.0 (from ktrain)\r\n",
      "  Downloading keras-bert-0.89.0.tar.gz (25 kB)\r\n",
      "  Preparing metadata (setup.py) ... \u001b[?25ldone\r\n",
      "\u001b[?25hCollecting whoosh (from ktrain)\r\n",
      "  Downloading Whoosh-2.7.4-py2.py3-none-any.whl (468 kB)\r\n",
      "\u001b[2K     \u001b[90m━━━━━━━━━━━━━━━━━━━━━━━━━━━━━━━━━━━━━━\u001b[0m \u001b[32m468.8/468.8 kB\u001b[0m \u001b[31m33.3 MB/s\u001b[0m eta \u001b[36m0:00:00\u001b[0m\r\n",
      "\u001b[?25hRequirement already satisfied: numpy in /opt/conda/lib/python3.10/site-packages (from keras_bert>=0.86.0->ktrain) (1.23.5)\r\n",
      "Collecting keras-transformer==0.40.0 (from keras_bert>=0.86.0->ktrain)\r\n",
      "  Downloading keras-transformer-0.40.0.tar.gz (9.7 kB)\r\n",
      "  Preparing metadata (setup.py) ... \u001b[?25ldone\r\n",
      "\u001b[?25hCollecting keras-pos-embd==0.13.0 (from keras-transformer==0.40.0->keras_bert>=0.86.0->ktrain)\r\n",
      "  Downloading keras-pos-embd-0.13.0.tar.gz (5.6 kB)\r\n",
      "  Preparing metadata (setup.py) ... \u001b[?25ldone\r\n",
      "\u001b[?25hCollecting keras-multi-head==0.29.0 (from keras-transformer==0.40.0->keras_bert>=0.86.0->ktrain)\r\n",
      "  Downloading keras-multi-head-0.29.0.tar.gz (13 kB)\r\n",
      "  Preparing metadata (setup.py) ... \u001b[?25ldone\r\n",
      "\u001b[?25hCollecting keras-layer-normalization==0.16.0 (from keras-transformer==0.40.0->keras_bert>=0.86.0->ktrain)\r\n",
      "  Downloading keras-layer-normalization-0.16.0.tar.gz (3.9 kB)\r\n",
      "  Preparing metadata (setup.py) ... \u001b[?25ldone\r\n",
      "\u001b[?25hCollecting keras-position-wise-feed-forward==0.8.0 (from keras-transformer==0.40.0->keras_bert>=0.86.0->ktrain)\r\n",
      "  Downloading keras-position-wise-feed-forward-0.8.0.tar.gz (4.1 kB)\r\n",
      "  Preparing metadata (setup.py) ... \u001b[?25ldone\r\n",
      "\u001b[?25hCollecting keras-embed-sim==0.10.0 (from keras-transformer==0.40.0->keras_bert>=0.86.0->ktrain)\r\n",
      "  Downloading keras-embed-sim-0.10.0.tar.gz (3.6 kB)\r\n",
      "  Preparing metadata (setup.py) ... \u001b[?25ldone\r\n",
      "\u001b[?25hCollecting keras-self-attention==0.51.0 (from keras-multi-head==0.29.0->keras-transformer==0.40.0->keras_bert>=0.86.0->ktrain)\r\n",
      "  Downloading keras-self-attention-0.51.0.tar.gz (11 kB)\r\n",
      "  Preparing metadata (setup.py) ... \u001b[?25ldone\r\n",
      "\u001b[?25hRequirement already satisfied: contourpy>=1.0.1 in /opt/conda/lib/python3.10/site-packages (from matplotlib>=3.0.0->ktrain) (1.1.0)\r\n",
      "Requirement already satisfied: cycler>=0.10 in /opt/conda/lib/python3.10/site-packages (from matplotlib>=3.0.0->ktrain) (0.11.0)\r\n",
      "Requirement already satisfied: fonttools>=4.22.0 in /opt/conda/lib/python3.10/site-packages (from matplotlib>=3.0.0->ktrain) (4.40.0)\r\n",
      "Requirement already satisfied: kiwisolver>=1.0.1 in /opt/conda/lib/python3.10/site-packages (from matplotlib>=3.0.0->ktrain) (1.4.4)\r\n",
      "Requirement already satisfied: pillow>=6.2.0 in /opt/conda/lib/python3.10/site-packages (from matplotlib>=3.0.0->ktrain) (9.5.0)\r\n",
      "Requirement already satisfied: pyparsing<3.1,>=2.3.1 in /opt/conda/lib/python3.10/site-packages (from matplotlib>=3.0.0->ktrain) (3.0.9)\r\n",
      "Requirement already satisfied: python-dateutil>=2.7 in /opt/conda/lib/python3.10/site-packages (from matplotlib>=3.0.0->ktrain) (2.8.2)\r\n",
      "Requirement already satisfied: pytz>=2020.1 in /opt/conda/lib/python3.10/site-packages (from pandas>=1.0.1->ktrain) (2023.3)\r\n",
      "Requirement already satisfied: tzdata>=2022.1 in /opt/conda/lib/python3.10/site-packages (from pandas>=1.0.1->ktrain) (2023.3)\r\n",
      "Requirement already satisfied: regex>2016 in /opt/conda/lib/python3.10/site-packages (from syntok>1.3.3->ktrain) (2023.6.3)\r\n",
      "Requirement already satisfied: filelock in /opt/conda/lib/python3.10/site-packages (from transformers>=4.17.0->ktrain) (3.12.2)\r\n",
      "Requirement already satisfied: huggingface-hub<1.0,>=0.15.1 in /opt/conda/lib/python3.10/site-packages (from transformers>=4.17.0->ktrain) (0.16.4)\r\n",
      "Requirement already satisfied: pyyaml>=5.1 in /opt/conda/lib/python3.10/site-packages (from transformers>=4.17.0->ktrain) (6.0)\r\n",
      "Requirement already satisfied: tokenizers!=0.11.3,<0.14,>=0.11.1 in /opt/conda/lib/python3.10/site-packages (from transformers>=4.17.0->ktrain) (0.13.3)\r\n",
      "Requirement already satisfied: safetensors>=0.3.1 in /opt/conda/lib/python3.10/site-packages (from transformers>=4.17.0->ktrain) (0.3.3)\r\n",
      "Requirement already satisfied: tqdm>=4.27 in /opt/conda/lib/python3.10/site-packages (from transformers>=4.17.0->ktrain) (4.66.1)\r\n",
      "Requirement already satisfied: six in /opt/conda/lib/python3.10/site-packages (from langdetect->ktrain) (1.16.0)\r\n",
      "Requirement already satisfied: charset-normalizer<4,>=2 in /opt/conda/lib/python3.10/site-packages (from requests->ktrain) (3.1.0)\r\n",
      "Requirement already satisfied: idna<4,>=2.5 in /opt/conda/lib/python3.10/site-packages (from requests->ktrain) (3.4)\r\n",
      "Requirement already satisfied: urllib3<3,>=1.21.1 in /opt/conda/lib/python3.10/site-packages (from requests->ktrain) (1.26.15)\r\n",
      "Requirement already satisfied: certifi>=2017.4.17 in /opt/conda/lib/python3.10/site-packages (from requests->ktrain) (2023.7.22)\r\n",
      "Requirement already satisfied: scipy>=1.3.2 in /opt/conda/lib/python3.10/site-packages (from scikit-learn->ktrain) (1.11.2)\r\n",
      "Requirement already satisfied: threadpoolctl>=2.0.0 in /opt/conda/lib/python3.10/site-packages (from scikit-learn->ktrain) (3.1.0)\r\n",
      "Requirement already satisfied: setuptools in /opt/conda/lib/python3.10/site-packages (from tika->ktrain) (68.0.0)\r\n",
      "Requirement already satisfied: fsspec in /opt/conda/lib/python3.10/site-packages (from huggingface-hub<1.0,>=0.15.1->transformers>=4.17.0->ktrain) (2023.9.0)\r\n",
      "Requirement already satisfied: typing-extensions>=3.7.4.3 in /opt/conda/lib/python3.10/site-packages (from huggingface-hub<1.0,>=0.15.1->transformers>=4.17.0->ktrain) (4.6.3)\r\n",
      "Building wheels for collected packages: ktrain, keras_bert, keras-transformer, keras-embed-sim, keras-layer-normalization, keras-multi-head, keras-pos-embd, keras-position-wise-feed-forward, keras-self-attention, cchardet, langdetect, tika\r\n",
      "  Building wheel for ktrain (setup.py) ... \u001b[?25l-\b \bdone\r\n",
      "\u001b[?25h  Created wheel for ktrain: filename=ktrain-0.38.0-py3-none-any.whl size=25319964 sha256=6b89d3c746af5d439795e61473c681dc68245db71fb1d46cde77e047fa7ff9d7\r\n",
      "  Stored in directory: /root/.cache/pip/wheels/10/76/6b/5799f396ca78a8c38c7c6439a192ca88538a97cfb970946da5\r\n",
      "  Building wheel for keras_bert (setup.py) ... \u001b[?25l-\b \bdone\r\n",
      "\u001b[?25h  Created wheel for keras_bert: filename=keras_bert-0.89.0-py3-none-any.whl size=33501 sha256=e8a5e804e33a3e9b534800b5a7d862e22615794e1e0925c153c90e637de6e733\r\n",
      "  Stored in directory: /root/.cache/pip/wheels/89/0c/04/646b6fdf6375911b42c8d540a8a3fda8d5d77634e5dcbe7b26\r\n",
      "  Building wheel for keras-transformer (setup.py) ... \u001b[?25l-\b \bdone\r\n",
      "\u001b[?25h  Created wheel for keras-transformer: filename=keras_transformer-0.40.0-py3-none-any.whl size=12287 sha256=2d59a9b42cee24f4eb6a1295ceb6bff693f0447f714efcc72bda36c69e48b9fd\r\n",
      "  Stored in directory: /root/.cache/pip/wheels/f2/cb/22/75a0ad376129177f7c95c0d91331a18f5368fd657f4035ba7c\r\n",
      "  Building wheel for keras-embed-sim (setup.py) ... \u001b[?25l-\b \bdone\r\n",
      "\u001b[?25h  Created wheel for keras-embed-sim: filename=keras_embed_sim-0.10.0-py3-none-any.whl size=3943 sha256=8c5078c32ab8aab69fb12122cc50520bf5f26601ce5cae51f2730b60947fa51d\r\n",
      "  Stored in directory: /root/.cache/pip/wheels/82/32/c7/fd35d0d1b840a6c7cbd4343f808d10d0f7b87d271a4dbe796f\r\n",
      "  Building wheel for keras-layer-normalization (setup.py) ... \u001b[?25l-\b \bdone\r\n",
      "\u001b[?25h  Created wheel for keras-layer-normalization: filename=keras_layer_normalization-0.16.0-py3-none-any.whl size=4653 sha256=d83065b2508f89ef6ebd770bbe41a8d295274968a6280b1bae82d2128a8aae15\r\n",
      "  Stored in directory: /root/.cache/pip/wheels/ed/3a/4b/21db23c0cc56c4b219616e181f258eb7c57d36cc5d056fae9a\r\n",
      "  Building wheel for keras-multi-head (setup.py) ... \u001b[?25l-\b \bdone\r\n",
      "\u001b[?25h  Created wheel for keras-multi-head: filename=keras_multi_head-0.29.0-py3-none-any.whl size=14979 sha256=75275ceed9b5f9cb5f0a9b4028b01dba0a5b3d9e5d440fa927d19ead19fbf61e\r\n",
      "  Stored in directory: /root/.cache/pip/wheels/cb/23/4b/06d7ae21714f70fcc25b48f972cc8e5e7f4b6b764a038b509d\r\n",
      "  Building wheel for keras-pos-embd (setup.py) ... \u001b[?25l-\b \bdone\r\n",
      "\u001b[?25h  Created wheel for keras-pos-embd: filename=keras_pos_embd-0.13.0-py3-none-any.whl size=6946 sha256=96137efd4ac7fa3a4e505c52770cd9df0dceb9765965c653f3ab103189398987\r\n",
      "  Stored in directory: /root/.cache/pip/wheels/78/07/1b/b1ca47b6ac338554b75c8f52c54e6a2bfbe1b07d79579979a4\r\n",
      "  Building wheel for keras-position-wise-feed-forward (setup.py) ... \u001b[?25l-\b \bdone\r\n",
      "\u001b[?25h  Created wheel for keras-position-wise-feed-forward: filename=keras_position_wise_feed_forward-0.8.0-py3-none-any.whl size=4968 sha256=6b2fc08028adc2e8c1853bbd246c82a3831d190949025a4b43f3a12070213bb5\r\n",
      "  Stored in directory: /root/.cache/pip/wheels/c1/6a/04/d1706a53b23b2cb5f9a0a76269bf87925daa1bca09eac01b21\r\n",
      "  Building wheel for keras-self-attention (setup.py) ... \u001b[?25l-\b \bdone\r\n",
      "\u001b[?25h  Created wheel for keras-self-attention: filename=keras_self_attention-0.51.0-py3-none-any.whl size=18895 sha256=4d43803e59c98c19779f7fa3c8f8c18c3332fd902e79d24624e1633f95bb6908\r\n",
      "  Stored in directory: /root/.cache/pip/wheels/b8/f7/24/607b483144fb9c47b4ba2c5fba6b68e54aeee2d5bf6c05302e\r\n",
      "  Building wheel for cchardet (setup.py) ... \u001b[?25l-\b \b\\\b \bdone\r\n",
      "\u001b[?25h  Created wheel for cchardet: filename=cchardet-2.1.7-cp310-cp310-linux_x86_64.whl size=133763 sha256=b19c47debc0145359891cab385ae77015e8eb07a6ecbaf8a69b42ddcd0883b95\r\n",
      "  Stored in directory: /root/.cache/pip/wheels/ee/e0/ab/e01326f15c59438d080b1496dbab8091e952ec72f35e3c437e\r\n",
      "  Building wheel for langdetect (setup.py) ... \u001b[?25l-\b \bdone\r\n",
      "\u001b[?25h  Created wheel for langdetect: filename=langdetect-1.0.9-py3-none-any.whl size=993224 sha256=a7574d10e7ea6a9209089180716fd8cd37b2722cfa9933808ae118d185d556c1\r\n",
      "  Stored in directory: /root/.cache/pip/wheels/95/03/7d/59ea870c70ce4e5a370638b5462a7711ab78fba2f655d05106\r\n",
      "  Building wheel for tika (setup.py) ... \u001b[?25l-\b \bdone\r\n",
      "\u001b[?25h  Created wheel for tika: filename=tika-2.6.0-py3-none-any.whl size=32625 sha256=2790dd78270ef61d75979bb6fbf3dd4608d483d752ea9f308e23c154b0910506\r\n",
      "  Stored in directory: /root/.cache/pip/wheels/5f/71/c7/b757709531121b1700cffda5b6b0d4aad095fb507ec84316d0\r\n",
      "Successfully built ktrain keras_bert keras-transformer keras-embed-sim keras-layer-normalization keras-multi-head keras-pos-embd keras-position-wise-feed-forward keras-self-attention cchardet langdetect tika\r\n",
      "Installing collected packages: whoosh, cchardet, syntok, langdetect, keras-self-attention, keras-position-wise-feed-forward, keras-pos-embd, keras-layer-normalization, keras-embed-sim, chardet, tika, keras-multi-head, keras-transformer, keras_bert, ktrain\r\n",
      "Successfully installed cchardet-2.1.7 chardet-5.2.0 keras-embed-sim-0.10.0 keras-layer-normalization-0.16.0 keras-multi-head-0.29.0 keras-pos-embd-0.13.0 keras-position-wise-feed-forward-0.8.0 keras-self-attention-0.51.0 keras-transformer-0.40.0 keras_bert-0.89.0 ktrain-0.38.0 langdetect-1.0.9 syntok-1.4.4 tika-2.6.0 whoosh-2.7.4\r\n",
      "Note: you may need to restart the kernel to use updated packages.\n"
     ]
    }
   ],
   "source": [
    "pip install ktrain\n"
   ]
  },
  {
   "cell_type": "code",
   "execution_count": 21,
   "id": "1d2fe6c6",
   "metadata": {
    "execution": {
     "iopub.execute_input": "2023-10-15T18:47:41.846582Z",
     "iopub.status.busy": "2023-10-15T18:47:41.846196Z",
     "iopub.status.idle": "2023-10-15T18:47:55.410813Z",
     "shell.execute_reply": "2023-10-15T18:47:55.409820Z"
    },
    "papermill": {
     "duration": 13.577276,
     "end_time": "2023-10-15T18:47:55.413113",
     "exception": false,
     "start_time": "2023-10-15T18:47:41.835837",
     "status": "completed"
    },
    "tags": []
   },
   "outputs": [
    {
     "data": {
      "application/vnd.jupyter.widget-view+json": {
       "model_id": "f8785462b5984ed596f1a233c180ed6b",
       "version_major": 2,
       "version_minor": 0
      },
      "text/plain": [
       "Downloading (…)lve/main/config.json:   0%|          | 0.00/491 [00:00<?, ?B/s]"
      ]
     },
     "metadata": {},
     "output_type": "display_data"
    },
    {
     "data": {
      "application/vnd.jupyter.widget-view+json": {
       "model_id": "1df64b5faea045bea2049dc61275702e",
       "version_major": 2,
       "version_minor": 0
      },
      "text/plain": [
       "Downloading model.safetensors:   0%|          | 0.00/660M [00:00<?, ?B/s]"
      ]
     },
     "metadata": {},
     "output_type": "display_data"
    }
   ],
   "source": [
    "\n",
    "import ktrain\n",
    "from ktrain import text\n",
    "MODEL_NAME = 'sagorsarker/bangla-bert-base'\n",
    "t = text.Transformer(MODEL_NAME, maxlen=500)"
   ]
  },
  {
   "cell_type": "code",
   "execution_count": 22,
   "id": "ee4dfb09",
   "metadata": {
    "execution": {
     "iopub.execute_input": "2023-10-15T18:47:55.434988Z",
     "iopub.status.busy": "2023-10-15T18:47:55.434700Z",
     "iopub.status.idle": "2023-10-15T18:51:57.958036Z",
     "shell.execute_reply": "2023-10-15T18:51:57.957057Z"
    },
    "papermill": {
     "duration": 242.538312,
     "end_time": "2023-10-15T18:51:57.960938",
     "exception": false,
     "start_time": "2023-10-15T18:47:55.422626",
     "status": "completed"
    },
    "tags": []
   },
   "outputs": [
    {
     "name": "stdout",
     "output_type": "stream",
     "text": [
      "preprocessing train...\n",
      "language: bn\n",
      "train sequence lengths:\n",
      "\tmean : 3003\n",
      "\t95percentile : 7324\n",
      "\t99percentile : 12380\n"
     ]
    },
    {
     "data": {
      "application/vnd.jupyter.widget-view+json": {
       "model_id": "6cbe8f11b7164e408e267941814198c0",
       "version_major": 2,
       "version_minor": 0
      },
      "text/plain": [
       "Downloading (…)solve/main/vocab.txt:   0%|          | 0.00/2.24M [00:00<?, ?B/s]"
      ]
     },
     "metadata": {},
     "output_type": "display_data"
    },
    {
     "data": {
      "text/html": [
       "\n",
       "<style>\n",
       "    /* Turns off some styling */\n",
       "    progress {\n",
       "        /* gets rid of default border in Firefox and Opera. */\n",
       "        border: none;\n",
       "        /* Needs to be in here for Safari polyfill so background images work as expected. */\n",
       "        background-size: auto;\n",
       "    }\n",
       "    progress:not([value]), progress:not([value])::-webkit-progress-bar {\n",
       "        background: repeating-linear-gradient(45deg, #7e7e7e, #7e7e7e 10px, #5c5c5c 10px, #5c5c5c 20px);\n",
       "    }\n",
       "    .progress-bar-interrupted, .progress-bar-interrupted::-webkit-progress-bar {\n",
       "        background: #F44336;\n",
       "    }\n",
       "</style>\n"
      ],
      "text/plain": [
       "<IPython.core.display.HTML object>"
      ]
     },
     "metadata": {},
     "output_type": "display_data"
    },
    {
     "data": {
      "text/html": [],
      "text/plain": [
       "<IPython.core.display.HTML object>"
      ]
     },
     "metadata": {},
     "output_type": "display_data"
    },
    {
     "name": "stdout",
     "output_type": "stream",
     "text": [
      "Is Multi-Label? False\n",
      "preprocessing test...\n",
      "language: bn\n",
      "test sequence lengths:\n",
      "\tmean : 2883\n",
      "\t95percentile : 6791\n",
      "\t99percentile : 11722\n"
     ]
    },
    {
     "data": {
      "text/html": [
       "\n",
       "<style>\n",
       "    /* Turns off some styling */\n",
       "    progress {\n",
       "        /* gets rid of default border in Firefox and Opera. */\n",
       "        border: none;\n",
       "        /* Needs to be in here for Safari polyfill so background images work as expected. */\n",
       "        background-size: auto;\n",
       "    }\n",
       "    progress:not([value]), progress:not([value])::-webkit-progress-bar {\n",
       "        background: repeating-linear-gradient(45deg, #7e7e7e, #7e7e7e 10px, #5c5c5c 10px, #5c5c5c 20px);\n",
       "    }\n",
       "    .progress-bar-interrupted, .progress-bar-interrupted::-webkit-progress-bar {\n",
       "        background: #F44336;\n",
       "    }\n",
       "</style>\n"
      ],
      "text/plain": [
       "<IPython.core.display.HTML object>"
      ]
     },
     "metadata": {},
     "output_type": "display_data"
    },
    {
     "data": {
      "text/html": [],
      "text/plain": [
       "<IPython.core.display.HTML object>"
      ]
     },
     "metadata": {},
     "output_type": "display_data"
    }
   ],
   "source": [
    "trn = t.preprocess_train(X_train, y_train)\n",
    "val = t.preprocess_test(X_test, y_test)"
   ]
  },
  {
   "cell_type": "code",
   "execution_count": 23,
   "id": "e5892f77",
   "metadata": {
    "execution": {
     "iopub.execute_input": "2023-10-15T18:51:57.984025Z",
     "iopub.status.busy": "2023-10-15T18:51:57.983698Z",
     "iopub.status.idle": "2023-10-15T18:52:00.271698Z",
     "shell.execute_reply": "2023-10-15T18:52:00.270740Z"
    },
    "papermill": {
     "duration": 2.302644,
     "end_time": "2023-10-15T18:52:00.273876",
     "exception": false,
     "start_time": "2023-10-15T18:51:57.971232",
     "status": "completed"
    },
    "tags": []
   },
   "outputs": [],
   "source": [
    "model = t.get_classifier()"
   ]
  },
  {
   "cell_type": "code",
   "execution_count": 24,
   "id": "9ab82f99",
   "metadata": {
    "execution": {
     "iopub.execute_input": "2023-10-15T18:52:00.295698Z",
     "iopub.status.busy": "2023-10-15T18:52:00.295385Z",
     "iopub.status.idle": "2023-10-15T18:52:02.359672Z",
     "shell.execute_reply": "2023-10-15T18:52:02.358701Z"
    },
    "papermill": {
     "duration": 2.077473,
     "end_time": "2023-10-15T18:52:02.361802",
     "exception": false,
     "start_time": "2023-10-15T18:52:00.284329",
     "status": "completed"
    },
    "tags": []
   },
   "outputs": [],
   "source": [
    "learner = ktrain.get_learner(model, train_data=trn, val_data=val, batch_size=6)\n"
   ]
  },
  {
   "cell_type": "code",
   "execution_count": 25,
   "id": "b464567a",
   "metadata": {
    "execution": {
     "iopub.execute_input": "2023-10-15T18:52:02.383099Z",
     "iopub.status.busy": "2023-10-15T18:52:02.382818Z",
     "iopub.status.idle": "2023-10-15T20:21:50.143357Z",
     "shell.execute_reply": "2023-10-15T20:21:50.142285Z"
    },
    "papermill": {
     "duration": 5388.268633,
     "end_time": "2023-10-15T20:21:50.640667",
     "exception": false,
     "start_time": "2023-10-15T18:52:02.372034",
     "status": "completed"
    },
    "tags": []
   },
   "outputs": [
    {
     "name": "stdout",
     "output_type": "stream",
     "text": [
      "\n",
      "\n",
      "begin training using onecycle policy with max lr of 2e-05...\n",
      "Epoch 1/8\n",
      "1386/1386 [==============================] - 696s 487ms/step - loss: 0.3133 - accuracy: 0.8979 - val_loss: 0.2857 - val_accuracy: 0.9134\n",
      "Epoch 2/8\n",
      "1386/1386 [==============================] - 670s 484ms/step - loss: 0.2494 - accuracy: 0.9195 - val_loss: 0.2464 - val_accuracy: 0.9139\n",
      "Epoch 3/8\n",
      "1386/1386 [==============================] - 670s 484ms/step - loss: 0.2396 - accuracy: 0.9230 - val_loss: 0.2712 - val_accuracy: 0.9144\n",
      "Epoch 4/8\n",
      "1386/1386 [==============================] - 670s 483ms/step - loss: 0.2340 - accuracy: 0.9237 - val_loss: 0.2441 - val_accuracy: 0.9245\n",
      "Epoch 5/8\n",
      "1386/1386 [==============================] - 671s 484ms/step - loss: 0.2100 - accuracy: 0.9302 - val_loss: 0.2670 - val_accuracy: 0.9202\n",
      "Epoch 6/8\n",
      "1386/1386 [==============================] - 670s 484ms/step - loss: 0.1780 - accuracy: 0.9417 - val_loss: 0.2630 - val_accuracy: 0.9221\n",
      "Epoch 7/8\n",
      "1386/1386 [==============================] - 670s 483ms/step - loss: 0.1269 - accuracy: 0.9586 - val_loss: 0.2445 - val_accuracy: 0.9235\n",
      "Epoch 8/8\n",
      "1386/1386 [==============================] - 670s 483ms/step - loss: 0.0826 - accuracy: 0.9744 - val_loss: 0.2732 - val_accuracy: 0.9250\n"
     ]
    }
   ],
   "source": [
    "history = learner.fit_onecycle(2e-5, 8)\n"
   ]
  },
  {
   "cell_type": "code",
   "execution_count": 26,
   "id": "444b1feb",
   "metadata": {
    "execution": {
     "iopub.execute_input": "2023-10-15T20:21:51.677790Z",
     "iopub.status.busy": "2023-10-15T20:21:51.677261Z",
     "iopub.status.idle": "2023-10-15T20:22:38.063705Z",
     "shell.execute_reply": "2023-10-15T20:22:38.062713Z"
    },
    "papermill": {
     "duration": 46.934741,
     "end_time": "2023-10-15T20:22:38.065449",
     "exception": false,
     "start_time": "2023-10-15T20:21:51.130708",
     "status": "completed"
    },
    "tags": []
   },
   "outputs": [
    {
     "name": "stdout",
     "output_type": "stream",
     "text": [
      "65/65 [==============================] - 46s 666ms/step\n",
      "              precision    recall  f1-score   support\n",
      "\n",
      "        fake       0.81      0.54      0.65       267\n",
      "        true       0.94      0.98      0.96      1812\n",
      "\n",
      "    accuracy                           0.92      2079\n",
      "   macro avg       0.87      0.76      0.80      2079\n",
      "weighted avg       0.92      0.92      0.92      2079\n",
      "\n"
     ]
    },
    {
     "data": {
      "text/plain": [
       "array([[ 144,  123],\n",
       "       [  33, 1779]])"
      ]
     },
     "execution_count": 26,
     "metadata": {},
     "output_type": "execute_result"
    }
   ],
   "source": [
    "learner.validate(class_names=t.get_classes()) \n"
   ]
  },
  {
   "cell_type": "code",
   "execution_count": 27,
   "id": "fb905167",
   "metadata": {
    "execution": {
     "iopub.execute_input": "2023-10-15T20:22:39.137837Z",
     "iopub.status.busy": "2023-10-15T20:22:39.137496Z",
     "iopub.status.idle": "2023-10-15T20:22:39.145125Z",
     "shell.execute_reply": "2023-10-15T20:22:39.143993Z"
    },
    "papermill": {
     "duration": 0.584086,
     "end_time": "2023-10-15T20:22:39.148280",
     "exception": false,
     "start_time": "2023-10-15T20:22:38.564194",
     "status": "completed"
    },
    "tags": []
   },
   "outputs": [],
   "source": [
    "def PlotGraph(history):\n",
    "    acc = history.history['accuracy']\n",
    "    val_acc = history.history['val_accuracy']\n",
    "    loss = history.history['loss']\n",
    "    val_loss = history.history['val_loss']\n",
    "    x = range(1, len(acc) + 1)\n",
    "\n",
    "    plt.figure(figsize=(12, 5))\n",
    "    plt.subplot(1, 2, 1)\n",
    "    plt.plot(x, acc, 'g', label='Training acc')\n",
    "    plt.plot(x, val_acc, 'b', label='Validation acc')\n",
    "    plt.title('Training and validation accuracy')\n",
    "    plt.legend()\n",
    "    plt.subplot(1, 2, 2)\n",
    "    plt.plot(x, loss, 'g', label='Training loss')\n",
    "    plt.plot(x, val_loss, 'b', label='Validation loss')\n",
    "    plt.title('Training and validation loss')\n",
    "    plt.legend() "
   ]
  },
  {
   "cell_type": "code",
   "execution_count": 28,
   "id": "e7b8f8e9",
   "metadata": {
    "execution": {
     "iopub.execute_input": "2023-10-15T20:22:40.161483Z",
     "iopub.status.busy": "2023-10-15T20:22:40.160939Z",
     "iopub.status.idle": "2023-10-15T20:22:40.646013Z",
     "shell.execute_reply": "2023-10-15T20:22:40.645177Z"
    },
    "papermill": {
     "duration": 0.981074,
     "end_time": "2023-10-15T20:22:40.647906",
     "exception": false,
     "start_time": "2023-10-15T20:22:39.666832",
     "status": "completed"
    },
    "tags": []
   },
   "outputs": [
    {
     "data": {
      "image/png": "[encoded data removed]",
      "text/plain": [
       "<Figure size 1200x500 with 2 Axes>"
      ]
     },
     "metadata": {},
     "output_type": "display_data"
    }
   ],
   "source": [
    "PlotGraph(history)"
   ]
  },
  {
   "cell_type": "code",
   "execution_count": null,
   "id": "08c1db06",
   "metadata": {
    "papermill": {
     "duration": 0.489295,
     "end_time": "2023-10-15T20:22:41.698754",
     "exception": false,
     "start_time": "2023-10-15T20:22:41.209459",
     "status": "completed"
    },
    "tags": []
   },
   "outputs": [],
   "source": []
  }
 ],
 "metadata": {
  "kernelspec": {
   "display_name": "Python 3",
   "language": "python",
   "name": "python3"
  },
  "language_info": {
   "codemirror_mode": {
    "name": "ipython",
    "version": 3
   },
   "file_extension": ".py",
   "mimetype": "text/x-python",
   "name": "python",
   "nbconvert_exporter": "python",
   "pygments_lexer": "ipython3",
   "version": "3.10.12"
  },
  "papermill": {
   "default_parameters": {},
   "duration": 5843.334111,
   "end_time": "2023-10-15T20:22:45.282968",
   "environment_variables": {},
   "exception": null,
   "input_path": "__notebook__.ipynb",
   "output_path": "__notebook__.ipynb",
   "parameters": {},
   "start_time": "2023-10-15T18:45:21.948857",
   "version": "2.4.0"
  },
  "widgets": {
   "application/vnd.jupyter.widget-state+json": {
    "state": {
     "0f7ba0fbb5a641aabeddb6be34b96a62": {
      "model_module": "@jupyter-widgets/controls",
      "model_module_version": "1.5.0",
      "model_name": "FloatProgressModel",
      "state": {
       "_dom_classes": [],
       "_model_module": "@jupyter-widgets/controls",
       "_model_module_version": "1.5.0",
       "_model_name": "FloatProgressModel",
       "_view_count": null,
       "_view_module": "@jupyter-widgets/controls",
       "_view_module_version": "1.5.0",
       "_view_name": "ProgressView",
       "bar_style": "success",
       "description": "",
       "description_tooltip": null,
       "layout": "IPY_MODEL_ab2fab412f384e81b1f3d3b9291b711b",
       "max": 660393036.0,
       "min": 0.0,
       "orientation": "horizontal",
       "style": "IPY_MODEL_d22ceb6371a94935b9f81428037e046f",
       "value": 660393036.0
      }
     },
     "1df64b5faea045bea2049dc61275702e": {
      "model_module": "@jupyter-widgets/controls",
      "model_module_version": "1.5.0",
      "model_name": "HBoxModel",
      "state": {
       "_dom_classes": [],
       "_model_module": "@jupyter-widgets/controls",
       "_model_module_version": "1.5.0",
       "_model_name": "HBoxModel",
       "_view_count": null,
       "_view_module": "@jupyter-widgets/controls",
       "_view_module_version": "1.5.0",
       "_view_name": "HBoxView",
       "box_style": "",
       "children": [
        "IPY_MODEL_e07db301a13b47c48a13931ba8fc1d51",
        "IPY_MODEL_0f7ba0fbb5a641aabeddb6be34b96a62",
        "IPY_MODEL_bf230cbd651e49d7bca76a9c7098f410"
       ],
       "layout": "IPY_MODEL_3bfe8d0c84c94c5db568252237a8a87c"
      }
     },
     "25a0ab050ea146b09ccd3fb354982bf9": {
      "model_module": "@jupyter-widgets/base",
      "model_module_version": "1.2.0",
      "model_name": "LayoutModel",
      "state": {
       "_model_module": "@jupyter-widgets/base",
       "_model_module_version": "1.2.0",
       "_model_name": "LayoutModel",
       "_view_count": null,
       "_view_module": "@jupyter-widgets/base",
       "_view_module_version": "1.2.0",
       "_view_name": "LayoutView",
       "align_content": null,
       "align_items": null,
       "align_self": null,
       "border": null,
       "bottom": null,
       "display": null,
       "flex": null,
       "flex_flow": null,
       "grid_area": null,
       "grid_auto_columns": null,
       "grid_auto_flow": null,
       "grid_auto_rows": null,
       "grid_column": null,
       "grid_gap": null,
       "grid_row": null,
       "grid_template_areas": null,
       "grid_template_columns": null,
       "grid_template_rows": null,
       "height": null,
       "justify_content": null,
       "justify_items": null,
       "left": null,
       "margin": null,
       "max_height": null,
       "max_width": null,
       "min_height": null,
       "min_width": null,
       "object_fit": null,
       "object_position": null,
       "order": null,
       "overflow": null,
       "overflow_x": null,
       "overflow_y": null,
       "padding": null,
       "right": null,
       "top": null,
       "visibility": null,
       "width": null
      }
     },
     "2ba7b635d6f6443bafd83a785428081d": {
      "model_module": "@jupyter-widgets/base",
      "model_module_version": "1.2.0",
      "model_name": "LayoutModel",
      "state": {
       "_model_module": "@jupyter-widgets/base",
       "_model_module_version": "1.2.0",
       "_model_name": "LayoutModel",
       "_view_count": null,
       "_view_module": "@jupyter-widgets/base",
       "_view_module_version": "1.2.0",
       "_view_name": "LayoutView",
       "align_content": null,
       "align_items": null,
       "align_self": null,
       "border": null,
       "bottom": null,
       "display": null,
       "flex": null,
       "flex_flow": null,
       "grid_area": null,
       "grid_auto_columns": null,
       "grid_auto_flow": null,
       "grid_auto_rows": null,
       "grid_column": null,
       "grid_gap": null,
       "grid_row": null,
       "grid_template_areas": null,
       "grid_template_columns": null,
       "grid_template_rows": null,
       "height": null,
       "justify_content": null,
       "justify_items": null,
       "left": null,
       "margin": null,
       "max_height": null,
       "max_width": null,
       "min_height": null,
       "min_width": null,
       "object_fit": null,
       "object_position": null,
       "order": null,
       "overflow": null,
       "overflow_x": null,
       "overflow_y": null,
       "padding": null,
       "right": null,
       "top": null,
       "visibility": null,
       "width": null
      }
     },
     "3306992e4e674e8185708c16ff926594": {
      "model_module": "@jupyter-widgets/controls",
      "model_module_version": "1.5.0",
      "model_name": "DescriptionStyleModel",
      "state": {
       "_model_module": "@jupyter-widgets/controls",
       "_model_module_version": "1.5.0",
       "_model_name": "DescriptionStyleModel",
       "_view_count": null,
       "_view_module": "@jupyter-widgets/base",
       "_view_module_version": "1.2.0",
       "_view_name": "StyleView",
       "description_width": ""
      }
     },
     "3bfe8d0c84c94c5db568252237a8a87c": {
      "model_module": "@jupyter-widgets/base",
      "model_module_version": "1.2.0",
      "model_name": "LayoutModel",
      "state": {
       "_model_module": "@jupyter-widgets/base",
       "_model_module_version": "1.2.0",
       "_model_name": "LayoutModel",
       "_view_count": null,
       "_view_module": "@jupyter-widgets/base",
       "_view_module_version": "1.2.0",
       "_view_name": "LayoutView",
       "align_content": null,
       "align_items": null,
       "align_self": null,
       "border": null,
       "bottom": null,
       "display": null,
       "flex": null,
       "flex_flow": null,
       "grid_area": null,
       "grid_auto_columns": null,
       "grid_auto_flow": null,
       "grid_auto_rows": null,
       "grid_column": null,
       "grid_gap": null,
       "grid_row": null,
       "grid_template_areas": null,
       "grid_template_columns": null,
       "grid_template_rows": null,
       "height": null,
       "justify_content": null,
       "justify_items": null,
       "left": null,
       "margin": null,
       "max_height": null,
       "max_width": null,
       "min_height": null,
       "min_width": null,
       "object_fit": null,
       "object_position": null,
       "order": null,
       "overflow": null,
       "overflow_x": null,
       "overflow_y": null,
       "padding": null,
       "right": null,
       "top": null,
       "visibility": null,
       "width": null
      }
     },
     "5daf61d3736642f7be468ffbd53ef8f5": {
      "model_module": "@jupyter-widgets/base",
      "model_module_version": "1.2.0",
      "model_name": "LayoutModel",
      "state": {
       "_model_module": "@jupyter-widgets/base",
       "_model_module_version": "1.2.0",
       "_model_name": "LayoutModel",
       "_view_count": null,
       "_view_module": "@jupyter-widgets/base",
       "_view_module_version": "1.2.0",
       "_view_name": "LayoutView",
       "align_content": null,
       "align_items": null,
       "align_self": null,
       "border": null,
       "bottom": null,
       "display": null,
       "flex": null,
       "flex_flow": null,
       "grid_area": null,
       "grid_auto_columns": null,
       "grid_auto_flow": null,
       "grid_auto_rows": null,
       "grid_column": null,
       "grid_gap": null,
       "grid_row": null,
       "grid_template_areas": null,
       "grid_template_columns": null,
       "grid_template_rows": null,
       "height": null,
       "justify_content": null,
       "justify_items": null,
       "left": null,
       "margin": null,
       "max_height": null,
       "max_width": null,
       "min_height": null,
       "min_width": null,
       "object_fit": null,
       "object_position": null,
       "order": null,
       "overflow": null,
       "overflow_x": null,
       "overflow_y": null,
       "padding": null,
       "right": null,
       "top": null,
       "visibility": null,
       "width": null
      }
     },
     "5e0304eebc544d5c8f91f00ab945f126": {
      "model_module": "@jupyter-widgets/base",
      "model_module_version": "1.2.0",
      "model_name": "LayoutModel",
      "state": {
       "_model_module": "@jupyter-widgets/base",
       "_model_module_version": "1.2.0",
       "_model_name": "LayoutModel",
       "_view_count": null,
       "_view_module": "@jupyter-widgets/base",
       "_view_module_version": "1.2.0",
       "_view_name": "LayoutView",
       "align_content": null,
       "align_items": null,
       "align_self": null,
       "border": null,
       "bottom": null,
       "display": null,
       "flex": null,
       "flex_flow": null,
       "grid_area": null,
       "grid_auto_columns": null,
       "grid_auto_flow": null,
       "grid_auto_rows": null,
       "grid_column": null,
       "grid_gap": null,
       "grid_row": null,
       "grid_template_areas": null,
       "grid_template_columns": null,
       "grid_template_rows": null,
       "height": null,
       "justify_content": null,
       "justify_items": null,
       "left": null,
       "margin": null,
       "max_height": null,
       "max_width": null,
       "min_height": null,
       "min_width": null,
       "object_fit": null,
       "object_position": null,
       "order": null,
       "overflow": null,
       "overflow_x": null,
       "overflow_y": null,
       "padding": null,
       "right": null,
       "top": null,
       "visibility": null,
       "width": null
      }
     },
     "679c14b314d246d5bd70840230e5a17d": {
      "model_module": "@jupyter-widgets/controls",
      "model_module_version": "1.5.0",
      "model_name": "DescriptionStyleModel",
      "state": {
       "_model_module": "@jupyter-widgets/controls",
       "_model_module_version": "1.5.0",
       "_model_name": "DescriptionStyleModel",
       "_view_count": null,
       "_view_module": "@jupyter-widgets/base",
       "_view_module_version": "1.2.0",
       "_view_name": "StyleView",
       "description_width": ""
      }
     },
     "6cbe8f11b7164e408e267941814198c0": {
      "model_module": "@jupyter-widgets/controls",
      "model_module_version": "1.5.0",
      "model_name": "HBoxModel",
      "state": {
       "_dom_classes": [],
       "_model_module": "@jupyter-widgets/controls",
       "_model_module_version": "1.5.0",
       "_model_name": "HBoxModel",
       "_view_count": null,
       "_view_module": "@jupyter-widgets/controls",
       "_view_module_version": "1.5.0",
       "_view_name": "HBoxView",
       "box_style": "",
       "children": [
        "IPY_MODEL_82fea0311ded4d0ca7e16385d112a3c7",
        "IPY_MODEL_e578fdefb2f24c518c940c35eb9f92c5",
        "IPY_MODEL_7b3b0bddb39e4942b60ce23da3add70d"
       ],
       "layout": "IPY_MODEL_25a0ab050ea146b09ccd3fb354982bf9"
      }
     },
     "784884c4285d401f9395a9270c7a6698": {
      "model_module": "@jupyter-widgets/controls",
      "model_module_version": "1.5.0",
      "model_name": "DescriptionStyleModel",
      "state": {
       "_model_module": "@jupyter-widgets/controls",
       "_model_module_version": "1.5.0",
       "_model_name": "DescriptionStyleModel",
       "_view_count": null,
       "_view_module": "@jupyter-widgets/base",
       "_view_module_version": "1.2.0",
       "_view_name": "StyleView",
       "description_width": ""
      }
     },
     "7b3b0bddb39e4942b60ce23da3add70d": {
      "model_module": "@jupyter-widgets/controls",
      "model_module_version": "1.5.0",
      "model_name": "HTMLModel",
      "state": {
       "_dom_classes": [],
       "_model_module": "@jupyter-widgets/controls",
       "_model_module_version": "1.5.0",
       "_model_name": "HTMLModel",
       "_view_count": null,
       "_view_module": "@jupyter-widgets/controls",
       "_view_module_version": "1.5.0",
       "_view_name": "HTMLView",
       "description": "",
       "description_tooltip": null,
       "layout": "IPY_MODEL_ed8afa8a0b6c45068b1cff1b8a7ff097",
       "placeholder": "​",
       "style": "IPY_MODEL_3306992e4e674e8185708c16ff926594",
       "value": " 2.24M/2.24M [00:00&lt;00:00, 33.6MB/s]"
      }
     },
     "7ed46542cab8422a9866b3b783b349d0": {
      "model_module": "@jupyter-widgets/controls",
      "model_module_version": "1.5.0",
      "model_name": "DescriptionStyleModel",
      "state": {
       "_model_module": "@jupyter-widgets/controls",
       "_model_module_version": "1.5.0",
       "_model_name": "DescriptionStyleModel",
       "_view_count": null,
       "_view_module": "@jupyter-widgets/base",
       "_view_module_version": "1.2.0",
       "_view_name": "StyleView",
       "description_width": ""
      }
     },
     "80d7017b6f2b4e0694bcd9988bff4e21": {
      "model_module": "@jupyter-widgets/base",
      "model_module_version": "1.2.0",
      "model_name": "LayoutModel",
      "state": {
       "_model_module": "@jupyter-widgets/base",
       "_model_module_version": "1.2.0",
       "_model_name": "LayoutModel",
       "_view_count": null,
       "_view_module": "@jupyter-widgets/base",
       "_view_module_version": "1.2.0",
       "_view_name": "LayoutView",
       "align_content": null,
       "align_items": null,
       "align_self": null,
       "border": null,
       "bottom": null,
       "display": null,
       "flex": null,
       "flex_flow": null,
       "grid_area": null,
       "grid_auto_columns": null,
       "grid_auto_flow": null,
       "grid_auto_rows": null,
       "grid_column": null,
       "grid_gap": null,
       "grid_row": null,
       "grid_template_areas": null,
       "grid_template_columns": null,
       "grid_template_rows": null,
       "height": null,
       "justify_content": null,
       "justify_items": null,
       "left": null,
       "margin": null,
       "max_height": null,
       "max_width": null,
       "min_height": null,
       "min_width": null,
       "object_fit": null,
       "object_position": null,
       "order": null,
       "overflow": null,
       "overflow_x": null,
       "overflow_y": null,
       "padding": null,
       "right": null,
       "top": null,
       "visibility": null,
       "width": null
      }
     },
     "82984d7c94da458cbdfefafff087519d": {
      "model_module": "@jupyter-widgets/controls",
      "model_module_version": "1.5.0",
      "model_name": "ProgressStyleModel",
      "state": {
       "_model_module": "@jupyter-widgets/controls",
       "_model_module_version": "1.5.0",
       "_model_name": "ProgressStyleModel",
       "_view_count": null,
       "_view_module": "@jupyter-widgets/base",
       "_view_module_version": "1.2.0",
       "_view_name": "StyleView",
       "bar_color": null,
       "description_width": ""
      }
     },
     "82fea0311ded4d0ca7e16385d112a3c7": {
      "model_module": "@jupyter-widgets/controls",
      "model_module_version": "1.5.0",
      "model_name": "HTMLModel",
      "state": {
       "_dom_classes": [],
       "_model_module": "@jupyter-widgets/controls",
       "_model_module_version": "1.5.0",
       "_model_name": "HTMLModel",
       "_view_count": null,
       "_view_module": "@jupyter-widgets/controls",
       "_view_module_version": "1.5.0",
       "_view_name": "HTMLView",
       "description": "",
       "description_tooltip": null,
       "layout": "IPY_MODEL_80d7017b6f2b4e0694bcd9988bff4e21",
       "placeholder": "​",
       "style": "IPY_MODEL_784884c4285d401f9395a9270c7a6698",
       "value": "Downloading (…)solve/main/vocab.txt: 100%"
      }
     },
     "8b75c21d442f4a46a3571a03bbe03f22": {
      "model_module": "@jupyter-widgets/controls",
      "model_module_version": "1.5.0",
      "model_name": "DescriptionStyleModel",
      "state": {
       "_model_module": "@jupyter-widgets/controls",
       "_model_module_version": "1.5.0",
       "_model_name": "DescriptionStyleModel",
       "_view_count": null,
       "_view_module": "@jupyter-widgets/base",
       "_view_module_version": "1.2.0",
       "_view_name": "StyleView",
       "description_width": ""
      }
     },
     "9c338ba04fd943c992e8acc99a8888c1": {
      "model_module": "@jupyter-widgets/base",
      "model_module_version": "1.2.0",
      "model_name": "LayoutModel",
      "state": {
       "_model_module": "@jupyter-widgets/base",
       "_model_module_version": "1.2.0",
       "_model_name": "LayoutModel",
       "_view_count": null,
       "_view_module": "@jupyter-widgets/base",
       "_view_module_version": "1.2.0",
       "_view_name": "LayoutView",
       "align_content": null,
       "align_items": null,
       "align_self": null,
       "border": null,
       "bottom": null,
       "display": null,
       "flex": null,
       "flex_flow": null,
       "grid_area": null,
       "grid_auto_columns": null,
       "grid_auto_flow": null,
       "grid_auto_rows": null,
       "grid_column": null,
       "grid_gap": null,
       "grid_row": null,
       "grid_template_areas": null,
       "grid_template_columns": null,
       "grid_template_rows": null,
       "height": null,
       "justify_content": null,
       "justify_items": null,
       "left": null,
       "margin": null,
       "max_height": null,
       "max_width": null,
       "min_height": null,
       "min_width": null,
       "object_fit": null,
       "object_position": null,
       "order": null,
       "overflow": null,
       "overflow_x": null,
       "overflow_y": null,
       "padding": null,
       "right": null,
       "top": null,
       "visibility": null,
       "width": null
      }
     },
     "aa8e992923df4baa9b9a5bc56e011da8": {
      "model_module": "@jupyter-widgets/controls",
      "model_module_version": "1.5.0",
      "model_name": "HTMLModel",
      "state": {
       "_dom_classes": [],
       "_model_module": "@jupyter-widgets/controls",
       "_model_module_version": "1.5.0",
       "_model_name": "HTMLModel",
       "_view_count": null,
       "_view_module": "@jupyter-widgets/controls",
       "_view_module_version": "1.5.0",
       "_view_name": "HTMLView",
       "description": "",
       "description_tooltip": null,
       "layout": "IPY_MODEL_5daf61d3736642f7be468ffbd53ef8f5",
       "placeholder": "​",
       "style": "IPY_MODEL_8b75c21d442f4a46a3571a03bbe03f22",
       "value": " 491/491 [00:00&lt;00:00, 25.0kB/s]"
      }
     },
     "ab2fab412f384e81b1f3d3b9291b711b": {
      "model_module": "@jupyter-widgets/base",
      "model_module_version": "1.2.0",
      "model_name": "LayoutModel",
      "state": {
       "_model_module": "@jupyter-widgets/base",
       "_model_module_version": "1.2.0",
       "_model_name": "LayoutModel",
       "_view_count": null,
       "_view_module": "@jupyter-widgets/base",
       "_view_module_version": "1.2.0",
       "_view_name": "LayoutView",
       "align_content": null,
       "align_items": null,
       "align_self": null,
       "border": null,
       "bottom": null,
       "display": null,
       "flex": null,
       "flex_flow": null,
       "grid_area": null,
       "grid_auto_columns": null,
       "grid_auto_flow": null,
       "grid_auto_rows": null,
       "grid_column": null,
       "grid_gap": null,
       "grid_row": null,
       "grid_template_areas": null,
       "grid_template_columns": null,
       "grid_template_rows": null,
       "height": null,
       "justify_content": null,
       "justify_items": null,
       "left": null,
       "margin": null,
       "max_height": null,
       "max_width": null,
       "min_height": null,
       "min_width": null,
       "object_fit": null,
       "object_position": null,
       "order": null,
       "overflow": null,
       "overflow_x": null,
       "overflow_y": null,
       "padding": null,
       "right": null,
       "top": null,
       "visibility": null,
       "width": null
      }
     },
     "b5ca24f7566e446a9d20db2c725218bb": {
      "model_module": "@jupyter-widgets/base",
      "model_module_version": "1.2.0",
      "model_name": "LayoutModel",
      "state": {
       "_model_module": "@jupyter-widgets/base",
       "_model_module_version": "1.2.0",
       "_model_name": "LayoutModel",
       "_view_count": null,
       "_view_module": "@jupyter-widgets/base",
       "_view_module_version": "1.2.0",
       "_view_name": "LayoutView",
       "align_content": null,
       "align_items": null,
       "align_self": null,
       "border": null,
       "bottom": null,
       "display": null,
       "flex": null,
       "flex_flow": null,
       "grid_area": null,
       "grid_auto_columns": null,
       "grid_auto_flow": null,
       "grid_auto_rows": null,
       "grid_column": null,
       "grid_gap": null,
       "grid_row": null,
       "grid_template_areas": null,
       "grid_template_columns": null,
       "grid_template_rows": null,
       "height": null,
       "justify_content": null,
       "justify_items": null,
       "left": null,
       "margin": null,
       "max_height": null,
       "max_width": null,
       "min_height": null,
       "min_width": null,
       "object_fit": null,
       "object_position": null,
       "order": null,
       "overflow": null,
       "overflow_x": null,
       "overflow_y": null,
       "padding": null,
       "right": null,
       "top": null,
       "visibility": null,
       "width": null
      }
     },
     "b9e7bb934e0940e1883882b3323b1200": {
      "model_module": "@jupyter-widgets/controls",
      "model_module_version": "1.5.0",
      "model_name": "FloatProgressModel",
      "state": {
       "_dom_classes": [],
       "_model_module": "@jupyter-widgets/controls",
       "_model_module_version": "1.5.0",
       "_model_name": "FloatProgressModel",
       "_view_count": null,
       "_view_module": "@jupyter-widgets/controls",
       "_view_module_version": "1.5.0",
       "_view_name": "ProgressView",
       "bar_style": "success",
       "description": "",
       "description_tooltip": null,
       "layout": "IPY_MODEL_c7a4e49ce5bd4e339d63d4f17fbc0a88",
       "max": 491.0,
       "min": 0.0,
       "orientation": "horizontal",
       "style": "IPY_MODEL_de565651a0414c9cad9156e072ca73b2",
       "value": 491.0
      }
     },
     "bf230cbd651e49d7bca76a9c7098f410": {
      "model_module": "@jupyter-widgets/controls",
      "model_module_version": "1.5.0",
      "model_name": "HTMLModel",
      "state": {
       "_dom_classes": [],
       "_model_module": "@jupyter-widgets/controls",
       "_model_module_version": "1.5.0",
       "_model_name": "HTMLModel",
       "_view_count": null,
       "_view_module": "@jupyter-widgets/controls",
       "_view_module_version": "1.5.0",
       "_view_name": "HTMLView",
       "description": "",
       "description_tooltip": null,
       "layout": "IPY_MODEL_5e0304eebc544d5c8f91f00ab945f126",
       "placeholder": "​",
       "style": "IPY_MODEL_7ed46542cab8422a9866b3b783b349d0",
       "value": " 660M/660M [00:02&lt;00:00, 294MB/s]"
      }
     },
     "c7a4e49ce5bd4e339d63d4f17fbc0a88": {
      "model_module": "@jupyter-widgets/base",
      "model_module_version": "1.2.0",
      "model_name": "LayoutModel",
      "state": {
       "_model_module": "@jupyter-widgets/base",
       "_model_module_version": "1.2.0",
       "_model_name": "LayoutModel",
       "_view_count": null,
       "_view_module": "@jupyter-widgets/base",
       "_view_module_version": "1.2.0",
       "_view_name": "LayoutView",
       "align_content": null,
       "align_items": null,
       "align_self": null,
       "border": null,
       "bottom": null,
       "display": null,
       "flex": null,
       "flex_flow": null,
       "grid_area": null,
       "grid_auto_columns": null,
       "grid_auto_flow": null,
       "grid_auto_rows": null,
       "grid_column": null,
       "grid_gap": null,
       "grid_row": null,
       "grid_template_areas": null,
       "grid_template_columns": null,
       "grid_template_rows": null,
       "height": null,
       "justify_content": null,
       "justify_items": null,
       "left": null,
       "margin": null,
       "max_height": null,
       "max_width": null,
       "min_height": null,
       "min_width": null,
       "object_fit": null,
       "object_position": null,
       "order": null,
       "overflow": null,
       "overflow_x": null,
       "overflow_y": null,
       "padding": null,
       "right": null,
       "top": null,
       "visibility": null,
       "width": null
      }
     },
     "c7e991eb0c5d442bbf479b210e65f198": {
      "model_module": "@jupyter-widgets/controls",
      "model_module_version": "1.5.0",
      "model_name": "HTMLModel",
      "state": {
       "_dom_classes": [],
       "_model_module": "@jupyter-widgets/controls",
       "_model_module_version": "1.5.0",
       "_model_name": "HTMLModel",
       "_view_count": null,
       "_view_module": "@jupyter-widgets/controls",
       "_view_module_version": "1.5.0",
       "_view_name": "HTMLView",
       "description": "",
       "description_tooltip": null,
       "layout": "IPY_MODEL_c973d397f6a9436bbc3c9ea18c35da02",
       "placeholder": "​",
       "style": "IPY_MODEL_679c14b314d246d5bd70840230e5a17d",
       "value": "Downloading (…)lve/main/config.json: 100%"
      }
     },
     "c973d397f6a9436bbc3c9ea18c35da02": {
      "model_module": "@jupyter-widgets/base",
      "model_module_version": "1.2.0",
      "model_name": "LayoutModel",
      "state": {
       "_model_module": "@jupyter-widgets/base",
       "_model_module_version": "1.2.0",
       "_model_name": "LayoutModel",
       "_view_count": null,
       "_view_module": "@jupyter-widgets/base",
       "_view_module_version": "1.2.0",
       "_view_name": "LayoutView",
       "align_content": null,
       "align_items": null,
       "align_self": null,
       "border": null,
       "bottom": null,
       "display": null,
       "flex": null,
       "flex_flow": null,
       "grid_area": null,
       "grid_auto_columns": null,
       "grid_auto_flow": null,
       "grid_auto_rows": null,
       "grid_column": null,
       "grid_gap": null,
       "grid_row": null,
       "grid_template_areas": null,
       "grid_template_columns": null,
       "grid_template_rows": null,
       "height": null,
       "justify_content": null,
       "justify_items": null,
       "left": null,
       "margin": null,
       "max_height": null,
       "max_width": null,
       "min_height": null,
       "min_width": null,
       "object_fit": null,
       "object_position": null,
       "order": null,
       "overflow": null,
       "overflow_x": null,
       "overflow_y": null,
       "padding": null,
       "right": null,
       "top": null,
       "visibility": null,
       "width": null
      }
     },
     "d22ceb6371a94935b9f81428037e046f": {
      "model_module": "@jupyter-widgets/controls",
      "model_module_version": "1.5.0",
      "model_name": "ProgressStyleModel",
      "state": {
       "_model_module": "@jupyter-widgets/controls",
       "_model_module_version": "1.5.0",
       "_model_name": "ProgressStyleModel",
       "_view_count": null,
       "_view_module": "@jupyter-widgets/base",
       "_view_module_version": "1.2.0",
       "_view_name": "StyleView",
       "bar_color": null,
       "description_width": ""
      }
     },
     "de565651a0414c9cad9156e072ca73b2": {
      "model_module": "@jupyter-widgets/controls",
      "model_module_version": "1.5.0",
      "model_name": "ProgressStyleModel",
      "state": {
       "_model_module": "@jupyter-widgets/controls",
       "_model_module_version": "1.5.0",
       "_model_name": "ProgressStyleModel",
       "_view_count": null,
       "_view_module": "@jupyter-widgets/base",
       "_view_module_version": "1.2.0",
       "_view_name": "StyleView",
       "bar_color": null,
       "description_width": ""
      }
     },
     "e07db301a13b47c48a13931ba8fc1d51": {
      "model_module": "@jupyter-widgets/controls",
      "model_module_version": "1.5.0",
      "model_name": "HTMLModel",
      "state": {
       "_dom_classes": [],
       "_model_module": "@jupyter-widgets/controls",
       "_model_module_version": "1.5.0",
       "_model_name": "HTMLModel",
       "_view_count": null,
       "_view_module": "@jupyter-widgets/controls",
       "_view_module_version": "1.5.0",
       "_view_name": "HTMLView",
       "description": "",
       "description_tooltip": null,
       "layout": "IPY_MODEL_b5ca24f7566e446a9d20db2c725218bb",
       "placeholder": "​",
       "style": "IPY_MODEL_fc7836be6b4d455e81579e854824485c",
       "value": "Downloading model.safetensors: 100%"
      }
     },
     "e578fdefb2f24c518c940c35eb9f92c5": {
      "model_module": "@jupyter-widgets/controls",
      "model_module_version": "1.5.0",
      "model_name": "FloatProgressModel",
      "state": {
       "_dom_classes": [],
       "_model_module": "@jupyter-widgets/controls",
       "_model_module_version": "1.5.0",
       "_model_name": "FloatProgressModel",
       "_view_count": null,
       "_view_module": "@jupyter-widgets/controls",
       "_view_module_version": "1.5.0",
       "_view_name": "ProgressView",
       "bar_style": "success",
       "description": "",
       "description_tooltip": null,
       "layout": "IPY_MODEL_9c338ba04fd943c992e8acc99a8888c1",
       "max": 2237676.0,
       "min": 0.0,
       "orientation": "horizontal",
       "style": "IPY_MODEL_82984d7c94da458cbdfefafff087519d",
       "value": 2237676.0
      }
     },
     "ed8afa8a0b6c45068b1cff1b8a7ff097": {
      "model_module": "@jupyter-widgets/base",
      "model_module_version": "1.2.0",
      "model_name": "LayoutModel",
      "state": {
       "_model_module": "@jupyter-widgets/base",
       "_model_module_version": "1.2.0",
       "_model_name": "LayoutModel",
       "_view_count": null,
       "_view_module": "@jupyter-widgets/base",
       "_view_module_version": "1.2.0",
       "_view_name": "LayoutView",
       "align_content": null,
       "align_items": null,
       "align_self": null,
       "border": null,
       "bottom": null,
       "display": null,
       "flex": null,
       "flex_flow": null,
       "grid_area": null,
       "grid_auto_columns": null,
       "grid_auto_flow": null,
       "grid_auto_rows": null,
       "grid_column": null,
       "grid_gap": null,
       "grid_row": null,
       "grid_template_areas": null,
       "grid_template_columns": null,
       "grid_template_rows": null,
       "height": null,
       "justify_content": null,
       "justify_items": null,
       "left": null,
       "margin": null,
       "max_height": null,
       "max_width": null,
       "min_height": null,
       "min_width": null,
       "object_fit": null,
       "object_position": null,
       "order": null,
       "overflow": null,
       "overflow_x": null,
       "overflow_y": null,
       "padding": null,
       "right": null,
       "top": null,
       "visibility": null,
       "width": null
      }
     },
     "f8785462b5984ed596f1a233c180ed6b": {
      "model_module": "@jupyter-widgets/controls",
      "model_module_version": "1.5.0",
      "model_name": "HBoxModel",
      "state": {
       "_dom_classes": [],
       "_model_module": "@jupyter-widgets/controls",
       "_model_module_version": "1.5.0",
       "_model_name": "HBoxModel",
       "_view_count": null,
       "_view_module": "@jupyter-widgets/controls",
       "_view_module_version": "1.5.0",
       "_view_name": "HBoxView",
       "box_style": "",
       "children": [
        "IPY_MODEL_c7e991eb0c5d442bbf479b210e65f198",
        "IPY_MODEL_b9e7bb934e0940e1883882b3323b1200",
        "IPY_MODEL_aa8e992923df4baa9b9a5bc56e011da8"
       ],
       "layout": "IPY_MODEL_2ba7b635d6f6443bafd83a785428081d"
      }
     },
     "fc7836be6b4d455e81579e854824485c": {
      "model_module": "@jupyter-widgets/controls",
      "model_module_version": "1.5.0",
      "model_name": "DescriptionStyleModel",
      "state": {
       "_model_module": "@jupyter-widgets/controls",
       "_model_module_version": "1.5.0",
       "_model_name": "DescriptionStyleModel",
       "_view_count": null,
       "_view_module": "@jupyter-widgets/base",
       "_view_module_version": "1.2.0",
       "_view_name": "StyleView",
       "description_width": ""
      }
     }
    },
    "version_major": 2,
    "version_minor": 0
   }
  }
 },
 "nbformat": 4,
 "nbformat_minor": 5
}
