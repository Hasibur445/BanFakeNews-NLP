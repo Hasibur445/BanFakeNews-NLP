{
 "cells": [
  {
   "cell_type": "code",
   "execution_count": 1,
   "id": "5c9803a2",
   "metadata": {
    "execution": {
     "iopub.execute_input": "2023-10-15T17:03:37.789042Z",
     "iopub.status.busy": "2023-10-15T17:03:37.788513Z",
     "iopub.status.idle": "2023-10-15T17:03:37.796619Z",
     "shell.execute_reply": "2023-10-15T17:03:37.795738Z"
    },
    "papermill": {
     "duration": 0.015706,
     "end_time": "2023-10-15T17:03:37.798532",
     "exception": false,
     "start_time": "2023-10-15T17:03:37.782826",
     "status": "completed"
    },
    "tags": []
   },
   "outputs": [],
   "source": [
    "import warnings\n",
    "warnings.filterwarnings('ignore')"
   ]
  },
  {
   "cell_type": "code",
   "execution_count": 2,
   "id": "f2db7706",
   "metadata": {
    "execution": {
     "iopub.execute_input": "2023-10-15T17:03:37.810651Z",
     "iopub.status.busy": "2023-10-15T17:03:37.809806Z",
     "iopub.status.idle": "2023-10-15T17:03:44.398016Z",
     "shell.execute_reply": "2023-10-15T17:03:44.397082Z"
    },
    "papermill": {
     "duration": 6.597546,
     "end_time": "2023-10-15T17:03:44.400199",
     "exception": false,
     "start_time": "2023-10-15T17:03:37.802653",
     "status": "completed"
    },
    "tags": []
   },
   "outputs": [],
   "source": [
    "import pandas as pd\n",
    "auth = pd.read_csv(\"../input/banfakenews/Authentic-48K.csv\")\n",
    "fake = pd.read_csv(\"../input/banfakenews/Fake-1K.csv\")"
   ]
  },
  {
   "cell_type": "code",
   "execution_count": 3,
   "id": "4178f78d",
   "metadata": {
    "execution": {
     "iopub.execute_input": "2023-10-15T17:03:44.409506Z",
     "iopub.status.busy": "2023-10-15T17:03:44.408655Z",
     "iopub.status.idle": "2023-10-15T17:03:56.579197Z",
     "shell.execute_reply": "2023-10-15T17:03:56.578326Z"
    },
    "papermill": {
     "duration": 12.177205,
     "end_time": "2023-10-15T17:03:56.581320",
     "exception": false,
     "start_time": "2023-10-15T17:03:44.404115",
     "status": "completed"
    },
    "tags": []
   },
   "outputs": [],
   "source": [
    "import time\n",
    "import matplotlib.pyplot as plt\n",
    "import numpy as np\n",
    "import pandas as pd\n",
    "import torch\n",
    "import torch.nn as nn\n",
    "from torch.optim import AdamW\n",
    "from torch.utils.data import DataLoader\n",
    "from torch.utils.data import Dataset\n",
    "from tqdm.notebook import tqdm\n",
    "from transformers import BertModel, BertTokenizer, BertForSequenceClassification"
   ]
  },
  {
   "cell_type": "code",
   "execution_count": 4,
   "id": "f820f672",
   "metadata": {
    "execution": {
     "iopub.execute_input": "2023-10-15T17:03:56.590125Z",
     "iopub.status.busy": "2023-10-15T17:03:56.589869Z",
     "iopub.status.idle": "2023-10-15T17:04:11.083648Z",
     "shell.execute_reply": "2023-10-15T17:04:11.082539Z"
    },
    "papermill": {
     "duration": 14.500578,
     "end_time": "2023-10-15T17:04:11.085925",
     "exception": false,
     "start_time": "2023-10-15T17:03:56.585347",
     "status": "completed"
    },
    "tags": []
   },
   "outputs": [
    {
     "name": "stdout",
     "output_type": "stream",
     "text": [
      "Collecting bnltk\r\n",
      "  Downloading bnltk-0.7.6-py3-none-any.whl (11 kB)\r\n",
      "Requirement already satisfied: keras in /opt/conda/lib/python3.10/site-packages (from bnltk) (2.12.0)\r\n",
      "Requirement already satisfied: tensorflow in /opt/conda/lib/python3.10/site-packages (from bnltk) (2.12.0)\r\n",
      "Requirement already satisfied: numpy in /opt/conda/lib/python3.10/site-packages (from bnltk) (1.23.5)\r\n",
      "Collecting sklearn (from bnltk)\r\n",
      "  Downloading sklearn-0.0.post10.tar.gz (3.6 kB)\r\n",
      "  Preparing metadata (setup.py) ... \u001b[?25l-\b \berror\r\n",
      "  \u001b[1;31merror\u001b[0m: \u001b[1msubprocess-exited-with-error\u001b[0m\r\n",
      "  \r\n",
      "  \u001b[31m×\u001b[0m \u001b[32mpython setup.py egg_info\u001b[0m did not run successfully.\r\n",
      "  \u001b[31m│\u001b[0m exit code: \u001b[1;36m1\u001b[0m\r\n",
      "  \u001b[31m╰─>\u001b[0m \u001b[31m[18 lines of output]\u001b[0m\r\n",
      "  \u001b[31m   \u001b[0m The 'sklearn' PyPI package is deprecated, use 'scikit-learn'\r\n",
      "  \u001b[31m   \u001b[0m rather than 'sklearn' for pip commands.\r\n",
      "  \u001b[31m   \u001b[0m \r\n",
      "  \u001b[31m   \u001b[0m Here is how to fix this error in the main use cases:\r\n",
      "  \u001b[31m   \u001b[0m - use 'pip install scikit-learn' rather than 'pip install sklearn'\r\n",
      "  \u001b[31m   \u001b[0m - replace 'sklearn' by 'scikit-learn' in your pip requirements files\r\n",
      "  \u001b[31m   \u001b[0m   (requirements.txt, setup.py, setup.cfg, Pipfile, etc ...)\r\n",
      "  \u001b[31m   \u001b[0m - if the 'sklearn' package is used by one of your dependencies,\r\n",
      "  \u001b[31m   \u001b[0m   it would be great if you take some time to track which package uses\r\n",
      "  \u001b[31m   \u001b[0m   'sklearn' instead of 'scikit-learn' and report it to their issue tracker\r\n",
      "  \u001b[31m   \u001b[0m - as a last resort, set the environment variable\r\n",
      "  \u001b[31m   \u001b[0m   SKLEARN_ALLOW_DEPRECATED_SKLEARN_PACKAGE_INSTALL=True to avoid this error\r\n",
      "  \u001b[31m   \u001b[0m \r\n",
      "  \u001b[31m   \u001b[0m More information is available at\r\n",
      "  \u001b[31m   \u001b[0m https://github.com/scikit-learn/sklearn-pypi-package\r\n",
      "  \u001b[31m   \u001b[0m \r\n",
      "  \u001b[31m   \u001b[0m If the previous advice does not cover your use case, feel free to report it at\r\n",
      "  \u001b[31m   \u001b[0m https://github.com/scikit-learn/sklearn-pypi-package/issues/new\r\n",
      "  \u001b[31m   \u001b[0m \u001b[31m[end of output]\u001b[0m\r\n",
      "  \r\n",
      "  \u001b[1;35mnote\u001b[0m: This error originates from a subprocess, and is likely not a problem with pip.\r\n",
      "\u001b[1;31merror\u001b[0m: \u001b[1mmetadata-generation-failed\u001b[0m\r\n",
      "\r\n",
      "\u001b[31m×\u001b[0m Encountered error while generating package metadata.\r\n",
      "\u001b[31m╰─>\u001b[0m See above for output.\r\n",
      "\r\n",
      "\u001b[1;35mnote\u001b[0m: This is an issue with the package mentioned above, not pip.\r\n",
      "\u001b[1;36mhint\u001b[0m: See above for details.\r\n",
      "\u001b[?25hCollecting bnlp-toolkit==4.0.0.dev4\r\n",
      "  Downloading bnlp_toolkit-4.0.0.dev4-py3-none-any.whl (22 kB)\r\n",
      "Requirement already satisfied: sentencepiece in /opt/conda/lib/python3.10/site-packages (from bnlp-toolkit==4.0.0.dev4) (0.1.99)\r\n",
      "Requirement already satisfied: gensim in /opt/conda/lib/python3.10/site-packages (from bnlp-toolkit==4.0.0.dev4) (4.3.2)\r\n",
      "Requirement already satisfied: nltk in /opt/conda/lib/python3.10/site-packages (from bnlp-toolkit==4.0.0.dev4) (3.2.4)\r\n",
      "Requirement already satisfied: numpy in /opt/conda/lib/python3.10/site-packages (from bnlp-toolkit==4.0.0.dev4) (1.23.5)\r\n",
      "Requirement already satisfied: scipy in /opt/conda/lib/python3.10/site-packages (from bnlp-toolkit==4.0.0.dev4) (1.11.2)\r\n",
      "Collecting sklearn-crfsuite (from bnlp-toolkit==4.0.0.dev4)\r\n",
      "  Downloading sklearn_crfsuite-0.3.6-py2.py3-none-any.whl (12 kB)\r\n",
      "Requirement already satisfied: tqdm in /opt/conda/lib/python3.10/site-packages (from bnlp-toolkit==4.0.0.dev4) (4.66.1)\r\n",
      "Collecting ftfy (from bnlp-toolkit==4.0.0.dev4)\r\n",
      "  Downloading ftfy-6.1.1-py3-none-any.whl (53 kB)\r\n",
      "\u001b[2K     \u001b[90m━━━━━━━━━━━━━━━━━━━━━━━━━━━━━━━━━━━━━━━━\u001b[0m \u001b[32m53.1/53.1 kB\u001b[0m \u001b[31m4.3 MB/s\u001b[0m eta \u001b[36m0:00:00\u001b[0m\r\n",
      "\u001b[?25hCollecting emoji==1.7.0 (from bnlp-toolkit==4.0.0.dev4)\r\n",
      "  Downloading emoji-1.7.0.tar.gz (175 kB)\r\n",
      "\u001b[2K     \u001b[90m━━━━━━━━━━━━━━━━━━━━━━━━━━━━━━━━━━━━━━\u001b[0m \u001b[32m175.4/175.4 kB\u001b[0m \u001b[31m10.8 MB/s\u001b[0m eta \u001b[36m0:00:00\u001b[0m\r\n",
      "\u001b[?25h  Preparing metadata (setup.py) ... \u001b[?25ldone\r\n",
      "\u001b[?25hRequirement already satisfied: requests in /opt/conda/lib/python3.10/site-packages (from bnlp-toolkit==4.0.0.dev4) (2.31.0)\r\n",
      "Requirement already satisfied: wcwidth>=0.2.5 in /opt/conda/lib/python3.10/site-packages (from ftfy->bnlp-toolkit==4.0.0.dev4) (0.2.6)\r\n",
      "Requirement already satisfied: smart-open>=1.8.1 in /opt/conda/lib/python3.10/site-packages (from gensim->bnlp-toolkit==4.0.0.dev4) (6.3.0)\r\n",
      "Requirement already satisfied: six in /opt/conda/lib/python3.10/site-packages (from nltk->bnlp-toolkit==4.0.0.dev4) (1.16.0)\r\n",
      "Requirement already satisfied: charset-normalizer<4,>=2 in /opt/conda/lib/python3.10/site-packages (from requests->bnlp-toolkit==4.0.0.dev4) (3.1.0)\r\n",
      "Requirement already satisfied: idna<4,>=2.5 in /opt/conda/lib/python3.10/site-packages (from requests->bnlp-toolkit==4.0.0.dev4) (3.4)\r\n",
      "Requirement already satisfied: urllib3<3,>=1.21.1 in /opt/conda/lib/python3.10/site-packages (from requests->bnlp-toolkit==4.0.0.dev4) (1.26.15)\r\n",
      "Requirement already satisfied: certifi>=2017.4.17 in /opt/conda/lib/python3.10/site-packages (from requests->bnlp-toolkit==4.0.0.dev4) (2023.7.22)\r\n",
      "Collecting python-crfsuite>=0.8.3 (from sklearn-crfsuite->bnlp-toolkit==4.0.0.dev4)\r\n",
      "  Downloading python_crfsuite-0.9.9-cp310-cp310-manylinux_2_17_x86_64.manylinux2014_x86_64.whl (993 kB)\r\n",
      "\u001b[2K     \u001b[90m━━━━━━━━━━━━━━━━━━━━━━━━━━━━━━━━━━━━━━\u001b[0m \u001b[32m993.5/993.5 kB\u001b[0m \u001b[31m34.5 MB/s\u001b[0m eta \u001b[36m0:00:00\u001b[0m\r\n",
      "\u001b[?25hRequirement already satisfied: tabulate in /opt/conda/lib/python3.10/site-packages (from sklearn-crfsuite->bnlp-toolkit==4.0.0.dev4) (0.9.0)\r\n",
      "Building wheels for collected packages: emoji\r\n",
      "  Building wheel for emoji (setup.py) ... \u001b[?25l-\b \bdone\r\n",
      "\u001b[?25h  Created wheel for emoji: filename=emoji-1.7.0-py3-none-any.whl size=171033 sha256=04041cef5d597cb8b6ad93e5de188f5f3a8465a14e18158b0aef04c3cfcc652b\r\n",
      "  Stored in directory: /root/.cache/pip/wheels/31/8a/8c/315c9e5d7773f74b33d5ed33f075b49c6eaeb7cedbb86e2cf8\r\n",
      "Successfully built emoji\r\n",
      "Installing collected packages: python-crfsuite, emoji, sklearn-crfsuite, ftfy, bnlp-toolkit\r\n",
      "  Attempting uninstall: emoji\r\n",
      "    Found existing installation: emoji 2.8.0\r\n",
      "    Uninstalling emoji-2.8.0:\r\n",
      "      Successfully uninstalled emoji-2.8.0\r\n",
      "Successfully installed bnlp-toolkit-4.0.0.dev4 emoji-1.7.0 ftfy-6.1.1 python-crfsuite-0.9.9 sklearn-crfsuite-0.3.6\r\n"
     ]
    }
   ],
   "source": [
    "!pip install bnltk\n",
    "!pip install bnlp-toolkit==4.0.0.dev4"
   ]
  },
  {
   "cell_type": "code",
   "execution_count": 5,
   "id": "5b44996d",
   "metadata": {
    "execution": {
     "iopub.execute_input": "2023-10-15T17:04:11.098042Z",
     "iopub.status.busy": "2023-10-15T17:04:11.097487Z",
     "iopub.status.idle": "2023-10-15T17:04:19.429856Z",
     "shell.execute_reply": "2023-10-15T17:04:19.428684Z"
    },
    "papermill": {
     "duration": 8.340794,
     "end_time": "2023-10-15T17:04:19.432135",
     "exception": false,
     "start_time": "2023-10-15T17:04:11.091341",
     "status": "completed"
    },
    "tags": []
   },
   "outputs": [
    {
     "name": "stdout",
     "output_type": "stream",
     "text": [
      "Collecting BnLemma\r\n",
      "  Downloading BnLemma-2.1-py3-none-any.whl (57 kB)\r\n",
      "\u001b[2K     \u001b[90m━━━━━━━━━━━━━━━━━━━━━━━━━━━━━━━━━━━━━━━━\u001b[0m \u001b[32m57.6/57.6 kB\u001b[0m \u001b[31m3.4 MB/s\u001b[0m eta \u001b[36m0:00:00\u001b[0m\r\n",
      "\u001b[?25hInstalling collected packages: BnLemma\r\n",
      "Successfully installed BnLemma-2.1\r\n"
     ]
    }
   ],
   "source": [
    "!pip install BnLemma"
   ]
  },
  {
   "cell_type": "code",
   "execution_count": 6,
   "id": "b1ebcbe2",
   "metadata": {
    "execution": {
     "iopub.execute_input": "2023-10-15T17:04:19.444178Z",
     "iopub.status.busy": "2023-10-15T17:04:19.443872Z",
     "iopub.status.idle": "2023-10-15T17:04:19.477758Z",
     "shell.execute_reply": "2023-10-15T17:04:19.476857Z"
    },
    "papermill": {
     "duration": 0.0418,
     "end_time": "2023-10-15T17:04:19.479447",
     "exception": false,
     "start_time": "2023-10-15T17:04:19.437647",
     "status": "completed"
    },
    "tags": []
   },
   "outputs": [
    {
     "data": {
      "text/plain": [
       "10392"
      ]
     },
     "execution_count": 6,
     "metadata": {},
     "output_type": "execute_result"
    }
   ],
   "source": [
    "df = pd.concat([auth[:fake.shape[0]*7], fake])\n",
    "df = df.sample(frac=1).reset_index(drop=True)\n",
    "len(df)"
   ]
  },
  {
   "cell_type": "code",
   "execution_count": 7,
   "id": "ac0ed4f3",
   "metadata": {
    "execution": {
     "iopub.execute_input": "2023-10-15T17:04:19.491073Z",
     "iopub.status.busy": "2023-10-15T17:04:19.490562Z",
     "iopub.status.idle": "2023-10-15T17:04:19.508326Z",
     "shell.execute_reply": "2023-10-15T17:04:19.507344Z"
    },
    "papermill": {
     "duration": 0.025668,
     "end_time": "2023-10-15T17:04:19.510240",
     "exception": false,
     "start_time": "2023-10-15T17:04:19.484572",
     "status": "completed"
    },
    "tags": []
   },
   "outputs": [],
   "source": [
    "df = df.drop('domain', axis=1)\n",
    "df = df.drop('date', axis=1)\n",
    "df = df.drop('category', axis=1)\n",
    "df = df.drop('articleID', axis=1)"
   ]
  },
  {
   "cell_type": "code",
   "execution_count": 8,
   "id": "002af7f7",
   "metadata": {
    "execution": {
     "iopub.execute_input": "2023-10-15T17:04:19.522688Z",
     "iopub.status.busy": "2023-10-15T17:04:19.521934Z",
     "iopub.status.idle": "2023-10-15T17:04:19.565163Z",
     "shell.execute_reply": "2023-10-15T17:04:19.564326Z"
    },
    "papermill": {
     "duration": 0.051136,
     "end_time": "2023-10-15T17:04:19.566941",
     "exception": false,
     "start_time": "2023-10-15T17:04:19.515805",
     "status": "completed"
    },
    "tags": []
   },
   "outputs": [],
   "source": [
    "df['data'] = df['headline'] + ' ' + df['content']"
   ]
  },
  {
   "cell_type": "code",
   "execution_count": 9,
   "id": "a8040947",
   "metadata": {
    "execution": {
     "iopub.execute_input": "2023-10-15T17:04:19.579060Z",
     "iopub.status.busy": "2023-10-15T17:04:19.578799Z",
     "iopub.status.idle": "2023-10-15T17:04:19.585165Z",
     "shell.execute_reply": "2023-10-15T17:04:19.584399Z"
    },
    "papermill": {
     "duration": 0.014111,
     "end_time": "2023-10-15T17:04:19.586832",
     "exception": false,
     "start_time": "2023-10-15T17:04:19.572721",
     "status": "completed"
    },
    "tags": []
   },
   "outputs": [],
   "source": [
    "df['class'] = df['label'].replace({0: 'fake', 1: 'true'})"
   ]
  },
  {
   "cell_type": "code",
   "execution_count": 10,
   "id": "e0a4bece",
   "metadata": {
    "execution": {
     "iopub.execute_input": "2023-10-15T17:04:19.598454Z",
     "iopub.status.busy": "2023-10-15T17:04:19.597957Z",
     "iopub.status.idle": "2023-10-15T17:04:19.606626Z",
     "shell.execute_reply": "2023-10-15T17:04:19.605839Z"
    },
    "papermill": {
     "duration": 0.016286,
     "end_time": "2023-10-15T17:04:19.608314",
     "exception": false,
     "start_time": "2023-10-15T17:04:19.592028",
     "status": "completed"
    },
    "tags": []
   },
   "outputs": [],
   "source": [
    "df = df.drop('headline', axis=1)\n",
    "df = df.drop('content', axis=1)\n",
    "df = df.drop('label', axis=1)\n",
    "\n",
    "\n"
   ]
  },
  {
   "cell_type": "code",
   "execution_count": 11,
   "id": "93b46a46",
   "metadata": {
    "execution": {
     "iopub.execute_input": "2023-10-15T17:04:19.619884Z",
     "iopub.status.busy": "2023-10-15T17:04:19.619261Z",
     "iopub.status.idle": "2023-10-15T17:04:19.628429Z",
     "shell.execute_reply": "2023-10-15T17:04:19.627615Z"
    },
    "papermill": {
     "duration": 0.016672,
     "end_time": "2023-10-15T17:04:19.630107",
     "exception": false,
     "start_time": "2023-10-15T17:04:19.613435",
     "status": "completed"
    },
    "tags": []
   },
   "outputs": [
    {
     "data": {
      "text/plain": [
       "class\n",
       "true    9093\n",
       "fake    1299\n",
       "Name: count, dtype: int64"
      ]
     },
     "execution_count": 11,
     "metadata": {},
     "output_type": "execute_result"
    }
   ],
   "source": [
    "df[\"class\"].value_counts()"
   ]
  },
  {
   "cell_type": "code",
   "execution_count": 12,
   "id": "9447e8e0",
   "metadata": {
    "execution": {
     "iopub.execute_input": "2023-10-15T17:04:19.641618Z",
     "iopub.status.busy": "2023-10-15T17:04:19.641234Z",
     "iopub.status.idle": "2023-10-15T17:04:19.651022Z",
     "shell.execute_reply": "2023-10-15T17:04:19.650191Z"
    },
    "papermill": {
     "duration": 0.017335,
     "end_time": "2023-10-15T17:04:19.652677",
     "exception": false,
     "start_time": "2023-10-15T17:04:19.635342",
     "status": "completed"
    },
    "tags": []
   },
   "outputs": [
    {
     "data": {
      "text/plain": [
       "class\n",
       "true    9093\n",
       "fake    1299\n",
       "Name: count, dtype: int64"
      ]
     },
     "execution_count": 12,
     "metadata": {},
     "output_type": "execute_result"
    }
   ],
   "source": [
    "df.dropna(inplace=True)\n",
    "df[\"class\"].value_counts()"
   ]
  },
  {
   "cell_type": "code",
   "execution_count": 13,
   "id": "db0182bc",
   "metadata": {
    "execution": {
     "iopub.execute_input": "2023-10-15T17:04:19.664744Z",
     "iopub.status.busy": "2023-10-15T17:04:19.664292Z",
     "iopub.status.idle": "2023-10-15T17:04:19.667747Z",
     "shell.execute_reply": "2023-10-15T17:04:19.666863Z"
    },
    "papermill": {
     "duration": 0.011421,
     "end_time": "2023-10-15T17:04:19.669378",
     "exception": false,
     "start_time": "2023-10-15T17:04:19.657957",
     "status": "completed"
    },
    "tags": []
   },
   "outputs": [],
   "source": [
    "#for column in df.columns:\n",
    "#    df[column] = df[column].str.slice(0, 100)"
   ]
  },
  {
   "cell_type": "code",
   "execution_count": 14,
   "id": "47fca51a",
   "metadata": {
    "execution": {
     "iopub.execute_input": "2023-10-15T17:04:19.681235Z",
     "iopub.status.busy": "2023-10-15T17:04:19.680725Z",
     "iopub.status.idle": "2023-10-15T17:04:19.687702Z",
     "shell.execute_reply": "2023-10-15T17:04:19.686842Z"
    },
    "papermill": {
     "duration": 0.014568,
     "end_time": "2023-10-15T17:04:19.689255",
     "exception": false,
     "start_time": "2023-10-15T17:04:19.674687",
     "status": "completed"
    },
    "tags": []
   },
   "outputs": [
    {
     "data": {
      "text/plain": [
       "class\n",
       "true    9093\n",
       "fake    1299\n",
       "Name: count, dtype: int64"
      ]
     },
     "execution_count": 14,
     "metadata": {},
     "output_type": "execute_result"
    }
   ],
   "source": [
    "df[\"class\"].value_counts()"
   ]
  },
  {
   "cell_type": "code",
   "execution_count": 15,
   "id": "71742d98",
   "metadata": {
    "execution": {
     "iopub.execute_input": "2023-10-15T17:04:19.701562Z",
     "iopub.status.busy": "2023-10-15T17:04:19.700875Z",
     "iopub.status.idle": "2023-10-15T17:04:19.717864Z",
     "shell.execute_reply": "2023-10-15T17:04:19.716712Z"
    },
    "papermill": {
     "duration": 0.024866,
     "end_time": "2023-10-15T17:04:19.719579",
     "exception": false,
     "start_time": "2023-10-15T17:04:19.694713",
     "status": "completed"
    },
    "tags": []
   },
   "outputs": [
    {
     "name": "stdout",
     "output_type": "stream",
     "text": [
      "       data  class\n",
      "0      1105      4\n",
      "1      1735      4\n",
      "2      1270      4\n",
      "3      1698      4\n",
      "4      1774      4\n",
      "...     ...    ...\n",
      "10387   481      4\n",
      "10388  1824      4\n",
      "10389  1592      4\n",
      "10390  6848      4\n",
      "10391  1229      4\n",
      "\n",
      "[10392 rows x 2 columns]\n"
     ]
    }
   ],
   "source": [
    "df_lengths = df.applymap(lambda x: len(str(x)))\n",
    "\n",
    "# Display the DataFrame with string lengths\n",
    "print(df_lengths)"
   ]
  },
  {
   "cell_type": "code",
   "execution_count": 16,
   "id": "8cfe326a",
   "metadata": {
    "execution": {
     "iopub.execute_input": "2023-10-15T17:04:19.732742Z",
     "iopub.status.busy": "2023-10-15T17:04:19.731979Z",
     "iopub.status.idle": "2023-10-15T17:05:06.091207Z",
     "shell.execute_reply": "2023-10-15T17:05:06.090256Z"
    },
    "papermill": {
     "duration": 46.368027,
     "end_time": "2023-10-15T17:05:06.093388",
     "exception": false,
     "start_time": "2023-10-15T17:04:19.725361",
     "status": "completed"
    },
    "tags": []
   },
   "outputs": [],
   "source": [
    "#Tokenizer\n",
    "from bnlp import NLTKTokenizer\n",
    "bnltk = NLTKTokenizer()\n",
    "\n",
    "#for Train Set\n",
    "for i in range(0,df.shape[0]):\n",
    "    text = bnltk.word_tokenize(df['data'][i])\n",
    "    df['data'][i] = str(text)\n"
   ]
  },
  {
   "cell_type": "code",
   "execution_count": 17,
   "id": "6ef254f1",
   "metadata": {
    "execution": {
     "iopub.execute_input": "2023-10-15T17:05:06.106721Z",
     "iopub.status.busy": "2023-10-15T17:05:06.106456Z",
     "iopub.status.idle": "2023-10-15T17:07:32.499475Z",
     "shell.execute_reply": "2023-10-15T17:07:32.498481Z"
    },
    "papermill": {
     "duration": 146.401947,
     "end_time": "2023-10-15T17:07:32.501741",
     "exception": false,
     "start_time": "2023-10-15T17:05:06.099794",
     "status": "completed"
    },
    "tags": []
   },
   "outputs": [],
   "source": [
    "import BnLemma as lm\n",
    "bl = lm.Lemmatizer()\n",
    "\n",
    "for i in range(0,df.shape[0]):\n",
    "    words = str(df['data'][i])\n",
    "    df['data'][i] = bl.lemma(words)"
   ]
  },
  {
   "cell_type": "code",
   "execution_count": 18,
   "id": "34fdeec1",
   "metadata": {
    "execution": {
     "iopub.execute_input": "2023-10-15T17:07:32.514895Z",
     "iopub.status.busy": "2023-10-15T17:07:32.514631Z",
     "iopub.status.idle": "2023-10-15T17:07:32.519004Z",
     "shell.execute_reply": "2023-10-15T17:07:32.518025Z"
    },
    "papermill": {
     "duration": 0.012626,
     "end_time": "2023-10-15T17:07:32.520606",
     "exception": false,
     "start_time": "2023-10-15T17:07:32.507980",
     "status": "completed"
    },
    "tags": []
   },
   "outputs": [],
   "source": [
    "text = df['data'].values.tolist()\n",
    "label = df['class'].tolist()"
   ]
  },
  {
   "cell_type": "code",
   "execution_count": 19,
   "id": "e0a07794",
   "metadata": {
    "execution": {
     "iopub.execute_input": "2023-10-15T17:07:32.533402Z",
     "iopub.status.busy": "2023-10-15T17:07:32.533151Z",
     "iopub.status.idle": "2023-10-15T17:07:32.540705Z",
     "shell.execute_reply": "2023-10-15T17:07:32.539749Z"
    },
    "papermill": {
     "duration": 0.016117,
     "end_time": "2023-10-15T17:07:32.542323",
     "exception": false,
     "start_time": "2023-10-15T17:07:32.526206",
     "status": "completed"
    },
    "tags": []
   },
   "outputs": [],
   "source": [
    "from sklearn.model_selection import train_test_split\n",
    "X_train, X_test, y_train, y_test = train_test_split(text , label, test_size=0.2, random_state=42)"
   ]
  },
  {
   "cell_type": "code",
   "execution_count": 20,
   "id": "9715fa78",
   "metadata": {
    "execution": {
     "iopub.execute_input": "2023-10-15T17:07:32.554516Z",
     "iopub.status.busy": "2023-10-15T17:07:32.554258Z",
     "iopub.status.idle": "2023-10-15T17:08:10.698904Z",
     "shell.execute_reply": "2023-10-15T17:08:10.697636Z"
    },
    "papermill": {
     "duration": 38.153067,
     "end_time": "2023-10-15T17:08:10.700904",
     "exception": false,
     "start_time": "2023-10-15T17:07:32.547837",
     "status": "completed"
    },
    "tags": []
   },
   "outputs": [
    {
     "name": "stdout",
     "output_type": "stream",
     "text": [
      "Collecting ktrain\r\n",
      "  Downloading ktrain-0.38.0.tar.gz (25.3 MB)\r\n",
      "\u001b[2K     \u001b[90m━━━━━━━━━━━━━━━━━━━━━━━━━━━━━━━━━━━━━━━━\u001b[0m \u001b[32m25.3/25.3 MB\u001b[0m \u001b[31m44.9 MB/s\u001b[0m eta \u001b[36m0:00:00\u001b[0m\r\n",
      "\u001b[?25h  Preparing metadata (setup.py) ... \u001b[?25ldone\r\n",
      "\u001b[?25hRequirement already satisfied: scikit-learn in /opt/conda/lib/python3.10/site-packages (from ktrain) (1.2.2)\r\n",
      "Requirement already satisfied: matplotlib>=3.0.0 in /opt/conda/lib/python3.10/site-packages (from ktrain) (3.7.2)\r\n",
      "Requirement already satisfied: pandas>=1.0.1 in /opt/conda/lib/python3.10/site-packages (from ktrain) (2.0.2)\r\n",
      "Requirement already satisfied: fastprogress>=0.1.21 in /opt/conda/lib/python3.10/site-packages (from ktrain) (1.0.3)\r\n",
      "Requirement already satisfied: requests in /opt/conda/lib/python3.10/site-packages (from ktrain) (2.31.0)\r\n",
      "Requirement already satisfied: joblib in /opt/conda/lib/python3.10/site-packages (from ktrain) (1.3.2)\r\n",
      "Requirement already satisfied: packaging in /opt/conda/lib/python3.10/site-packages (from ktrain) (21.3)\r\n",
      "Collecting langdetect (from ktrain)\r\n",
      "  Downloading langdetect-1.0.9.tar.gz (981 kB)\r\n",
      "\u001b[2K     \u001b[90m━━━━━━━━━━━━━━━━━━━━━━━━━━━━━━━━━━━━━━\u001b[0m \u001b[32m981.5/981.5 kB\u001b[0m \u001b[31m44.7 MB/s\u001b[0m eta \u001b[36m0:00:00\u001b[0m\r\n",
      "\u001b[?25h  Preparing metadata (setup.py) ... \u001b[?25ldone\r\n",
      "\u001b[?25hRequirement already satisfied: jieba in /opt/conda/lib/python3.10/site-packages (from ktrain) (0.42.1)\r\n",
      "Collecting cchardet (from ktrain)\r\n",
      "  Downloading cchardet-2.1.7.tar.gz (653 kB)\r\n",
      "\u001b[2K     \u001b[90m━━━━━━━━━━━━━━━━━━━━━━━━━━━━━━━━━━━━━━\u001b[0m \u001b[32m653.6/653.6 kB\u001b[0m \u001b[31m43.1 MB/s\u001b[0m eta \u001b[36m0:00:00\u001b[0m\r\n",
      "\u001b[?25h  Preparing metadata (setup.py) ... \u001b[?25l-\b \bdone\r\n",
      "\u001b[?25hCollecting chardet (from ktrain)\r\n",
      "  Downloading chardet-5.2.0-py3-none-any.whl (199 kB)\r\n",
      "\u001b[2K     \u001b[90m━━━━━━━━━━━━━━━━━━━━━━━━━━━━━━━━━━━━━━\u001b[0m \u001b[32m199.4/199.4 kB\u001b[0m \u001b[31m17.3 MB/s\u001b[0m eta \u001b[36m0:00:00\u001b[0m\r\n",
      "\u001b[?25hCollecting syntok>1.3.3 (from ktrain)\r\n",
      "  Downloading syntok-1.4.4-py3-none-any.whl (24 kB)\r\n",
      "Collecting tika (from ktrain)\r\n",
      "  Downloading tika-2.6.0.tar.gz (27 kB)\r\n",
      "  Preparing metadata (setup.py) ... \u001b[?25ldone\r\n",
      "\u001b[?25hRequirement already satisfied: transformers>=4.17.0 in /opt/conda/lib/python3.10/site-packages (from ktrain) (4.33.0)\r\n",
      "Requirement already satisfied: sentencepiece in /opt/conda/lib/python3.10/site-packages (from ktrain) (0.1.99)\r\n",
      "Collecting keras_bert>=0.86.0 (from ktrain)\r\n",
      "  Downloading keras-bert-0.89.0.tar.gz (25 kB)\r\n",
      "  Preparing metadata (setup.py) ... \u001b[?25ldone\r\n",
      "\u001b[?25hCollecting whoosh (from ktrain)\r\n",
      "  Downloading Whoosh-2.7.4-py2.py3-none-any.whl (468 kB)\r\n",
      "\u001b[2K     \u001b[90m━━━━━━━━━━━━━━━━━━━━━━━━━━━━━━━━━━━━━━\u001b[0m \u001b[32m468.8/468.8 kB\u001b[0m \u001b[31m33.4 MB/s\u001b[0m eta \u001b[36m0:00:00\u001b[0m\r\n",
      "\u001b[?25hRequirement already satisfied: numpy in /opt/conda/lib/python3.10/site-packages (from keras_bert>=0.86.0->ktrain) (1.23.5)\r\n",
      "Collecting keras-transformer==0.40.0 (from keras_bert>=0.86.0->ktrain)\r\n",
      "  Downloading keras-transformer-0.40.0.tar.gz (9.7 kB)\r\n",
      "  Preparing metadata (setup.py) ... \u001b[?25ldone\r\n",
      "\u001b[?25hCollecting keras-pos-embd==0.13.0 (from keras-transformer==0.40.0->keras_bert>=0.86.0->ktrain)\r\n",
      "  Downloading keras-pos-embd-0.13.0.tar.gz (5.6 kB)\r\n",
      "  Preparing metadata (setup.py) ... \u001b[?25ldone\r\n",
      "\u001b[?25hCollecting keras-multi-head==0.29.0 (from keras-transformer==0.40.0->keras_bert>=0.86.0->ktrain)\r\n",
      "  Downloading keras-multi-head-0.29.0.tar.gz (13 kB)\r\n",
      "  Preparing metadata (setup.py) ... \u001b[?25ldone\r\n",
      "\u001b[?25hCollecting keras-layer-normalization==0.16.0 (from keras-transformer==0.40.0->keras_bert>=0.86.0->ktrain)\r\n",
      "  Downloading keras-layer-normalization-0.16.0.tar.gz (3.9 kB)\r\n",
      "  Preparing metadata (setup.py) ... \u001b[?25ldone\r\n",
      "\u001b[?25hCollecting keras-position-wise-feed-forward==0.8.0 (from keras-transformer==0.40.0->keras_bert>=0.86.0->ktrain)\r\n",
      "  Downloading keras-position-wise-feed-forward-0.8.0.tar.gz (4.1 kB)\r\n",
      "  Preparing metadata (setup.py) ... \u001b[?25ldone\r\n",
      "\u001b[?25hCollecting keras-embed-sim==0.10.0 (from keras-transformer==0.40.0->keras_bert>=0.86.0->ktrain)\r\n",
      "  Downloading keras-embed-sim-0.10.0.tar.gz (3.6 kB)\r\n",
      "  Preparing metadata (setup.py) ... \u001b[?25ldone\r\n",
      "\u001b[?25hCollecting keras-self-attention==0.51.0 (from keras-multi-head==0.29.0->keras-transformer==0.40.0->keras_bert>=0.86.0->ktrain)\r\n",
      "  Downloading keras-self-attention-0.51.0.tar.gz (11 kB)\r\n",
      "  Preparing metadata (setup.py) ... \u001b[?25ldone\r\n",
      "\u001b[?25hRequirement already satisfied: contourpy>=1.0.1 in /opt/conda/lib/python3.10/site-packages (from matplotlib>=3.0.0->ktrain) (1.1.0)\r\n",
      "Requirement already satisfied: cycler>=0.10 in /opt/conda/lib/python3.10/site-packages (from matplotlib>=3.0.0->ktrain) (0.11.0)\r\n",
      "Requirement already satisfied: fonttools>=4.22.0 in /opt/conda/lib/python3.10/site-packages (from matplotlib>=3.0.0->ktrain) (4.40.0)\r\n",
      "Requirement already satisfied: kiwisolver>=1.0.1 in /opt/conda/lib/python3.10/site-packages (from matplotlib>=3.0.0->ktrain) (1.4.4)\r\n",
      "Requirement already satisfied: pillow>=6.2.0 in /opt/conda/lib/python3.10/site-packages (from matplotlib>=3.0.0->ktrain) (9.5.0)\r\n",
      "Requirement already satisfied: pyparsing<3.1,>=2.3.1 in /opt/conda/lib/python3.10/site-packages (from matplotlib>=3.0.0->ktrain) (3.0.9)\r\n",
      "Requirement already satisfied: python-dateutil>=2.7 in /opt/conda/lib/python3.10/site-packages (from matplotlib>=3.0.0->ktrain) (2.8.2)\r\n",
      "Requirement already satisfied: pytz>=2020.1 in /opt/conda/lib/python3.10/site-packages (from pandas>=1.0.1->ktrain) (2023.3)\r\n",
      "Requirement already satisfied: tzdata>=2022.1 in /opt/conda/lib/python3.10/site-packages (from pandas>=1.0.1->ktrain) (2023.3)\r\n",
      "Requirement already satisfied: regex>2016 in /opt/conda/lib/python3.10/site-packages (from syntok>1.3.3->ktrain) (2023.6.3)\r\n",
      "Requirement already satisfied: filelock in /opt/conda/lib/python3.10/site-packages (from transformers>=4.17.0->ktrain) (3.12.2)\r\n",
      "Requirement already satisfied: huggingface-hub<1.0,>=0.15.1 in /opt/conda/lib/python3.10/site-packages (from transformers>=4.17.0->ktrain) (0.16.4)\r\n",
      "Requirement already satisfied: pyyaml>=5.1 in /opt/conda/lib/python3.10/site-packages (from transformers>=4.17.0->ktrain) (6.0)\r\n",
      "Requirement already satisfied: tokenizers!=0.11.3,<0.14,>=0.11.1 in /opt/conda/lib/python3.10/site-packages (from transformers>=4.17.0->ktrain) (0.13.3)\r\n",
      "Requirement already satisfied: safetensors>=0.3.1 in /opt/conda/lib/python3.10/site-packages (from transformers>=4.17.0->ktrain) (0.3.3)\r\n",
      "Requirement already satisfied: tqdm>=4.27 in /opt/conda/lib/python3.10/site-packages (from transformers>=4.17.0->ktrain) (4.66.1)\r\n",
      "Requirement already satisfied: six in /opt/conda/lib/python3.10/site-packages (from langdetect->ktrain) (1.16.0)\r\n",
      "Requirement already satisfied: charset-normalizer<4,>=2 in /opt/conda/lib/python3.10/site-packages (from requests->ktrain) (3.1.0)\r\n",
      "Requirement already satisfied: idna<4,>=2.5 in /opt/conda/lib/python3.10/site-packages (from requests->ktrain) (3.4)\r\n",
      "Requirement already satisfied: urllib3<3,>=1.21.1 in /opt/conda/lib/python3.10/site-packages (from requests->ktrain) (1.26.15)\r\n",
      "Requirement already satisfied: certifi>=2017.4.17 in /opt/conda/lib/python3.10/site-packages (from requests->ktrain) (2023.7.22)\r\n",
      "Requirement already satisfied: scipy>=1.3.2 in /opt/conda/lib/python3.10/site-packages (from scikit-learn->ktrain) (1.11.2)\r\n",
      "Requirement already satisfied: threadpoolctl>=2.0.0 in /opt/conda/lib/python3.10/site-packages (from scikit-learn->ktrain) (3.1.0)\r\n",
      "Requirement already satisfied: setuptools in /opt/conda/lib/python3.10/site-packages (from tika->ktrain) (68.0.0)\r\n",
      "Requirement already satisfied: fsspec in /opt/conda/lib/python3.10/site-packages (from huggingface-hub<1.0,>=0.15.1->transformers>=4.17.0->ktrain) (2023.9.0)\r\n",
      "Requirement already satisfied: typing-extensions>=3.7.4.3 in /opt/conda/lib/python3.10/site-packages (from huggingface-hub<1.0,>=0.15.1->transformers>=4.17.0->ktrain) (4.6.3)\r\n",
      "Building wheels for collected packages: ktrain, keras_bert, keras-transformer, keras-embed-sim, keras-layer-normalization, keras-multi-head, keras-pos-embd, keras-position-wise-feed-forward, keras-self-attention, cchardet, langdetect, tika\r\n",
      "  Building wheel for ktrain (setup.py) ... \u001b[?25l-\b \bdone\r\n",
      "\u001b[?25h  Created wheel for ktrain: filename=ktrain-0.38.0-py3-none-any.whl size=25319964 sha256=98fbcefd14372308107f51edb81e7536b21a60febf83b4aa155f8fe7c77168b3\r\n",
      "  Stored in directory: /root/.cache/pip/wheels/10/76/6b/5799f396ca78a8c38c7c6439a192ca88538a97cfb970946da5\r\n",
      "  Building wheel for keras_bert (setup.py) ... \u001b[?25l-\b \bdone\r\n",
      "\u001b[?25h  Created wheel for keras_bert: filename=keras_bert-0.89.0-py3-none-any.whl size=33501 sha256=e3a371259a373fd755896f60361bde4b42cc0370df598877aa1de4890e8eeac7\r\n",
      "  Stored in directory: /root/.cache/pip/wheels/89/0c/04/646b6fdf6375911b42c8d540a8a3fda8d5d77634e5dcbe7b26\r\n",
      "  Building wheel for keras-transformer (setup.py) ... \u001b[?25l-\b \bdone\r\n",
      "\u001b[?25h  Created wheel for keras-transformer: filename=keras_transformer-0.40.0-py3-none-any.whl size=12287 sha256=b6f3f9d8949efbd31855aae8d3154b0911af2ac3678ef4de5d9eb823bd784a0a\r\n",
      "  Stored in directory: /root/.cache/pip/wheels/f2/cb/22/75a0ad376129177f7c95c0d91331a18f5368fd657f4035ba7c\r\n",
      "  Building wheel for keras-embed-sim (setup.py) ... \u001b[?25l-\b \bdone\r\n",
      "\u001b[?25h  Created wheel for keras-embed-sim: filename=keras_embed_sim-0.10.0-py3-none-any.whl size=3943 sha256=ce166a9daf358818104ac94ce9d85000e0bf63f1cab4a33d40ef908edbcc7741\r\n",
      "  Stored in directory: /root/.cache/pip/wheels/82/32/c7/fd35d0d1b840a6c7cbd4343f808d10d0f7b87d271a4dbe796f\r\n",
      "  Building wheel for keras-layer-normalization (setup.py) ... \u001b[?25l-\b \bdone\r\n",
      "\u001b[?25h  Created wheel for keras-layer-normalization: filename=keras_layer_normalization-0.16.0-py3-none-any.whl size=4653 sha256=612930248e86e23dd7652d9f7f1ba7fc558606846fcfbcd8f83a9b62a375cef1\r\n",
      "  Stored in directory: /root/.cache/pip/wheels/ed/3a/4b/21db23c0cc56c4b219616e181f258eb7c57d36cc5d056fae9a\r\n",
      "  Building wheel for keras-multi-head (setup.py) ... \u001b[?25l-\b \bdone\r\n",
      "\u001b[?25h  Created wheel for keras-multi-head: filename=keras_multi_head-0.29.0-py3-none-any.whl size=14979 sha256=e67e2398f2cf37bedc64f14b2c798f3dbee8b629fc96dc2afa47416ff18b52d5\r\n",
      "  Stored in directory: /root/.cache/pip/wheels/cb/23/4b/06d7ae21714f70fcc25b48f972cc8e5e7f4b6b764a038b509d\r\n",
      "  Building wheel for keras-pos-embd (setup.py) ... \u001b[?25l-\b \bdone\r\n",
      "\u001b[?25h  Created wheel for keras-pos-embd: filename=keras_pos_embd-0.13.0-py3-none-any.whl size=6946 sha256=e5ae78dda84e8d8e66401b93f9d44e900cd7354912994eb231bd434e57ff6bde\r\n",
      "  Stored in directory: /root/.cache/pip/wheels/78/07/1b/b1ca47b6ac338554b75c8f52c54e6a2bfbe1b07d79579979a4\r\n",
      "  Building wheel for keras-position-wise-feed-forward (setup.py) ... \u001b[?25l-\b \bdone\r\n",
      "\u001b[?25h  Created wheel for keras-position-wise-feed-forward: filename=keras_position_wise_feed_forward-0.8.0-py3-none-any.whl size=4968 sha256=28c019446e5381e081b64671210c6e144c22867a8eb9e01a83a1b4eba6bb7681\r\n",
      "  Stored in directory: /root/.cache/pip/wheels/c1/6a/04/d1706a53b23b2cb5f9a0a76269bf87925daa1bca09eac01b21\r\n",
      "  Building wheel for keras-self-attention (setup.py) ... \u001b[?25l-\b \bdone\r\n",
      "\u001b[?25h  Created wheel for keras-self-attention: filename=keras_self_attention-0.51.0-py3-none-any.whl size=18895 sha256=e8eb9b657f3ae7e1e114855be4da6306bdb37b8638ab19dc1dc377009957024c\r\n",
      "  Stored in directory: /root/.cache/pip/wheels/b8/f7/24/607b483144fb9c47b4ba2c5fba6b68e54aeee2d5bf6c05302e\r\n",
      "  Building wheel for cchardet (setup.py) ... \u001b[?25l-\b \b\\\b \bdone\r\n",
      "\u001b[?25h  Created wheel for cchardet: filename=cchardet-2.1.7-cp310-cp310-linux_x86_64.whl size=133763 sha256=ea50c6838a405f480d2ebaa18769424837a441e747ffb33f67a745d9e4c2b0c5\r\n",
      "  Stored in directory: /root/.cache/pip/wheels/ee/e0/ab/e01326f15c59438d080b1496dbab8091e952ec72f35e3c437e\r\n",
      "  Building wheel for langdetect (setup.py) ... \u001b[?25l-\b \bdone\r\n",
      "\u001b[?25h  Created wheel for langdetect: filename=langdetect-1.0.9-py3-none-any.whl size=993224 sha256=b38d2ce02e8b343dd34ffd743d1a0221f5f2a20ef6f5aad48fc840d9f0cc915f\r\n",
      "  Stored in directory: /root/.cache/pip/wheels/95/03/7d/59ea870c70ce4e5a370638b5462a7711ab78fba2f655d05106\r\n",
      "  Building wheel for tika (setup.py) ... \u001b[?25l-\b \bdone\r\n",
      "\u001b[?25h  Created wheel for tika: filename=tika-2.6.0-py3-none-any.whl size=32625 sha256=3c0816ad9c288facc257de29b7cd7e8df94aabbbdbbcc9aa05eba101a5d34982\r\n",
      "  Stored in directory: /root/.cache/pip/wheels/5f/71/c7/b757709531121b1700cffda5b6b0d4aad095fb507ec84316d0\r\n",
      "Successfully built ktrain keras_bert keras-transformer keras-embed-sim keras-layer-normalization keras-multi-head keras-pos-embd keras-position-wise-feed-forward keras-self-attention cchardet langdetect tika\r\n",
      "Installing collected packages: whoosh, cchardet, syntok, langdetect, keras-self-attention, keras-position-wise-feed-forward, keras-pos-embd, keras-layer-normalization, keras-embed-sim, chardet, tika, keras-multi-head, keras-transformer, keras_bert, ktrain\r\n",
      "Successfully installed cchardet-2.1.7 chardet-5.2.0 keras-embed-sim-0.10.0 keras-layer-normalization-0.16.0 keras-multi-head-0.29.0 keras-pos-embd-0.13.0 keras-position-wise-feed-forward-0.8.0 keras-self-attention-0.51.0 keras-transformer-0.40.0 keras_bert-0.89.0 ktrain-0.38.0 langdetect-1.0.9 syntok-1.4.4 tika-2.6.0 whoosh-2.7.4\r\n",
      "Note: you may need to restart the kernel to use updated packages.\n"
     ]
    }
   ],
   "source": [
    "pip install ktrain\n"
   ]
  },
  {
   "cell_type": "code",
   "execution_count": 21,
   "id": "ee71da63",
   "metadata": {
    "execution": {
     "iopub.execute_input": "2023-10-15T17:08:10.720721Z",
     "iopub.status.busy": "2023-10-15T17:08:10.720426Z",
     "iopub.status.idle": "2023-10-15T17:08:24.882309Z",
     "shell.execute_reply": "2023-10-15T17:08:24.881244Z"
    },
    "papermill": {
     "duration": 14.175233,
     "end_time": "2023-10-15T17:08:24.885313",
     "exception": false,
     "start_time": "2023-10-15T17:08:10.710080",
     "status": "completed"
    },
    "tags": []
   },
   "outputs": [
    {
     "data": {
      "application/vnd.jupyter.widget-view+json": {
       "model_id": "037ad3690fd84226a4d5257aa6d91f1d",
       "version_major": 2,
       "version_minor": 0
      },
      "text/plain": [
       "Downloading (…)lve/main/config.json:   0%|          | 0.00/491 [00:00<?, ?B/s]"
      ]
     },
     "metadata": {},
     "output_type": "display_data"
    },
    {
     "data": {
      "application/vnd.jupyter.widget-view+json": {
       "model_id": "cf5c88955625425499fc9bbcee2ffdea",
       "version_major": 2,
       "version_minor": 0
      },
      "text/plain": [
       "Downloading model.safetensors:   0%|          | 0.00/660M [00:00<?, ?B/s]"
      ]
     },
     "metadata": {},
     "output_type": "display_data"
    }
   ],
   "source": [
    "\n",
    "import ktrain\n",
    "from ktrain import text\n",
    "MODEL_NAME = 'sagorsarker/bangla-bert-base'\n",
    "t = text.Transformer(MODEL_NAME, maxlen=500)"
   ]
  },
  {
   "cell_type": "code",
   "execution_count": 22,
   "id": "75eb2762",
   "metadata": {
    "execution": {
     "iopub.execute_input": "2023-10-15T17:08:24.906158Z",
     "iopub.status.busy": "2023-10-15T17:08:24.905579Z",
     "iopub.status.idle": "2023-10-15T17:09:06.742786Z",
     "shell.execute_reply": "2023-10-15T17:09:06.741818Z"
    },
    "papermill": {
     "duration": 41.850438,
     "end_time": "2023-10-15T17:09:06.745381",
     "exception": false,
     "start_time": "2023-10-15T17:08:24.894943",
     "status": "completed"
    },
    "tags": []
   },
   "outputs": [
    {
     "name": "stdout",
     "output_type": "stream",
     "text": [
      "preprocessing train...\n",
      "language: bn\n",
      "train sequence lengths:\n",
      "\tmean : 321\n",
      "\t95percentile : 784\n",
      "\t99percentile : 1333\n"
     ]
    },
    {
     "data": {
      "application/vnd.jupyter.widget-view+json": {
       "model_id": "1bf5b261af6d4c7497f00dd9e513f8c6",
       "version_major": 2,
       "version_minor": 0
      },
      "text/plain": [
       "Downloading (…)solve/main/vocab.txt:   0%|          | 0.00/2.24M [00:00<?, ?B/s]"
      ]
     },
     "metadata": {},
     "output_type": "display_data"
    },
    {
     "data": {
      "text/html": [
       "\n",
       "<style>\n",
       "    /* Turns off some styling */\n",
       "    progress {\n",
       "        /* gets rid of default border in Firefox and Opera. */\n",
       "        border: none;\n",
       "        /* Needs to be in here for Safari polyfill so background images work as expected. */\n",
       "        background-size: auto;\n",
       "    }\n",
       "    progress:not([value]), progress:not([value])::-webkit-progress-bar {\n",
       "        background: repeating-linear-gradient(45deg, #7e7e7e, #7e7e7e 10px, #5c5c5c 10px, #5c5c5c 20px);\n",
       "    }\n",
       "    .progress-bar-interrupted, .progress-bar-interrupted::-webkit-progress-bar {\n",
       "        background: #F44336;\n",
       "    }\n",
       "</style>\n"
      ],
      "text/plain": [
       "<IPython.core.display.HTML object>"
      ]
     },
     "metadata": {},
     "output_type": "display_data"
    },
    {
     "data": {
      "text/html": [],
      "text/plain": [
       "<IPython.core.display.HTML object>"
      ]
     },
     "metadata": {},
     "output_type": "display_data"
    },
    {
     "name": "stdout",
     "output_type": "stream",
     "text": [
      "Is Multi-Label? False\n",
      "preprocessing test...\n",
      "language: bn\n",
      "test sequence lengths:\n",
      "\tmean : 314\n",
      "\t95percentile : 765\n",
      "\t99percentile : 1322\n"
     ]
    },
    {
     "data": {
      "text/html": [
       "\n",
       "<style>\n",
       "    /* Turns off some styling */\n",
       "    progress {\n",
       "        /* gets rid of default border in Firefox and Opera. */\n",
       "        border: none;\n",
       "        /* Needs to be in here for Safari polyfill so background images work as expected. */\n",
       "        background-size: auto;\n",
       "    }\n",
       "    progress:not([value]), progress:not([value])::-webkit-progress-bar {\n",
       "        background: repeating-linear-gradient(45deg, #7e7e7e, #7e7e7e 10px, #5c5c5c 10px, #5c5c5c 20px);\n",
       "    }\n",
       "    .progress-bar-interrupted, .progress-bar-interrupted::-webkit-progress-bar {\n",
       "        background: #F44336;\n",
       "    }\n",
       "</style>\n"
      ],
      "text/plain": [
       "<IPython.core.display.HTML object>"
      ]
     },
     "metadata": {},
     "output_type": "display_data"
    },
    {
     "data": {
      "text/html": [],
      "text/plain": [
       "<IPython.core.display.HTML object>"
      ]
     },
     "metadata": {},
     "output_type": "display_data"
    }
   ],
   "source": [
    "trn = t.preprocess_train(X_train, y_train)\n",
    "val = t.preprocess_test(X_test, y_test)"
   ]
  },
  {
   "cell_type": "code",
   "execution_count": 23,
   "id": "04f38b5a",
   "metadata": {
    "execution": {
     "iopub.execute_input": "2023-10-15T17:09:06.767339Z",
     "iopub.status.busy": "2023-10-15T17:09:06.767030Z",
     "iopub.status.idle": "2023-10-15T17:09:09.414039Z",
     "shell.execute_reply": "2023-10-15T17:09:09.413099Z"
    },
    "papermill": {
     "duration": 2.660463,
     "end_time": "2023-10-15T17:09:09.416198",
     "exception": false,
     "start_time": "2023-10-15T17:09:06.755735",
     "status": "completed"
    },
    "tags": []
   },
   "outputs": [],
   "source": [
    "model = t.get_classifier()"
   ]
  },
  {
   "cell_type": "code",
   "execution_count": 24,
   "id": "8f4243d9",
   "metadata": {
    "execution": {
     "iopub.execute_input": "2023-10-15T17:09:09.438486Z",
     "iopub.status.busy": "2023-10-15T17:09:09.437606Z",
     "iopub.status.idle": "2023-10-15T17:09:11.161522Z",
     "shell.execute_reply": "2023-10-15T17:09:11.160584Z"
    },
    "papermill": {
     "duration": 1.737072,
     "end_time": "2023-10-15T17:09:11.163740",
     "exception": false,
     "start_time": "2023-10-15T17:09:09.426668",
     "status": "completed"
    },
    "tags": []
   },
   "outputs": [],
   "source": [
    "learner = ktrain.get_learner(model, train_data=trn, val_data=val, batch_size=6)\n"
   ]
  },
  {
   "cell_type": "code",
   "execution_count": 25,
   "id": "79c7fb77",
   "metadata": {
    "execution": {
     "iopub.execute_input": "2023-10-15T17:09:11.185917Z",
     "iopub.status.busy": "2023-10-15T17:09:11.185634Z",
     "iopub.status.idle": "2023-10-15T18:40:21.665243Z",
     "shell.execute_reply": "2023-10-15T18:40:21.664333Z"
    },
    "papermill": {
     "duration": 5471.114266,
     "end_time": "2023-10-15T18:40:22.288496",
     "exception": false,
     "start_time": "2023-10-15T17:09:11.174230",
     "status": "completed"
    },
    "tags": []
   },
   "outputs": [
    {
     "name": "stdout",
     "output_type": "stream",
     "text": [
      "\n",
      "\n",
      "begin training using onecycle policy with max lr of 2e-05...\n",
      "Epoch 1/8\n",
      "1386/1386 [==============================] - 696s 487ms/step - loss: 0.2271 - accuracy: 0.9129 - val_loss: 0.1687 - val_accuracy: 0.9461\n",
      "Epoch 2/8\n",
      "1386/1386 [==============================] - 671s 484ms/step - loss: 0.1179 - accuracy: 0.9537 - val_loss: 0.0943 - val_accuracy: 0.9673\n",
      "Epoch 3/8\n",
      "1386/1386 [==============================] - 671s 484ms/step - loss: 0.0682 - accuracy: 0.9750 - val_loss: 0.1646 - val_accuracy: 0.9562\n",
      "Epoch 4/8\n",
      "1386/1386 [==============================] - 710s 512ms/step - loss: 0.0444 - accuracy: 0.9853 - val_loss: 0.1464 - val_accuracy: 0.9639\n",
      "Epoch 5/8\n",
      "1386/1386 [==============================] - 671s 484ms/step - loss: 0.0296 - accuracy: 0.9909 - val_loss: 0.1377 - val_accuracy: 0.9668\n",
      "Epoch 6/8\n",
      "1386/1386 [==============================] - 671s 484ms/step - loss: 0.0081 - accuracy: 0.9976 - val_loss: 0.1615 - val_accuracy: 0.9711\n",
      "Epoch 7/8\n",
      "1386/1386 [==============================] - 709s 512ms/step - loss: 0.0027 - accuracy: 0.9993 - val_loss: 0.1709 - val_accuracy: 0.9678\n",
      "Epoch 8/8\n",
      "1386/1386 [==============================] - 671s 484ms/step - loss: 3.0183e-04 - accuracy: 1.0000 - val_loss: 0.1671 - val_accuracy: 0.9711\n"
     ]
    }
   ],
   "source": [
    "history = learner.fit_onecycle(2e-5, 8)\n"
   ]
  },
  {
   "cell_type": "code",
   "execution_count": 26,
   "id": "9f5976e6",
   "metadata": {
    "execution": {
     "iopub.execute_input": "2023-10-15T18:40:23.290177Z",
     "iopub.status.busy": "2023-10-15T18:40:23.289688Z",
     "iopub.status.idle": "2023-10-15T18:41:09.879586Z",
     "shell.execute_reply": "2023-10-15T18:41:09.878547Z"
    },
    "papermill": {
     "duration": 47.092774,
     "end_time": "2023-10-15T18:41:09.881338",
     "exception": false,
     "start_time": "2023-10-15T18:40:22.788564",
     "status": "completed"
    },
    "tags": []
   },
   "outputs": [
    {
     "name": "stdout",
     "output_type": "stream",
     "text": [
      "65/65 [==============================] - 46s 668ms/step\n",
      "              precision    recall  f1-score   support\n",
      "\n",
      "        fake       0.88      0.88      0.88       248\n",
      "        true       0.98      0.98      0.98      1831\n",
      "\n",
      "    accuracy                           0.97      2079\n",
      "   macro avg       0.93      0.93      0.93      2079\n",
      "weighted avg       0.97      0.97      0.97      2079\n",
      "\n"
     ]
    },
    {
     "data": {
      "text/plain": [
       "array([[ 218,   30],\n",
       "       [  30, 1801]])"
      ]
     },
     "execution_count": 26,
     "metadata": {},
     "output_type": "execute_result"
    }
   ],
   "source": [
    "learner.validate(class_names=t.get_classes()) \n"
   ]
  },
  {
   "cell_type": "code",
   "execution_count": 27,
   "id": "b05a9fe3",
   "metadata": {
    "execution": {
     "iopub.execute_input": "2023-10-15T18:41:10.876974Z",
     "iopub.status.busy": "2023-10-15T18:41:10.876636Z",
     "iopub.status.idle": "2023-10-15T18:41:10.883073Z",
     "shell.execute_reply": "2023-10-15T18:41:10.882096Z"
    },
    "papermill": {
     "duration": 0.504742,
     "end_time": "2023-10-15T18:41:10.884825",
     "exception": false,
     "start_time": "2023-10-15T18:41:10.380083",
     "status": "completed"
    },
    "tags": []
   },
   "outputs": [],
   "source": [
    "def PlotGraph(history):\n",
    "    acc = history.history['accuracy']\n",
    "    val_acc = history.history['val_accuracy']\n",
    "    loss = history.history['loss']\n",
    "    val_loss = history.history['val_loss']\n",
    "    x = range(1, len(acc) + 1)\n",
    "\n",
    "    plt.figure(figsize=(12, 5))\n",
    "    plt.subplot(1, 2, 1)\n",
    "    plt.plot(x, acc, 'g', label='Training acc')\n",
    "    plt.plot(x, val_acc, 'b', label='Validation acc')\n",
    "    plt.title('Training and validation accuracy')\n",
    "    plt.legend()\n",
    "    plt.subplot(1, 2, 2)\n",
    "    plt.plot(x, loss, 'g', label='Training loss')\n",
    "    plt.plot(x, val_loss, 'b', label='Validation loss')\n",
    "    plt.title('Training and validation loss')\n",
    "    plt.legend() "
   ]
  },
  {
   "cell_type": "code",
   "execution_count": 28,
   "id": "2cd01470",
   "metadata": {
    "execution": {
     "iopub.execute_input": "2023-10-15T18:41:12.002911Z",
     "iopub.status.busy": "2023-10-15T18:41:12.002354Z",
     "iopub.status.idle": "2023-10-15T18:41:12.596685Z",
     "shell.execute_reply": "2023-10-15T18:41:12.595762Z"
    },
    "papermill": {
     "duration": 1.157199,
     "end_time": "2023-10-15T18:41:12.598797",
     "exception": false,
     "start_time": "2023-10-15T18:41:11.441598",
     "status": "completed"
    },
    "tags": []
   },
   "outputs": [
    {
     "data": {
      "image/png": "[encoded data removed]",
      "text/plain": [
       "<Figure size 1200x500 with 2 Axes>"
      ]
     },
     "metadata": {},
     "output_type": "display_data"
    }
   ],
   "source": [
    "PlotGraph(history)"
   ]
  },
  {
   "cell_type": "code",
   "execution_count": null,
   "id": "1bcacc3f",
   "metadata": {
    "papermill": {
     "duration": 0.549188,
     "end_time": "2023-10-15T18:41:13.665740",
     "exception": false,
     "start_time": "2023-10-15T18:41:13.116552",
     "status": "completed"
    },
    "tags": []
   },
   "outputs": [],
   "source": []
  }
 ],
 "metadata": {
  "kernelspec": {
   "display_name": "Python 3",
   "language": "python",
   "name": "python3"
  },
  "language_info": {
   "codemirror_mode": {
    "name": "ipython",
    "version": 3
   },
   "file_extension": ".py",
   "mimetype": "text/x-python",
   "name": "python",
   "nbconvert_exporter": "python",
   "pygments_lexer": "ipython3",
   "version": "3.10.12"
  },
  "papermill": {
   "default_parameters": {},
   "duration": 5862.779021,
   "end_time": "2023-10-15T18:41:17.494259",
   "environment_variables": {},
   "exception": null,
   "input_path": "__notebook__.ipynb",
   "output_path": "__notebook__.ipynb",
   "parameters": {},
   "start_time": "2023-10-15T17:03:34.715238",
   "version": "2.4.0"
  },
  "widgets": {
   "application/vnd.jupyter.widget-state+json": {
    "state": {
     "00c4798044ba408691f0455487eb8940": {
      "model_module": "@jupyter-widgets/controls",
      "model_module_version": "1.5.0",
      "model_name": "HTMLModel",
      "state": {
       "_dom_classes": [],
       "_model_module": "@jupyter-widgets/controls",
       "_model_module_version": "1.5.0",
       "_model_name": "HTMLModel",
       "_view_count": null,
       "_view_module": "@jupyter-widgets/controls",
       "_view_module_version": "1.5.0",
       "_view_name": "HTMLView",
       "description": "",
       "description_tooltip": null,
       "layout": "IPY_MODEL_213e767b72704c3da034066adf5ba5ed",
       "placeholder": "​",
       "style": "IPY_MODEL_1bb23c58fcde417caf3ac5c8c5e2cbbb",
       "value": " 660M/660M [00:02&lt;00:00, 260MB/s]"
      }
     },
     "01a057727ac349059c104b92eab4c2c6": {
      "model_module": "@jupyter-widgets/controls",
      "model_module_version": "1.5.0",
      "model_name": "FloatProgressModel",
      "state": {
       "_dom_classes": [],
       "_model_module": "@jupyter-widgets/controls",
       "_model_module_version": "1.5.0",
       "_model_name": "FloatProgressModel",
       "_view_count": null,
       "_view_module": "@jupyter-widgets/controls",
       "_view_module_version": "1.5.0",
       "_view_name": "ProgressView",
       "bar_style": "success",
       "description": "",
       "description_tooltip": null,
       "layout": "IPY_MODEL_5b5482b54fc644aa9d850026b4b96974",
       "max": 2237676.0,
       "min": 0.0,
       "orientation": "horizontal",
       "style": "IPY_MODEL_141aa91236304ee1ba9b0efdd483c812",
       "value": 2237676.0
      }
     },
     "037ad3690fd84226a4d5257aa6d91f1d": {
      "model_module": "@jupyter-widgets/controls",
      "model_module_version": "1.5.0",
      "model_name": "HBoxModel",
      "state": {
       "_dom_classes": [],
       "_model_module": "@jupyter-widgets/controls",
       "_model_module_version": "1.5.0",
       "_model_name": "HBoxModel",
       "_view_count": null,
       "_view_module": "@jupyter-widgets/controls",
       "_view_module_version": "1.5.0",
       "_view_name": "HBoxView",
       "box_style": "",
       "children": [
        "IPY_MODEL_16a0c2fcb0ca41c78f19506e6c2747aa",
        "IPY_MODEL_aab6d9f6522549e89cf9b14b8bc81926",
        "IPY_MODEL_d979aade446d4ac9b6d3199b7dfee2d5"
       ],
       "layout": "IPY_MODEL_ac104f0ee9684bea8ae7330951bafd24"
      }
     },
     "056f74c05f31464fb5935a7780f9998c": {
      "model_module": "@jupyter-widgets/base",
      "model_module_version": "1.2.0",
      "model_name": "LayoutModel",
      "state": {
       "_model_module": "@jupyter-widgets/base",
       "_model_module_version": "1.2.0",
       "_model_name": "LayoutModel",
       "_view_count": null,
       "_view_module": "@jupyter-widgets/base",
       "_view_module_version": "1.2.0",
       "_view_name": "LayoutView",
       "align_content": null,
       "align_items": null,
       "align_self": null,
       "border": null,
       "bottom": null,
       "display": null,
       "flex": null,
       "flex_flow": null,
       "grid_area": null,
       "grid_auto_columns": null,
       "grid_auto_flow": null,
       "grid_auto_rows": null,
       "grid_column": null,
       "grid_gap": null,
       "grid_row": null,
       "grid_template_areas": null,
       "grid_template_columns": null,
       "grid_template_rows": null,
       "height": null,
       "justify_content": null,
       "justify_items": null,
       "left": null,
       "margin": null,
       "max_height": null,
       "max_width": null,
       "min_height": null,
       "min_width": null,
       "object_fit": null,
       "object_position": null,
       "order": null,
       "overflow": null,
       "overflow_x": null,
       "overflow_y": null,
       "padding": null,
       "right": null,
       "top": null,
       "visibility": null,
       "width": null
      }
     },
     "141aa91236304ee1ba9b0efdd483c812": {
      "model_module": "@jupyter-widgets/controls",
      "model_module_version": "1.5.0",
      "model_name": "ProgressStyleModel",
      "state": {
       "_model_module": "@jupyter-widgets/controls",
       "_model_module_version": "1.5.0",
       "_model_name": "ProgressStyleModel",
       "_view_count": null,
       "_view_module": "@jupyter-widgets/base",
       "_view_module_version": "1.2.0",
       "_view_name": "StyleView",
       "bar_color": null,
       "description_width": ""
      }
     },
     "16a0c2fcb0ca41c78f19506e6c2747aa": {
      "model_module": "@jupyter-widgets/controls",
      "model_module_version": "1.5.0",
      "model_name": "HTMLModel",
      "state": {
       "_dom_classes": [],
       "_model_module": "@jupyter-widgets/controls",
       "_model_module_version": "1.5.0",
       "_model_name": "HTMLModel",
       "_view_count": null,
       "_view_module": "@jupyter-widgets/controls",
       "_view_module_version": "1.5.0",
       "_view_name": "HTMLView",
       "description": "",
       "description_tooltip": null,
       "layout": "IPY_MODEL_cbffa560f1e44ad3b4e78ad070d8b185",
       "placeholder": "​",
       "style": "IPY_MODEL_5b24c5a0819d494992b279ebe0dbf6a9",
       "value": "Downloading (…)lve/main/config.json: 100%"
      }
     },
     "1bb23c58fcde417caf3ac5c8c5e2cbbb": {
      "model_module": "@jupyter-widgets/controls",
      "model_module_version": "1.5.0",
      "model_name": "DescriptionStyleModel",
      "state": {
       "_model_module": "@jupyter-widgets/controls",
       "_model_module_version": "1.5.0",
       "_model_name": "DescriptionStyleModel",
       "_view_count": null,
       "_view_module": "@jupyter-widgets/base",
       "_view_module_version": "1.2.0",
       "_view_name": "StyleView",
       "description_width": ""
      }
     },
     "1bf5b261af6d4c7497f00dd9e513f8c6": {
      "model_module": "@jupyter-widgets/controls",
      "model_module_version": "1.5.0",
      "model_name": "HBoxModel",
      "state": {
       "_dom_classes": [],
       "_model_module": "@jupyter-widgets/controls",
       "_model_module_version": "1.5.0",
       "_model_name": "HBoxModel",
       "_view_count": null,
       "_view_module": "@jupyter-widgets/controls",
       "_view_module_version": "1.5.0",
       "_view_name": "HBoxView",
       "box_style": "",
       "children": [
        "IPY_MODEL_2cc9e85c76144223b9048a2b89f055da",
        "IPY_MODEL_01a057727ac349059c104b92eab4c2c6",
        "IPY_MODEL_ca88c3fee48a4291bfba9a6f168a8e2f"
       ],
       "layout": "IPY_MODEL_9d921bae537b486a86a40d55e3dccc25"
      }
     },
     "1febaf24c1eb4875b028c2688e33a75b": {
      "model_module": "@jupyter-widgets/base",
      "model_module_version": "1.2.0",
      "model_name": "LayoutModel",
      "state": {
       "_model_module": "@jupyter-widgets/base",
       "_model_module_version": "1.2.0",
       "_model_name": "LayoutModel",
       "_view_count": null,
       "_view_module": "@jupyter-widgets/base",
       "_view_module_version": "1.2.0",
       "_view_name": "LayoutView",
       "align_content": null,
       "align_items": null,
       "align_self": null,
       "border": null,
       "bottom": null,
       "display": null,
       "flex": null,
       "flex_flow": null,
       "grid_area": null,
       "grid_auto_columns": null,
       "grid_auto_flow": null,
       "grid_auto_rows": null,
       "grid_column": null,
       "grid_gap": null,
       "grid_row": null,
       "grid_template_areas": null,
       "grid_template_columns": null,
       "grid_template_rows": null,
       "height": null,
       "justify_content": null,
       "justify_items": null,
       "left": null,
       "margin": null,
       "max_height": null,
       "max_width": null,
       "min_height": null,
       "min_width": null,
       "object_fit": null,
       "object_position": null,
       "order": null,
       "overflow": null,
       "overflow_x": null,
       "overflow_y": null,
       "padding": null,
       "right": null,
       "top": null,
       "visibility": null,
       "width": null
      }
     },
     "213e767b72704c3da034066adf5ba5ed": {
      "model_module": "@jupyter-widgets/base",
      "model_module_version": "1.2.0",
      "model_name": "LayoutModel",
      "state": {
       "_model_module": "@jupyter-widgets/base",
       "_model_module_version": "1.2.0",
       "_model_name": "LayoutModel",
       "_view_count": null,
       "_view_module": "@jupyter-widgets/base",
       "_view_module_version": "1.2.0",
       "_view_name": "LayoutView",
       "align_content": null,
       "align_items": null,
       "align_self": null,
       "border": null,
       "bottom": null,
       "display": null,
       "flex": null,
       "flex_flow": null,
       "grid_area": null,
       "grid_auto_columns": null,
       "grid_auto_flow": null,
       "grid_auto_rows": null,
       "grid_column": null,
       "grid_gap": null,
       "grid_row": null,
       "grid_template_areas": null,
       "grid_template_columns": null,
       "grid_template_rows": null,
       "height": null,
       "justify_content": null,
       "justify_items": null,
       "left": null,
       "margin": null,
       "max_height": null,
       "max_width": null,
       "min_height": null,
       "min_width": null,
       "object_fit": null,
       "object_position": null,
       "order": null,
       "overflow": null,
       "overflow_x": null,
       "overflow_y": null,
       "padding": null,
       "right": null,
       "top": null,
       "visibility": null,
       "width": null
      }
     },
     "2617714f7d23472f87889ad24d0368ca": {
      "model_module": "@jupyter-widgets/base",
      "model_module_version": "1.2.0",
      "model_name": "LayoutModel",
      "state": {
       "_model_module": "@jupyter-widgets/base",
       "_model_module_version": "1.2.0",
       "_model_name": "LayoutModel",
       "_view_count": null,
       "_view_module": "@jupyter-widgets/base",
       "_view_module_version": "1.2.0",
       "_view_name": "LayoutView",
       "align_content": null,
       "align_items": null,
       "align_self": null,
       "border": null,
       "bottom": null,
       "display": null,
       "flex": null,
       "flex_flow": null,
       "grid_area": null,
       "grid_auto_columns": null,
       "grid_auto_flow": null,
       "grid_auto_rows": null,
       "grid_column": null,
       "grid_gap": null,
       "grid_row": null,
       "grid_template_areas": null,
       "grid_template_columns": null,
       "grid_template_rows": null,
       "height": null,
       "justify_content": null,
       "justify_items": null,
       "left": null,
       "margin": null,
       "max_height": null,
       "max_width": null,
       "min_height": null,
       "min_width": null,
       "object_fit": null,
       "object_position": null,
       "order": null,
       "overflow": null,
       "overflow_x": null,
       "overflow_y": null,
       "padding": null,
       "right": null,
       "top": null,
       "visibility": null,
       "width": null
      }
     },
     "2cc9e85c76144223b9048a2b89f055da": {
      "model_module": "@jupyter-widgets/controls",
      "model_module_version": "1.5.0",
      "model_name": "HTMLModel",
      "state": {
       "_dom_classes": [],
       "_model_module": "@jupyter-widgets/controls",
       "_model_module_version": "1.5.0",
       "_model_name": "HTMLModel",
       "_view_count": null,
       "_view_module": "@jupyter-widgets/controls",
       "_view_module_version": "1.5.0",
       "_view_name": "HTMLView",
       "description": "",
       "description_tooltip": null,
       "layout": "IPY_MODEL_480de3c05dab4d18b2abfd308d93cce4",
       "placeholder": "​",
       "style": "IPY_MODEL_f270a9aa7ca242028a3a76bd0a4d8f9c",
       "value": "Downloading (…)solve/main/vocab.txt: 100%"
      }
     },
     "480de3c05dab4d18b2abfd308d93cce4": {
      "model_module": "@jupyter-widgets/base",
      "model_module_version": "1.2.0",
      "model_name": "LayoutModel",
      "state": {
       "_model_module": "@jupyter-widgets/base",
       "_model_module_version": "1.2.0",
       "_model_name": "LayoutModel",
       "_view_count": null,
       "_view_module": "@jupyter-widgets/base",
       "_view_module_version": "1.2.0",
       "_view_name": "LayoutView",
       "align_content": null,
       "align_items": null,
       "align_self": null,
       "border": null,
       "bottom": null,
       "display": null,
       "flex": null,
       "flex_flow": null,
       "grid_area": null,
       "grid_auto_columns": null,
       "grid_auto_flow": null,
       "grid_auto_rows": null,
       "grid_column": null,
       "grid_gap": null,
       "grid_row": null,
       "grid_template_areas": null,
       "grid_template_columns": null,
       "grid_template_rows": null,
       "height": null,
       "justify_content": null,
       "justify_items": null,
       "left": null,
       "margin": null,
       "max_height": null,
       "max_width": null,
       "min_height": null,
       "min_width": null,
       "object_fit": null,
       "object_position": null,
       "order": null,
       "overflow": null,
       "overflow_x": null,
       "overflow_y": null,
       "padding": null,
       "right": null,
       "top": null,
       "visibility": null,
       "width": null
      }
     },
     "5b24c5a0819d494992b279ebe0dbf6a9": {
      "model_module": "@jupyter-widgets/controls",
      "model_module_version": "1.5.0",
      "model_name": "DescriptionStyleModel",
      "state": {
       "_model_module": "@jupyter-widgets/controls",
       "_model_module_version": "1.5.0",
       "_model_name": "DescriptionStyleModel",
       "_view_count": null,
       "_view_module": "@jupyter-widgets/base",
       "_view_module_version": "1.2.0",
       "_view_name": "StyleView",
       "description_width": ""
      }
     },
     "5b5482b54fc644aa9d850026b4b96974": {
      "model_module": "@jupyter-widgets/base",
      "model_module_version": "1.2.0",
      "model_name": "LayoutModel",
      "state": {
       "_model_module": "@jupyter-widgets/base",
       "_model_module_version": "1.2.0",
       "_model_name": "LayoutModel",
       "_view_count": null,
       "_view_module": "@jupyter-widgets/base",
       "_view_module_version": "1.2.0",
       "_view_name": "LayoutView",
       "align_content": null,
       "align_items": null,
       "align_self": null,
       "border": null,
       "bottom": null,
       "display": null,
       "flex": null,
       "flex_flow": null,
       "grid_area": null,
       "grid_auto_columns": null,
       "grid_auto_flow": null,
       "grid_auto_rows": null,
       "grid_column": null,
       "grid_gap": null,
       "grid_row": null,
       "grid_template_areas": null,
       "grid_template_columns": null,
       "grid_template_rows": null,
       "height": null,
       "justify_content": null,
       "justify_items": null,
       "left": null,
       "margin": null,
       "max_height": null,
       "max_width": null,
       "min_height": null,
       "min_width": null,
       "object_fit": null,
       "object_position": null,
       "order": null,
       "overflow": null,
       "overflow_x": null,
       "overflow_y": null,
       "padding": null,
       "right": null,
       "top": null,
       "visibility": null,
       "width": null
      }
     },
     "61af1a7af4184d4a895d03767e40f016": {
      "model_module": "@jupyter-widgets/base",
      "model_module_version": "1.2.0",
      "model_name": "LayoutModel",
      "state": {
       "_model_module": "@jupyter-widgets/base",
       "_model_module_version": "1.2.0",
       "_model_name": "LayoutModel",
       "_view_count": null,
       "_view_module": "@jupyter-widgets/base",
       "_view_module_version": "1.2.0",
       "_view_name": "LayoutView",
       "align_content": null,
       "align_items": null,
       "align_self": null,
       "border": null,
       "bottom": null,
       "display": null,
       "flex": null,
       "flex_flow": null,
       "grid_area": null,
       "grid_auto_columns": null,
       "grid_auto_flow": null,
       "grid_auto_rows": null,
       "grid_column": null,
       "grid_gap": null,
       "grid_row": null,
       "grid_template_areas": null,
       "grid_template_columns": null,
       "grid_template_rows": null,
       "height": null,
       "justify_content": null,
       "justify_items": null,
       "left": null,
       "margin": null,
       "max_height": null,
       "max_width": null,
       "min_height": null,
       "min_width": null,
       "object_fit": null,
       "object_position": null,
       "order": null,
       "overflow": null,
       "overflow_x": null,
       "overflow_y": null,
       "padding": null,
       "right": null,
       "top": null,
       "visibility": null,
       "width": null
      }
     },
     "6218f654c772450fb547f4162efa6ebe": {
      "model_module": "@jupyter-widgets/base",
      "model_module_version": "1.2.0",
      "model_name": "LayoutModel",
      "state": {
       "_model_module": "@jupyter-widgets/base",
       "_model_module_version": "1.2.0",
       "_model_name": "LayoutModel",
       "_view_count": null,
       "_view_module": "@jupyter-widgets/base",
       "_view_module_version": "1.2.0",
       "_view_name": "LayoutView",
       "align_content": null,
       "align_items": null,
       "align_self": null,
       "border": null,
       "bottom": null,
       "display": null,
       "flex": null,
       "flex_flow": null,
       "grid_area": null,
       "grid_auto_columns": null,
       "grid_auto_flow": null,
       "grid_auto_rows": null,
       "grid_column": null,
       "grid_gap": null,
       "grid_row": null,
       "grid_template_areas": null,
       "grid_template_columns": null,
       "grid_template_rows": null,
       "height": null,
       "justify_content": null,
       "justify_items": null,
       "left": null,
       "margin": null,
       "max_height": null,
       "max_width": null,
       "min_height": null,
       "min_width": null,
       "object_fit": null,
       "object_position": null,
       "order": null,
       "overflow": null,
       "overflow_x": null,
       "overflow_y": null,
       "padding": null,
       "right": null,
       "top": null,
       "visibility": null,
       "width": null
      }
     },
     "6a578a4c1c17426b9aecc0aab485367d": {
      "model_module": "@jupyter-widgets/controls",
      "model_module_version": "1.5.0",
      "model_name": "DescriptionStyleModel",
      "state": {
       "_model_module": "@jupyter-widgets/controls",
       "_model_module_version": "1.5.0",
       "_model_name": "DescriptionStyleModel",
       "_view_count": null,
       "_view_module": "@jupyter-widgets/base",
       "_view_module_version": "1.2.0",
       "_view_name": "StyleView",
       "description_width": ""
      }
     },
     "7a3f3607c8de43e4ade53fbe1c0cbd46": {
      "model_module": "@jupyter-widgets/controls",
      "model_module_version": "1.5.0",
      "model_name": "HTMLModel",
      "state": {
       "_dom_classes": [],
       "_model_module": "@jupyter-widgets/controls",
       "_model_module_version": "1.5.0",
       "_model_name": "HTMLModel",
       "_view_count": null,
       "_view_module": "@jupyter-widgets/controls",
       "_view_module_version": "1.5.0",
       "_view_name": "HTMLView",
       "description": "",
       "description_tooltip": null,
       "layout": "IPY_MODEL_1febaf24c1eb4875b028c2688e33a75b",
       "placeholder": "​",
       "style": "IPY_MODEL_6a578a4c1c17426b9aecc0aab485367d",
       "value": "Downloading model.safetensors: 100%"
      }
     },
     "9a88846da568469bb255b1ea7a139492": {
      "model_module": "@jupyter-widgets/controls",
      "model_module_version": "1.5.0",
      "model_name": "ProgressStyleModel",
      "state": {
       "_model_module": "@jupyter-widgets/controls",
       "_model_module_version": "1.5.0",
       "_model_name": "ProgressStyleModel",
       "_view_count": null,
       "_view_module": "@jupyter-widgets/base",
       "_view_module_version": "1.2.0",
       "_view_name": "StyleView",
       "bar_color": null,
       "description_width": ""
      }
     },
     "9d921bae537b486a86a40d55e3dccc25": {
      "model_module": "@jupyter-widgets/base",
      "model_module_version": "1.2.0",
      "model_name": "LayoutModel",
      "state": {
       "_model_module": "@jupyter-widgets/base",
       "_model_module_version": "1.2.0",
       "_model_name": "LayoutModel",
       "_view_count": null,
       "_view_module": "@jupyter-widgets/base",
       "_view_module_version": "1.2.0",
       "_view_name": "LayoutView",
       "align_content": null,
       "align_items": null,
       "align_self": null,
       "border": null,
       "bottom": null,
       "display": null,
       "flex": null,
       "flex_flow": null,
       "grid_area": null,
       "grid_auto_columns": null,
       "grid_auto_flow": null,
       "grid_auto_rows": null,
       "grid_column": null,
       "grid_gap": null,
       "grid_row": null,
       "grid_template_areas": null,
       "grid_template_columns": null,
       "grid_template_rows": null,
       "height": null,
       "justify_content": null,
       "justify_items": null,
       "left": null,
       "margin": null,
       "max_height": null,
       "max_width": null,
       "min_height": null,
       "min_width": null,
       "object_fit": null,
       "object_position": null,
       "order": null,
       "overflow": null,
       "overflow_x": null,
       "overflow_y": null,
       "padding": null,
       "right": null,
       "top": null,
       "visibility": null,
       "width": null
      }
     },
     "aab6d9f6522549e89cf9b14b8bc81926": {
      "model_module": "@jupyter-widgets/controls",
      "model_module_version": "1.5.0",
      "model_name": "FloatProgressModel",
      "state": {
       "_dom_classes": [],
       "_model_module": "@jupyter-widgets/controls",
       "_model_module_version": "1.5.0",
       "_model_name": "FloatProgressModel",
       "_view_count": null,
       "_view_module": "@jupyter-widgets/controls",
       "_view_module_version": "1.5.0",
       "_view_name": "ProgressView",
       "bar_style": "success",
       "description": "",
       "description_tooltip": null,
       "layout": "IPY_MODEL_61af1a7af4184d4a895d03767e40f016",
       "max": 491.0,
       "min": 0.0,
       "orientation": "horizontal",
       "style": "IPY_MODEL_9a88846da568469bb255b1ea7a139492",
       "value": 491.0
      }
     },
     "ac104f0ee9684bea8ae7330951bafd24": {
      "model_module": "@jupyter-widgets/base",
      "model_module_version": "1.2.0",
      "model_name": "LayoutModel",
      "state": {
       "_model_module": "@jupyter-widgets/base",
       "_model_module_version": "1.2.0",
       "_model_name": "LayoutModel",
       "_view_count": null,
       "_view_module": "@jupyter-widgets/base",
       "_view_module_version": "1.2.0",
       "_view_name": "LayoutView",
       "align_content": null,
       "align_items": null,
       "align_self": null,
       "border": null,
       "bottom": null,
       "display": null,
       "flex": null,
       "flex_flow": null,
       "grid_area": null,
       "grid_auto_columns": null,
       "grid_auto_flow": null,
       "grid_auto_rows": null,
       "grid_column": null,
       "grid_gap": null,
       "grid_row": null,
       "grid_template_areas": null,
       "grid_template_columns": null,
       "grid_template_rows": null,
       "height": null,
       "justify_content": null,
       "justify_items": null,
       "left": null,
       "margin": null,
       "max_height": null,
       "max_width": null,
       "min_height": null,
       "min_width": null,
       "object_fit": null,
       "object_position": null,
       "order": null,
       "overflow": null,
       "overflow_x": null,
       "overflow_y": null,
       "padding": null,
       "right": null,
       "top": null,
       "visibility": null,
       "width": null
      }
     },
     "ca88c3fee48a4291bfba9a6f168a8e2f": {
      "model_module": "@jupyter-widgets/controls",
      "model_module_version": "1.5.0",
      "model_name": "HTMLModel",
      "state": {
       "_dom_classes": [],
       "_model_module": "@jupyter-widgets/controls",
       "_model_module_version": "1.5.0",
       "_model_name": "HTMLModel",
       "_view_count": null,
       "_view_module": "@jupyter-widgets/controls",
       "_view_module_version": "1.5.0",
       "_view_name": "HTMLView",
       "description": "",
       "description_tooltip": null,
       "layout": "IPY_MODEL_056f74c05f31464fb5935a7780f9998c",
       "placeholder": "​",
       "style": "IPY_MODEL_cd08a99272e0469eb8369ca36bd4beb1",
       "value": " 2.24M/2.24M [00:00&lt;00:00, 37.3MB/s]"
      }
     },
     "cbffa560f1e44ad3b4e78ad070d8b185": {
      "model_module": "@jupyter-widgets/base",
      "model_module_version": "1.2.0",
      "model_name": "LayoutModel",
      "state": {
       "_model_module": "@jupyter-widgets/base",
       "_model_module_version": "1.2.0",
       "_model_name": "LayoutModel",
       "_view_count": null,
       "_view_module": "@jupyter-widgets/base",
       "_view_module_version": "1.2.0",
       "_view_name": "LayoutView",
       "align_content": null,
       "align_items": null,
       "align_self": null,
       "border": null,
       "bottom": null,
       "display": null,
       "flex": null,
       "flex_flow": null,
       "grid_area": null,
       "grid_auto_columns": null,
       "grid_auto_flow": null,
       "grid_auto_rows": null,
       "grid_column": null,
       "grid_gap": null,
       "grid_row": null,
       "grid_template_areas": null,
       "grid_template_columns": null,
       "grid_template_rows": null,
       "height": null,
       "justify_content": null,
       "justify_items": null,
       "left": null,
       "margin": null,
       "max_height": null,
       "max_width": null,
       "min_height": null,
       "min_width": null,
       "object_fit": null,
       "object_position": null,
       "order": null,
       "overflow": null,
       "overflow_x": null,
       "overflow_y": null,
       "padding": null,
       "right": null,
       "top": null,
       "visibility": null,
       "width": null
      }
     },
     "cd08a99272e0469eb8369ca36bd4beb1": {
      "model_module": "@jupyter-widgets/controls",
      "model_module_version": "1.5.0",
      "model_name": "DescriptionStyleModel",
      "state": {
       "_model_module": "@jupyter-widgets/controls",
       "_model_module_version": "1.5.0",
       "_model_name": "DescriptionStyleModel",
       "_view_count": null,
       "_view_module": "@jupyter-widgets/base",
       "_view_module_version": "1.2.0",
       "_view_name": "StyleView",
       "description_width": ""
      }
     },
     "cf5c88955625425499fc9bbcee2ffdea": {
      "model_module": "@jupyter-widgets/controls",
      "model_module_version": "1.5.0",
      "model_name": "HBoxModel",
      "state": {
       "_dom_classes": [],
       "_model_module": "@jupyter-widgets/controls",
       "_model_module_version": "1.5.0",
       "_model_name": "HBoxModel",
       "_view_count": null,
       "_view_module": "@jupyter-widgets/controls",
       "_view_module_version": "1.5.0",
       "_view_name": "HBoxView",
       "box_style": "",
       "children": [
        "IPY_MODEL_7a3f3607c8de43e4ade53fbe1c0cbd46",
        "IPY_MODEL_d2dcd53ec77f48939a53d57648a12975",
        "IPY_MODEL_00c4798044ba408691f0455487eb8940"
       ],
       "layout": "IPY_MODEL_6218f654c772450fb547f4162efa6ebe"
      }
     },
     "d2dcd53ec77f48939a53d57648a12975": {
      "model_module": "@jupyter-widgets/controls",
      "model_module_version": "1.5.0",
      "model_name": "FloatProgressModel",
      "state": {
       "_dom_classes": [],
       "_model_module": "@jupyter-widgets/controls",
       "_model_module_version": "1.5.0",
       "_model_name": "FloatProgressModel",
       "_view_count": null,
       "_view_module": "@jupyter-widgets/controls",
       "_view_module_version": "1.5.0",
       "_view_name": "ProgressView",
       "bar_style": "success",
       "description": "",
       "description_tooltip": null,
       "layout": "IPY_MODEL_f3a9d8faa8cc45e88152b79e1117b051",
       "max": 660393036.0,
       "min": 0.0,
       "orientation": "horizontal",
       "style": "IPY_MODEL_fc3f8c5e806d4e87846950d15f6f30be",
       "value": 660393036.0
      }
     },
     "d7877f0810df4895839ac5735baeadf1": {
      "model_module": "@jupyter-widgets/controls",
      "model_module_version": "1.5.0",
      "model_name": "DescriptionStyleModel",
      "state": {
       "_model_module": "@jupyter-widgets/controls",
       "_model_module_version": "1.5.0",
       "_model_name": "DescriptionStyleModel",
       "_view_count": null,
       "_view_module": "@jupyter-widgets/base",
       "_view_module_version": "1.2.0",
       "_view_name": "StyleView",
       "description_width": ""
      }
     },
     "d979aade446d4ac9b6d3199b7dfee2d5": {
      "model_module": "@jupyter-widgets/controls",
      "model_module_version": "1.5.0",
      "model_name": "HTMLModel",
      "state": {
       "_dom_classes": [],
       "_model_module": "@jupyter-widgets/controls",
       "_model_module_version": "1.5.0",
       "_model_name": "HTMLModel",
       "_view_count": null,
       "_view_module": "@jupyter-widgets/controls",
       "_view_module_version": "1.5.0",
       "_view_name": "HTMLView",
       "description": "",
       "description_tooltip": null,
       "layout": "IPY_MODEL_2617714f7d23472f87889ad24d0368ca",
       "placeholder": "​",
       "style": "IPY_MODEL_d7877f0810df4895839ac5735baeadf1",
       "value": " 491/491 [00:00&lt;00:00, 30.2kB/s]"
      }
     },
     "f270a9aa7ca242028a3a76bd0a4d8f9c": {
      "model_module": "@jupyter-widgets/controls",
      "model_module_version": "1.5.0",
      "model_name": "DescriptionStyleModel",
      "state": {
       "_model_module": "@jupyter-widgets/controls",
       "_model_module_version": "1.5.0",
       "_model_name": "DescriptionStyleModel",
       "_view_count": null,
       "_view_module": "@jupyter-widgets/base",
       "_view_module_version": "1.2.0",
       "_view_name": "StyleView",
       "description_width": ""
      }
     },
     "f3a9d8faa8cc45e88152b79e1117b051": {
      "model_module": "@jupyter-widgets/base",
      "model_module_version": "1.2.0",
      "model_name": "LayoutModel",
      "state": {
       "_model_module": "@jupyter-widgets/base",
       "_model_module_version": "1.2.0",
       "_model_name": "LayoutModel",
       "_view_count": null,
       "_view_module": "@jupyter-widgets/base",
       "_view_module_version": "1.2.0",
       "_view_name": "LayoutView",
       "align_content": null,
       "align_items": null,
       "align_self": null,
       "border": null,
       "bottom": null,
       "display": null,
       "flex": null,
       "flex_flow": null,
       "grid_area": null,
       "grid_auto_columns": null,
       "grid_auto_flow": null,
       "grid_auto_rows": null,
       "grid_column": null,
       "grid_gap": null,
       "grid_row": null,
       "grid_template_areas": null,
       "grid_template_columns": null,
       "grid_template_rows": null,
       "height": null,
       "justify_content": null,
       "justify_items": null,
       "left": null,
       "margin": null,
       "max_height": null,
       "max_width": null,
       "min_height": null,
       "min_width": null,
       "object_fit": null,
       "object_position": null,
       "order": null,
       "overflow": null,
       "overflow_x": null,
       "overflow_y": null,
       "padding": null,
       "right": null,
       "top": null,
       "visibility": null,
       "width": null
      }
     },
     "fc3f8c5e806d4e87846950d15f6f30be": {
      "model_module": "@jupyter-widgets/controls",
      "model_module_version": "1.5.0",
      "model_name": "ProgressStyleModel",
      "state": {
       "_model_module": "@jupyter-widgets/controls",
       "_model_module_version": "1.5.0",
       "_model_name": "ProgressStyleModel",
       "_view_count": null,
       "_view_module": "@jupyter-widgets/base",
       "_view_module_version": "1.2.0",
       "_view_name": "StyleView",
       "bar_color": null,
       "description_width": ""
      }
     }
    },
    "version_major": 2,
    "version_minor": 0
   }
  }
 },
 "nbformat": 4,
 "nbformat_minor": 5
}
