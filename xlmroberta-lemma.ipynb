{
 "cells": [
  {
   "cell_type": "code",
   "execution_count": 1,
   "id": "0100ecd3",
   "metadata": {
    "execution": {
     "iopub.execute_input": "2023-10-14T19:11:44.634323Z",
     "iopub.status.busy": "2023-10-14T19:11:44.634017Z",
     "iopub.status.idle": "2023-10-14T19:11:44.641641Z",
     "shell.execute_reply": "2023-10-14T19:11:44.640804Z"
    },
    "papermill": {
     "duration": 0.016106,
     "end_time": "2023-10-14T19:11:44.643337",
     "exception": false,
     "start_time": "2023-10-14T19:11:44.627231",
     "status": "completed"
    },
    "tags": []
   },
   "outputs": [],
   "source": [
    "import warnings\n",
    "warnings.filterwarnings('ignore')"
   ]
  },
  {
   "cell_type": "code",
   "execution_count": 2,
   "id": "5bd92baa",
   "metadata": {
    "execution": {
     "iopub.execute_input": "2023-10-14T19:11:44.656584Z",
     "iopub.status.busy": "2023-10-14T19:11:44.655828Z",
     "iopub.status.idle": "2023-10-14T19:11:51.143935Z",
     "shell.execute_reply": "2023-10-14T19:11:51.143008Z"
    },
    "papermill": {
     "duration": 6.495905,
     "end_time": "2023-10-14T19:11:51.146163",
     "exception": false,
     "start_time": "2023-10-14T19:11:44.650258",
     "status": "completed"
    },
    "tags": []
   },
   "outputs": [],
   "source": [
    "import pandas as pd\n",
    "auth = pd.read_csv(\"../input/benfakenews/Authentic-48K.csv\")\n",
    "fake = pd.read_csv(\"../input/benfakenews/Fake-1K.csv\")"
   ]
  },
  {
   "cell_type": "code",
   "execution_count": 3,
   "id": "71ec9586",
   "metadata": {
    "execution": {
     "iopub.execute_input": "2023-10-14T19:11:51.157194Z",
     "iopub.status.busy": "2023-10-14T19:11:51.156896Z",
     "iopub.status.idle": "2023-10-14T19:12:03.460245Z",
     "shell.execute_reply": "2023-10-14T19:12:03.459344Z"
    },
    "papermill": {
     "duration": 12.311197,
     "end_time": "2023-10-14T19:12:03.462448",
     "exception": false,
     "start_time": "2023-10-14T19:11:51.151251",
     "status": "completed"
    },
    "tags": []
   },
   "outputs": [],
   "source": [
    "import time\n",
    "import matplotlib.pyplot as plt\n",
    "import numpy as np\n",
    "import pandas as pd\n",
    "import torch\n",
    "import torch.nn as nn\n",
    "from torch.optim import AdamW\n",
    "from torch.utils.data import DataLoader\n",
    "from torch.utils.data import Dataset\n",
    "from tqdm.notebook import tqdm\n",
    "from transformers import BertModel, BertTokenizer, BertForSequenceClassification"
   ]
  },
  {
   "cell_type": "code",
   "execution_count": 4,
   "id": "112aaf67",
   "metadata": {
    "execution": {
     "iopub.execute_input": "2023-10-14T19:12:03.473399Z",
     "iopub.status.busy": "2023-10-14T19:12:03.473126Z",
     "iopub.status.idle": "2023-10-14T19:12:18.209798Z",
     "shell.execute_reply": "2023-10-14T19:12:18.208577Z"
    },
    "papermill": {
     "duration": 14.74495,
     "end_time": "2023-10-14T19:12:18.212290",
     "exception": false,
     "start_time": "2023-10-14T19:12:03.467340",
     "status": "completed"
    },
    "tags": []
   },
   "outputs": [
    {
     "name": "stdout",
     "output_type": "stream",
     "text": [
      "Collecting bnltk\r\n",
      "  Downloading bnltk-0.7.6-py3-none-any.whl (11 kB)\r\n",
      "Requirement already satisfied: keras in /opt/conda/lib/python3.10/site-packages (from bnltk) (2.12.0)\r\n",
      "Requirement already satisfied: tensorflow in /opt/conda/lib/python3.10/site-packages (from bnltk) (2.12.0)\r\n",
      "Requirement already satisfied: numpy in /opt/conda/lib/python3.10/site-packages (from bnltk) (1.23.5)\r\n",
      "Collecting sklearn (from bnltk)\r\n",
      "  Downloading sklearn-0.0.post10.tar.gz (3.6 kB)\r\n",
      "  Preparing metadata (setup.py) ... \u001b[?25l-\b \berror\r\n",
      "  \u001b[1;31merror\u001b[0m: \u001b[1msubprocess-exited-with-error\u001b[0m\r\n",
      "  \r\n",
      "  \u001b[31m×\u001b[0m \u001b[32mpython setup.py egg_info\u001b[0m did not run successfully.\r\n",
      "  \u001b[31m│\u001b[0m exit code: \u001b[1;36m1\u001b[0m\r\n",
      "  \u001b[31m╰─>\u001b[0m \u001b[31m[18 lines of output]\u001b[0m\r\n",
      "  \u001b[31m   \u001b[0m The 'sklearn' PyPI package is deprecated, use 'scikit-learn'\r\n",
      "  \u001b[31m   \u001b[0m rather than 'sklearn' for pip commands.\r\n",
      "  \u001b[31m   \u001b[0m \r\n",
      "  \u001b[31m   \u001b[0m Here is how to fix this error in the main use cases:\r\n",
      "  \u001b[31m   \u001b[0m - use 'pip install scikit-learn' rather than 'pip install sklearn'\r\n",
      "  \u001b[31m   \u001b[0m - replace 'sklearn' by 'scikit-learn' in your pip requirements files\r\n",
      "  \u001b[31m   \u001b[0m   (requirements.txt, setup.py, setup.cfg, Pipfile, etc ...)\r\n",
      "  \u001b[31m   \u001b[0m - if the 'sklearn' package is used by one of your dependencies,\r\n",
      "  \u001b[31m   \u001b[0m   it would be great if you take some time to track which package uses\r\n",
      "  \u001b[31m   \u001b[0m   'sklearn' instead of 'scikit-learn' and report it to their issue tracker\r\n",
      "  \u001b[31m   \u001b[0m - as a last resort, set the environment variable\r\n",
      "  \u001b[31m   \u001b[0m   SKLEARN_ALLOW_DEPRECATED_SKLEARN_PACKAGE_INSTALL=True to avoid this error\r\n",
      "  \u001b[31m   \u001b[0m \r\n",
      "  \u001b[31m   \u001b[0m More information is available at\r\n",
      "  \u001b[31m   \u001b[0m https://github.com/scikit-learn/sklearn-pypi-package\r\n",
      "  \u001b[31m   \u001b[0m \r\n",
      "  \u001b[31m   \u001b[0m If the previous advice does not cover your use case, feel free to report it at\r\n",
      "  \u001b[31m   \u001b[0m https://github.com/scikit-learn/sklearn-pypi-package/issues/new\r\n",
      "  \u001b[31m   \u001b[0m \u001b[31m[end of output]\u001b[0m\r\n",
      "  \r\n",
      "  \u001b[1;35mnote\u001b[0m: This error originates from a subprocess, and is likely not a problem with pip.\r\n",
      "\u001b[1;31merror\u001b[0m: \u001b[1mmetadata-generation-failed\u001b[0m\r\n",
      "\r\n",
      "\u001b[31m×\u001b[0m Encountered error while generating package metadata.\r\n",
      "\u001b[31m╰─>\u001b[0m See above for output.\r\n",
      "\r\n",
      "\u001b[1;35mnote\u001b[0m: This is an issue with the package mentioned above, not pip.\r\n",
      "\u001b[1;36mhint\u001b[0m: See above for details.\r\n",
      "\u001b[?25hCollecting bnlp-toolkit==4.0.0.dev4\r\n",
      "  Downloading bnlp_toolkit-4.0.0.dev4-py3-none-any.whl (22 kB)\r\n",
      "Requirement already satisfied: sentencepiece in /opt/conda/lib/python3.10/site-packages (from bnlp-toolkit==4.0.0.dev4) (0.1.99)\r\n",
      "Requirement already satisfied: gensim in /opt/conda/lib/python3.10/site-packages (from bnlp-toolkit==4.0.0.dev4) (4.3.2)\r\n",
      "Requirement already satisfied: nltk in /opt/conda/lib/python3.10/site-packages (from bnlp-toolkit==4.0.0.dev4) (3.2.4)\r\n",
      "Requirement already satisfied: numpy in /opt/conda/lib/python3.10/site-packages (from bnlp-toolkit==4.0.0.dev4) (1.23.5)\r\n",
      "Requirement already satisfied: scipy in /opt/conda/lib/python3.10/site-packages (from bnlp-toolkit==4.0.0.dev4) (1.11.2)\r\n",
      "Collecting sklearn-crfsuite (from bnlp-toolkit==4.0.0.dev4)\r\n",
      "  Downloading sklearn_crfsuite-0.3.6-py2.py3-none-any.whl (12 kB)\r\n",
      "Requirement already satisfied: tqdm in /opt/conda/lib/python3.10/site-packages (from bnlp-toolkit==4.0.0.dev4) (4.66.1)\r\n",
      "Collecting ftfy (from bnlp-toolkit==4.0.0.dev4)\r\n",
      "  Downloading ftfy-6.1.1-py3-none-any.whl (53 kB)\r\n",
      "\u001b[2K     \u001b[90m━━━━━━━━━━━━━━━━━━━━━━━━━━━━━━━━━━━━━━━━\u001b[0m \u001b[32m53.1/53.1 kB\u001b[0m \u001b[31m3.5 MB/s\u001b[0m eta \u001b[36m0:00:00\u001b[0m\r\n",
      "\u001b[?25hCollecting emoji==1.7.0 (from bnlp-toolkit==4.0.0.dev4)\r\n",
      "  Downloading emoji-1.7.0.tar.gz (175 kB)\r\n",
      "\u001b[2K     \u001b[90m━━━━━━━━━━━━━━━━━━━━━━━━━━━━━━━━━━━━━━━\u001b[0m \u001b[32m175.4/175.4 kB\u001b[0m \u001b[31m8.4 MB/s\u001b[0m eta \u001b[36m0:00:00\u001b[0m\r\n",
      "\u001b[?25h  Preparing metadata (setup.py) ... \u001b[?25ldone\r\n",
      "\u001b[?25hRequirement already satisfied: requests in /opt/conda/lib/python3.10/site-packages (from bnlp-toolkit==4.0.0.dev4) (2.31.0)\r\n",
      "Requirement already satisfied: wcwidth>=0.2.5 in /opt/conda/lib/python3.10/site-packages (from ftfy->bnlp-toolkit==4.0.0.dev4) (0.2.6)\r\n",
      "Requirement already satisfied: smart-open>=1.8.1 in /opt/conda/lib/python3.10/site-packages (from gensim->bnlp-toolkit==4.0.0.dev4) (6.3.0)\r\n",
      "Requirement already satisfied: six in /opt/conda/lib/python3.10/site-packages (from nltk->bnlp-toolkit==4.0.0.dev4) (1.16.0)\r\n",
      "Requirement already satisfied: charset-normalizer<4,>=2 in /opt/conda/lib/python3.10/site-packages (from requests->bnlp-toolkit==4.0.0.dev4) (3.1.0)\r\n",
      "Requirement already satisfied: idna<4,>=2.5 in /opt/conda/lib/python3.10/site-packages (from requests->bnlp-toolkit==4.0.0.dev4) (3.4)\r\n",
      "Requirement already satisfied: urllib3<3,>=1.21.1 in /opt/conda/lib/python3.10/site-packages (from requests->bnlp-toolkit==4.0.0.dev4) (1.26.15)\r\n",
      "Requirement already satisfied: certifi>=2017.4.17 in /opt/conda/lib/python3.10/site-packages (from requests->bnlp-toolkit==4.0.0.dev4) (2023.7.22)\r\n",
      "Collecting python-crfsuite>=0.8.3 (from sklearn-crfsuite->bnlp-toolkit==4.0.0.dev4)\r\n",
      "  Downloading python_crfsuite-0.9.9-cp310-cp310-manylinux_2_17_x86_64.manylinux2014_x86_64.whl (993 kB)\r\n",
      "\u001b[2K     \u001b[90m━━━━━━━━━━━━━━━━━━━━━━━━━━━━━━━━━━━━━━\u001b[0m \u001b[32m993.5/993.5 kB\u001b[0m \u001b[31m24.7 MB/s\u001b[0m eta \u001b[36m0:00:00\u001b[0m\r\n",
      "\u001b[?25hRequirement already satisfied: tabulate in /opt/conda/lib/python3.10/site-packages (from sklearn-crfsuite->bnlp-toolkit==4.0.0.dev4) (0.9.0)\r\n",
      "Building wheels for collected packages: emoji\r\n",
      "  Building wheel for emoji (setup.py) ... \u001b[?25l-\b \bdone\r\n",
      "\u001b[?25h  Created wheel for emoji: filename=emoji-1.7.0-py3-none-any.whl size=171033 sha256=53da2a675ea048b601e4fde8dca5f805341bded75670668ff1b1d93587fb9d1c\r\n",
      "  Stored in directory: /root/.cache/pip/wheels/31/8a/8c/315c9e5d7773f74b33d5ed33f075b49c6eaeb7cedbb86e2cf8\r\n",
      "Successfully built emoji\r\n",
      "Installing collected packages: python-crfsuite, emoji, sklearn-crfsuite, ftfy, bnlp-toolkit\r\n",
      "  Attempting uninstall: emoji\r\n",
      "    Found existing installation: emoji 2.8.0\r\n",
      "    Uninstalling emoji-2.8.0:\r\n",
      "      Successfully uninstalled emoji-2.8.0\r\n",
      "Successfully installed bnlp-toolkit-4.0.0.dev4 emoji-1.7.0 ftfy-6.1.1 python-crfsuite-0.9.9 sklearn-crfsuite-0.3.6\r\n"
     ]
    }
   ],
   "source": [
    "!pip install bnltk\n",
    "!pip install bnlp-toolkit==4.0.0.dev4"
   ]
  },
  {
   "cell_type": "code",
   "execution_count": 5,
   "id": "04fcd202",
   "metadata": {
    "execution": {
     "iopub.execute_input": "2023-10-14T19:12:18.226218Z",
     "iopub.status.busy": "2023-10-14T19:12:18.225884Z",
     "iopub.status.idle": "2023-10-14T19:12:26.749493Z",
     "shell.execute_reply": "2023-10-14T19:12:26.748215Z"
    },
    "papermill": {
     "duration": 8.533368,
     "end_time": "2023-10-14T19:12:26.752047",
     "exception": false,
     "start_time": "2023-10-14T19:12:18.218679",
     "status": "completed"
    },
    "tags": []
   },
   "outputs": [
    {
     "name": "stdout",
     "output_type": "stream",
     "text": [
      "Collecting BnLemma\r\n",
      "  Downloading BnLemma-2.1-py3-none-any.whl (57 kB)\r\n",
      "\u001b[2K     \u001b[90m━━━━━━━━━━━━━━━━━━━━━━━━━━━━━━━━━━━━━━━━\u001b[0m \u001b[32m57.6/57.6 kB\u001b[0m \u001b[31m2.2 MB/s\u001b[0m eta \u001b[36m0:00:00\u001b[0m\r\n",
      "\u001b[?25hInstalling collected packages: BnLemma\r\n",
      "Successfully installed BnLemma-2.1\r\n"
     ]
    }
   ],
   "source": [
    "!pip install BnLemma"
   ]
  },
  {
   "cell_type": "code",
   "execution_count": 6,
   "id": "7701b889",
   "metadata": {
    "execution": {
     "iopub.execute_input": "2023-10-14T19:12:26.766829Z",
     "iopub.status.busy": "2023-10-14T19:12:26.766512Z",
     "iopub.status.idle": "2023-10-14T19:12:26.808429Z",
     "shell.execute_reply": "2023-10-14T19:12:26.807342Z"
    },
    "papermill": {
     "duration": 0.05167,
     "end_time": "2023-10-14T19:12:26.810443",
     "exception": false,
     "start_time": "2023-10-14T19:12:26.758773",
     "status": "completed"
    },
    "tags": []
   },
   "outputs": [
    {
     "data": {
      "text/plain": [
       "10392"
      ]
     },
     "execution_count": 6,
     "metadata": {},
     "output_type": "execute_result"
    }
   ],
   "source": [
    "df = pd.concat([auth[:fake.shape[0]*7], fake])\n",
    "df = df.sample(frac=1).reset_index(drop=True)\n",
    "len(df)"
   ]
  },
  {
   "cell_type": "code",
   "execution_count": 7,
   "id": "7522b9c4",
   "metadata": {
    "execution": {
     "iopub.execute_input": "2023-10-14T19:12:26.826358Z",
     "iopub.status.busy": "2023-10-14T19:12:26.826064Z",
     "iopub.status.idle": "2023-10-14T19:12:26.845315Z",
     "shell.execute_reply": "2023-10-14T19:12:26.844263Z"
    },
    "papermill": {
     "duration": 0.029747,
     "end_time": "2023-10-14T19:12:26.847557",
     "exception": false,
     "start_time": "2023-10-14T19:12:26.817810",
     "status": "completed"
    },
    "tags": []
   },
   "outputs": [],
   "source": [
    "df = df.drop('domain', axis=1)\n",
    "df = df.drop('date', axis=1)\n",
    "df = df.drop('category', axis=1)\n",
    "df = df.drop('articleID', axis=1)"
   ]
  },
  {
   "cell_type": "code",
   "execution_count": 8,
   "id": "8d79f915",
   "metadata": {
    "execution": {
     "iopub.execute_input": "2023-10-14T19:12:26.864602Z",
     "iopub.status.busy": "2023-10-14T19:12:26.864323Z",
     "iopub.status.idle": "2023-10-14T19:12:26.911623Z",
     "shell.execute_reply": "2023-10-14T19:12:26.910516Z"
    },
    "papermill": {
     "duration": 0.057482,
     "end_time": "2023-10-14T19:12:26.913651",
     "exception": false,
     "start_time": "2023-10-14T19:12:26.856169",
     "status": "completed"
    },
    "tags": []
   },
   "outputs": [],
   "source": [
    "df['data'] = df['headline'] + ' ' + df['content']"
   ]
  },
  {
   "cell_type": "code",
   "execution_count": 9,
   "id": "52ebed5f",
   "metadata": {
    "execution": {
     "iopub.execute_input": "2023-10-14T19:12:26.929425Z",
     "iopub.status.busy": "2023-10-14T19:12:26.929125Z",
     "iopub.status.idle": "2023-10-14T19:12:26.936488Z",
     "shell.execute_reply": "2023-10-14T19:12:26.935581Z"
    },
    "papermill": {
     "duration": 0.017253,
     "end_time": "2023-10-14T19:12:26.938335",
     "exception": false,
     "start_time": "2023-10-14T19:12:26.921082",
     "status": "completed"
    },
    "tags": []
   },
   "outputs": [],
   "source": [
    "df['class'] = df['label'].replace({0: 'fake', 1: 'true'})"
   ]
  },
  {
   "cell_type": "code",
   "execution_count": 10,
   "id": "a0290fb7",
   "metadata": {
    "execution": {
     "iopub.execute_input": "2023-10-14T19:12:26.953430Z",
     "iopub.status.busy": "2023-10-14T19:12:26.953165Z",
     "iopub.status.idle": "2023-10-14T19:12:26.962181Z",
     "shell.execute_reply": "2023-10-14T19:12:26.961310Z"
    },
    "papermill": {
     "duration": 0.018764,
     "end_time": "2023-10-14T19:12:26.964076",
     "exception": false,
     "start_time": "2023-10-14T19:12:26.945312",
     "status": "completed"
    },
    "tags": []
   },
   "outputs": [],
   "source": [
    "df = df.drop('headline', axis=1)\n",
    "df = df.drop('content', axis=1)\n",
    "df = df.drop('label', axis=1)\n",
    "\n",
    "\n"
   ]
  },
  {
   "cell_type": "code",
   "execution_count": 11,
   "id": "ca10e524",
   "metadata": {
    "execution": {
     "iopub.execute_input": "2023-10-14T19:12:26.978760Z",
     "iopub.status.busy": "2023-10-14T19:12:26.978502Z",
     "iopub.status.idle": "2023-10-14T19:12:26.988146Z",
     "shell.execute_reply": "2023-10-14T19:12:26.987266Z"
    },
    "papermill": {
     "duration": 0.018998,
     "end_time": "2023-10-14T19:12:26.989898",
     "exception": false,
     "start_time": "2023-10-14T19:12:26.970900",
     "status": "completed"
    },
    "tags": []
   },
   "outputs": [
    {
     "data": {
      "text/plain": [
       "class\n",
       "true    9093\n",
       "fake    1299\n",
       "Name: count, dtype: int64"
      ]
     },
     "execution_count": 11,
     "metadata": {},
     "output_type": "execute_result"
    }
   ],
   "source": [
    "df[\"class\"].value_counts()"
   ]
  },
  {
   "cell_type": "code",
   "execution_count": 12,
   "id": "08d1b826",
   "metadata": {
    "execution": {
     "iopub.execute_input": "2023-10-14T19:12:27.004352Z",
     "iopub.status.busy": "2023-10-14T19:12:27.004075Z",
     "iopub.status.idle": "2023-10-14T19:12:27.014683Z",
     "shell.execute_reply": "2023-10-14T19:12:27.013758Z"
    },
    "papermill": {
     "duration": 0.019757,
     "end_time": "2023-10-14T19:12:27.016442",
     "exception": false,
     "start_time": "2023-10-14T19:12:26.996685",
     "status": "completed"
    },
    "tags": []
   },
   "outputs": [
    {
     "data": {
      "text/plain": [
       "class\n",
       "true    9093\n",
       "fake    1299\n",
       "Name: count, dtype: int64"
      ]
     },
     "execution_count": 12,
     "metadata": {},
     "output_type": "execute_result"
    }
   ],
   "source": [
    "df.dropna(inplace=True)\n",
    "df[\"class\"].value_counts()"
   ]
  },
  {
   "cell_type": "code",
   "execution_count": 13,
   "id": "57bbe5ba",
   "metadata": {
    "execution": {
     "iopub.execute_input": "2023-10-14T19:12:27.030884Z",
     "iopub.status.busy": "2023-10-14T19:12:27.030637Z",
     "iopub.status.idle": "2023-10-14T19:12:27.044115Z",
     "shell.execute_reply": "2023-10-14T19:12:27.043120Z"
    },
    "papermill": {
     "duration": 0.022733,
     "end_time": "2023-10-14T19:12:27.045819",
     "exception": false,
     "start_time": "2023-10-14T19:12:27.023086",
     "status": "completed"
    },
    "tags": []
   },
   "outputs": [],
   "source": [
    "for column in df.columns:\n",
    "    df[column] = df[column].str.slice(0, 100)"
   ]
  },
  {
   "cell_type": "code",
   "execution_count": 14,
   "id": "64562dd9",
   "metadata": {
    "execution": {
     "iopub.execute_input": "2023-10-14T19:12:27.060429Z",
     "iopub.status.busy": "2023-10-14T19:12:27.060177Z",
     "iopub.status.idle": "2023-10-14T19:12:27.075081Z",
     "shell.execute_reply": "2023-10-14T19:12:27.074005Z"
    },
    "papermill": {
     "duration": 0.024503,
     "end_time": "2023-10-14T19:12:27.077139",
     "exception": false,
     "start_time": "2023-10-14T19:12:27.052636",
     "status": "completed"
    },
    "tags": []
   },
   "outputs": [
    {
     "data": {
      "text/html": [
       "<div>\n",
       "<style scoped>\n",
       "    .dataframe tbody tr th:only-of-type {\n",
       "        vertical-align: middle;\n",
       "    }\n",
       "\n",
       "    .dataframe tbody tr th {\n",
       "        vertical-align: top;\n",
       "    }\n",
       "\n",
       "    .dataframe thead th {\n",
       "        text-align: right;\n",
       "    }\n",
       "</style>\n",
       "<table border=\"1\" class=\"dataframe\">\n",
       "  <thead>\n",
       "    <tr style=\"text-align: right;\">\n",
       "      <th></th>\n",
       "      <th>data</th>\n",
       "      <th>class</th>\n",
       "    </tr>\n",
       "  </thead>\n",
       "  <tbody>\n",
       "    <tr>\n",
       "      <th>0</th>\n",
       "      <td>ডিজিটাল নিরাপত্তা আইনে আরও যেসব ধারা যুক্ত করা...</td>\n",
       "      <td>fake</td>\n",
       "    </tr>\n",
       "    <tr>\n",
       "      <th>1</th>\n",
       "      <td>দিনের অন্য ম্যাচে মুখোমুখি পাকিস্তান-আফগানিস্ত...</td>\n",
       "      <td>true</td>\n",
       "    </tr>\n",
       "    <tr>\n",
       "      <th>2</th>\n",
       "      <td>আফগান-ইয়েমেন ইস্যু নিয়ে কথা বললেন ইমরান সৌদি আ...</td>\n",
       "      <td>true</td>\n",
       "    </tr>\n",
       "    <tr>\n",
       "      <th>3</th>\n",
       "      <td>বৃষ্টিপাতের প্রবণতা বাড়তে পারে আগামী ৭২ ঘন্টায়...</td>\n",
       "      <td>true</td>\n",
       "    </tr>\n",
       "    <tr>\n",
       "      <th>4</th>\n",
       "      <td>বিচি ঝুলে গেলে কি করবেন? পোতা বা বিচি ঝুলে গেল...</td>\n",
       "      <td>fake</td>\n",
       "    </tr>\n",
       "    <tr>\n",
       "      <th>...</th>\n",
       "      <td>...</td>\n",
       "      <td>...</td>\n",
       "    </tr>\n",
       "    <tr>\n",
       "      <th>10387</th>\n",
       "      <td>খালেদার অনুপস্থিতিতেই চলবে বিচারকাজ নিজস্ব প্র...</td>\n",
       "      <td>true</td>\n",
       "    </tr>\n",
       "    <tr>\n",
       "      <th>10388</th>\n",
       "      <td>রাফায়েল বিমান নিয়ে ফেঁসে যাচ্ছে মোদি সরকার! ফ্...</td>\n",
       "      <td>true</td>\n",
       "    </tr>\n",
       "    <tr>\n",
       "      <th>10389</th>\n",
       "      <td>কুষ্টিয়ায় ছেলের বিরুদ্ধে মাকে খুনের অভিযোগ কুষ...</td>\n",
       "      <td>true</td>\n",
       "    </tr>\n",
       "    <tr>\n",
       "      <th>10390</th>\n",
       "      <td>এমবিবিএস প্রফেশনাল পরীক্ষায় এগিয়ে আদ্-দ্বীন মে...</td>\n",
       "      <td>true</td>\n",
       "    </tr>\n",
       "    <tr>\n",
       "      <th>10391</th>\n",
       "      <td>বিপর্যয় থেকে ঘুরে দাঁড়ানোর প্রত্যয় ইমরুল-সৌম্য...</td>\n",
       "      <td>true</td>\n",
       "    </tr>\n",
       "  </tbody>\n",
       "</table>\n",
       "<p>10392 rows × 2 columns</p>\n",
       "</div>"
      ],
      "text/plain": [
       "                                                    data class\n",
       "0      ডিজিটাল নিরাপত্তা আইনে আরও যেসব ধারা যুক্ত করা...  fake\n",
       "1      দিনের অন্য ম্যাচে মুখোমুখি পাকিস্তান-আফগানিস্ত...  true\n",
       "2      আফগান-ইয়েমেন ইস্যু নিয়ে কথা বললেন ইমরান সৌদি আ...  true\n",
       "3      বৃষ্টিপাতের প্রবণতা বাড়তে পারে আগামী ৭২ ঘন্টায়...  true\n",
       "4      বিচি ঝুলে গেলে কি করবেন? পোতা বা বিচি ঝুলে গেল...  fake\n",
       "...                                                  ...   ...\n",
       "10387  খালেদার অনুপস্থিতিতেই চলবে বিচারকাজ নিজস্ব প্র...  true\n",
       "10388  রাফায়েল বিমান নিয়ে ফেঁসে যাচ্ছে মোদি সরকার! ফ্...  true\n",
       "10389  কুষ্টিয়ায় ছেলের বিরুদ্ধে মাকে খুনের অভিযোগ কুষ...  true\n",
       "10390  এমবিবিএস প্রফেশনাল পরীক্ষায় এগিয়ে আদ্-দ্বীন মে...  true\n",
       "10391  বিপর্যয় থেকে ঘুরে দাঁড়ানোর প্রত্যয় ইমরুল-সৌম্য...  true\n",
       "\n",
       "[10392 rows x 2 columns]"
      ]
     },
     "execution_count": 14,
     "metadata": {},
     "output_type": "execute_result"
    }
   ],
   "source": [
    "df"
   ]
  },
  {
   "cell_type": "code",
   "execution_count": 15,
   "id": "c7f3c774",
   "metadata": {
    "execution": {
     "iopub.execute_input": "2023-10-14T19:12:27.093117Z",
     "iopub.status.busy": "2023-10-14T19:12:27.092467Z",
     "iopub.status.idle": "2023-10-14T19:12:27.099812Z",
     "shell.execute_reply": "2023-10-14T19:12:27.098671Z"
    },
    "papermill": {
     "duration": 0.017023,
     "end_time": "2023-10-14T19:12:27.101719",
     "exception": false,
     "start_time": "2023-10-14T19:12:27.084696",
     "status": "completed"
    },
    "tags": []
   },
   "outputs": [
    {
     "data": {
      "text/plain": [
       "class\n",
       "true    9093\n",
       "fake    1299\n",
       "Name: count, dtype: int64"
      ]
     },
     "execution_count": 15,
     "metadata": {},
     "output_type": "execute_result"
    }
   ],
   "source": [
    "df[\"class\"].value_counts()"
   ]
  },
  {
   "cell_type": "code",
   "execution_count": 16,
   "id": "a2cf64b4",
   "metadata": {
    "execution": {
     "iopub.execute_input": "2023-10-14T19:12:27.118148Z",
     "iopub.status.busy": "2023-10-14T19:12:27.117297Z",
     "iopub.status.idle": "2023-10-14T19:12:27.132588Z",
     "shell.execute_reply": "2023-10-14T19:12:27.131532Z"
    },
    "papermill": {
     "duration": 0.025511,
     "end_time": "2023-10-14T19:12:27.134598",
     "exception": false,
     "start_time": "2023-10-14T19:12:27.109087",
     "status": "completed"
    },
    "tags": []
   },
   "outputs": [
    {
     "name": "stdout",
     "output_type": "stream",
     "text": [
      "       data  class\n",
      "0       100      4\n",
      "1       100      4\n",
      "2       100      4\n",
      "3       100      4\n",
      "4       100      4\n",
      "...     ...    ...\n",
      "10387   100      4\n",
      "10388   100      4\n",
      "10389   100      4\n",
      "10390   100      4\n",
      "10391   100      4\n",
      "\n",
      "[10392 rows x 2 columns]\n"
     ]
    }
   ],
   "source": [
    "df_lengths = df.applymap(lambda x: len(str(x)))\n",
    "\n",
    "# Display the DataFrame with string lengths\n",
    "print(df_lengths)"
   ]
  },
  {
   "cell_type": "code",
   "execution_count": 17,
   "id": "eacbd3d4",
   "metadata": {
    "execution": {
     "iopub.execute_input": "2023-10-14T19:12:27.150342Z",
     "iopub.status.busy": "2023-10-14T19:12:27.149727Z",
     "iopub.status.idle": "2023-10-14T19:12:49.331358Z",
     "shell.execute_reply": "2023-10-14T19:12:49.330421Z"
    },
    "papermill": {
     "duration": 22.191487,
     "end_time": "2023-10-14T19:12:49.333537",
     "exception": false,
     "start_time": "2023-10-14T19:12:27.142050",
     "status": "completed"
    },
    "tags": []
   },
   "outputs": [],
   "source": [
    "#Tokenizer\n",
    "from bnlp import NLTKTokenizer\n",
    "bnltk = NLTKTokenizer()\n",
    "\n",
    "#for Train Set\n",
    "for i in range(0,df.shape[0]):\n",
    "    text = bnltk.word_tokenize(df['data'][i])\n",
    "    df['data'][i] = str(text)"
   ]
  },
  {
   "cell_type": "code",
   "execution_count": 18,
   "id": "8debb915",
   "metadata": {
    "execution": {
     "iopub.execute_input": "2023-10-14T19:12:49.348443Z",
     "iopub.status.busy": "2023-10-14T19:12:49.348161Z",
     "iopub.status.idle": "2023-10-14T19:12:49.357690Z",
     "shell.execute_reply": "2023-10-14T19:12:49.356863Z"
    },
    "papermill": {
     "duration": 0.019245,
     "end_time": "2023-10-14T19:12:49.359782",
     "exception": false,
     "start_time": "2023-10-14T19:12:49.340537",
     "status": "completed"
    },
    "tags": []
   },
   "outputs": [
    {
     "data": {
      "text/html": [
       "<div>\n",
       "<style scoped>\n",
       "    .dataframe tbody tr th:only-of-type {\n",
       "        vertical-align: middle;\n",
       "    }\n",
       "\n",
       "    .dataframe tbody tr th {\n",
       "        vertical-align: top;\n",
       "    }\n",
       "\n",
       "    .dataframe thead th {\n",
       "        text-align: right;\n",
       "    }\n",
       "</style>\n",
       "<table border=\"1\" class=\"dataframe\">\n",
       "  <thead>\n",
       "    <tr style=\"text-align: right;\">\n",
       "      <th></th>\n",
       "      <th>data</th>\n",
       "      <th>class</th>\n",
       "    </tr>\n",
       "  </thead>\n",
       "  <tbody>\n",
       "    <tr>\n",
       "      <th>0</th>\n",
       "      <td>['ডিজিটাল', 'নিরাপত্তা', 'আইনে', 'আরও', 'যেসব'...</td>\n",
       "      <td>fake</td>\n",
       "    </tr>\n",
       "    <tr>\n",
       "      <th>1</th>\n",
       "      <td>['দিনের', 'অন্য', 'ম্যাচে', 'মুখোমুখি', 'পাকিস...</td>\n",
       "      <td>true</td>\n",
       "    </tr>\n",
       "    <tr>\n",
       "      <th>2</th>\n",
       "      <td>['আফগান-ইয়েমেন', 'ইস্যু', 'নিয়ে', 'কথা', 'বললে...</td>\n",
       "      <td>true</td>\n",
       "    </tr>\n",
       "    <tr>\n",
       "      <th>3</th>\n",
       "      <td>['বৃষ্টিপাতের', 'প্রবণতা', 'বাড়তে', 'পারে', 'আ...</td>\n",
       "      <td>true</td>\n",
       "    </tr>\n",
       "    <tr>\n",
       "      <th>4</th>\n",
       "      <td>['বিচি', 'ঝুলে', 'গেলে', 'কি', 'করবেন', '?', '...</td>\n",
       "      <td>fake</td>\n",
       "    </tr>\n",
       "    <tr>\n",
       "      <th>...</th>\n",
       "      <td>...</td>\n",
       "      <td>...</td>\n",
       "    </tr>\n",
       "    <tr>\n",
       "      <th>10387</th>\n",
       "      <td>['খালেদার', 'অনুপস্থিতিতেই', 'চলবে', 'বিচারকাজ...</td>\n",
       "      <td>true</td>\n",
       "    </tr>\n",
       "    <tr>\n",
       "      <th>10388</th>\n",
       "      <td>['রাফায়েল', 'বিমান', 'নিয়ে', 'ফেঁসে', 'যাচ্ছে'...</td>\n",
       "      <td>true</td>\n",
       "    </tr>\n",
       "    <tr>\n",
       "      <th>10389</th>\n",
       "      <td>['কুষ্টিয়ায়', 'ছেলের', 'বিরুদ্ধে', 'মাকে', 'খু...</td>\n",
       "      <td>true</td>\n",
       "    </tr>\n",
       "    <tr>\n",
       "      <th>10390</th>\n",
       "      <td>['এমবিবিএস', 'প্রফেশনাল', 'পরীক্ষায়', 'এগিয়ে',...</td>\n",
       "      <td>true</td>\n",
       "    </tr>\n",
       "    <tr>\n",
       "      <th>10391</th>\n",
       "      <td>['বিপর্যয়', 'থেকে', 'ঘুরে', 'দাঁড়ানোর', 'প্রত্...</td>\n",
       "      <td>true</td>\n",
       "    </tr>\n",
       "  </tbody>\n",
       "</table>\n",
       "<p>10392 rows × 2 columns</p>\n",
       "</div>"
      ],
      "text/plain": [
       "                                                    data class\n",
       "0      ['ডিজিটাল', 'নিরাপত্তা', 'আইনে', 'আরও', 'যেসব'...  fake\n",
       "1      ['দিনের', 'অন্য', 'ম্যাচে', 'মুখোমুখি', 'পাকিস...  true\n",
       "2      ['আফগান-ইয়েমেন', 'ইস্যু', 'নিয়ে', 'কথা', 'বললে...  true\n",
       "3      ['বৃষ্টিপাতের', 'প্রবণতা', 'বাড়তে', 'পারে', 'আ...  true\n",
       "4      ['বিচি', 'ঝুলে', 'গেলে', 'কি', 'করবেন', '?', '...  fake\n",
       "...                                                  ...   ...\n",
       "10387  ['খালেদার', 'অনুপস্থিতিতেই', 'চলবে', 'বিচারকাজ...  true\n",
       "10388  ['রাফায়েল', 'বিমান', 'নিয়ে', 'ফেঁসে', 'যাচ্ছে'...  true\n",
       "10389  ['কুষ্টিয়ায়', 'ছেলের', 'বিরুদ্ধে', 'মাকে', 'খু...  true\n",
       "10390  ['এমবিবিএস', 'প্রফেশনাল', 'পরীক্ষায়', 'এগিয়ে',...  true\n",
       "10391  ['বিপর্যয়', 'থেকে', 'ঘুরে', 'দাঁড়ানোর', 'প্রত্...  true\n",
       "\n",
       "[10392 rows x 2 columns]"
      ]
     },
     "execution_count": 18,
     "metadata": {},
     "output_type": "execute_result"
    }
   ],
   "source": [
    "df"
   ]
  },
  {
   "cell_type": "code",
   "execution_count": 19,
   "id": "492d76d2",
   "metadata": {
    "execution": {
     "iopub.execute_input": "2023-10-14T19:12:49.374571Z",
     "iopub.status.busy": "2023-10-14T19:12:49.374011Z",
     "iopub.status.idle": "2023-10-14T19:13:00.580673Z",
     "shell.execute_reply": "2023-10-14T19:13:00.579718Z"
    },
    "papermill": {
     "duration": 11.216389,
     "end_time": "2023-10-14T19:13:00.582834",
     "exception": false,
     "start_time": "2023-10-14T19:12:49.366445",
     "status": "completed"
    },
    "tags": []
   },
   "outputs": [],
   "source": [
    "import BnLemma as lm\n",
    "bl = lm.Lemmatizer()\n",
    "\n",
    "for i in range(0,df.shape[0]):\n",
    "    words = str(df['data'][i])\n",
    "    df['data'][i] = bl.lemma(words)\n",
    "\n"
   ]
  },
  {
   "cell_type": "code",
   "execution_count": 20,
   "id": "337c9f12",
   "metadata": {
    "execution": {
     "iopub.execute_input": "2023-10-14T19:13:00.598258Z",
     "iopub.status.busy": "2023-10-14T19:13:00.597626Z",
     "iopub.status.idle": "2023-10-14T19:13:00.607195Z",
     "shell.execute_reply": "2023-10-14T19:13:00.606263Z"
    },
    "papermill": {
     "duration": 0.018924,
     "end_time": "2023-10-14T19:13:00.608865",
     "exception": false,
     "start_time": "2023-10-14T19:13:00.589941",
     "status": "completed"
    },
    "tags": []
   },
   "outputs": [
    {
     "data": {
      "text/html": [
       "<div>\n",
       "<style scoped>\n",
       "    .dataframe tbody tr th:only-of-type {\n",
       "        vertical-align: middle;\n",
       "    }\n",
       "\n",
       "    .dataframe tbody tr th {\n",
       "        vertical-align: top;\n",
       "    }\n",
       "\n",
       "    .dataframe thead th {\n",
       "        text-align: right;\n",
       "    }\n",
       "</style>\n",
       "<table border=\"1\" class=\"dataframe\">\n",
       "  <thead>\n",
       "    <tr style=\"text-align: right;\">\n",
       "      <th></th>\n",
       "      <th>data</th>\n",
       "      <th>class</th>\n",
       "    </tr>\n",
       "  </thead>\n",
       "  <tbody>\n",
       "    <tr>\n",
       "      <th>0</th>\n",
       "      <td>ডিজিটাল নিরাপত্তা 'আইনে', 'আরও', 'যেসব', ধারা ...</td>\n",
       "      <td>fake</td>\n",
       "    </tr>\n",
       "    <tr>\n",
       "      <th>1</th>\n",
       "      <td>['দিনের', অন্য ম্যাচ মুখোমুখি 'পাকিস্তান-আফগান...</td>\n",
       "      <td>true</td>\n",
       "    </tr>\n",
       "    <tr>\n",
       "      <th>2</th>\n",
       "      <td>['আফগান-ইয়েমেন', 'ইস্যু', 'নিয়ে', কথা 'বললেন',...</td>\n",
       "      <td>true</td>\n",
       "    </tr>\n",
       "    <tr>\n",
       "      <th>3</th>\n",
       "      <td>['বৃষ্টিপাতের', প্রবণতা 'বাড়তে', 'পারে', আগামী...</td>\n",
       "      <td>true</td>\n",
       "    </tr>\n",
       "    <tr>\n",
       "      <th>4</th>\n",
       "      <td>বিচি 'ঝুলে', 'গেলে', 'কি', 'করবেন', '?', 'পোতা...</td>\n",
       "      <td>fake</td>\n",
       "    </tr>\n",
       "    <tr>\n",
       "      <th>...</th>\n",
       "      <td>...</td>\n",
       "      <td>...</td>\n",
       "    </tr>\n",
       "    <tr>\n",
       "      <th>10387</th>\n",
       "      <td>খালেদা 'অনুপস্থিতিতেই', 'চলবে', বিচারক নিজস্ব ...</td>\n",
       "      <td>true</td>\n",
       "    </tr>\n",
       "    <tr>\n",
       "      <th>10388</th>\n",
       "      <td>['রাফায়েল', বিমান 'নিয়ে', 'ফেঁসে', 'যাচ্ছে', '...</td>\n",
       "      <td>true</td>\n",
       "    </tr>\n",
       "    <tr>\n",
       "      <th>10389</th>\n",
       "      <td>['কুষ্টিয়ায়', ছেলে বিরুদ্ধ 'মাকে', 'খুনের', অভ...</td>\n",
       "      <td>true</td>\n",
       "    </tr>\n",
       "    <tr>\n",
       "      <th>10390</th>\n",
       "      <td>['এমবিবিএস', 'প্রফেশনাল', পরীক্ষা এগিয়ে 'আদ্-দ...</td>\n",
       "      <td>true</td>\n",
       "    </tr>\n",
       "    <tr>\n",
       "      <th>10391</th>\n",
       "      <td>বিপর্যয় থেকে 'ঘুরে', 'দাঁড়ানোর', প্রত্যয় 'ইমরু...</td>\n",
       "      <td>true</td>\n",
       "    </tr>\n",
       "  </tbody>\n",
       "</table>\n",
       "<p>10392 rows × 2 columns</p>\n",
       "</div>"
      ],
      "text/plain": [
       "                                                    data class\n",
       "0      ডিজিটাল নিরাপত্তা 'আইনে', 'আরও', 'যেসব', ধারা ...  fake\n",
       "1      ['দিনের', অন্য ম্যাচ মুখোমুখি 'পাকিস্তান-আফগান...  true\n",
       "2      ['আফগান-ইয়েমেন', 'ইস্যু', 'নিয়ে', কথা 'বললেন',...  true\n",
       "3      ['বৃষ্টিপাতের', প্রবণতা 'বাড়তে', 'পারে', আগামী...  true\n",
       "4      বিচি 'ঝুলে', 'গেলে', 'কি', 'করবেন', '?', 'পোতা...  fake\n",
       "...                                                  ...   ...\n",
       "10387  খালেদা 'অনুপস্থিতিতেই', 'চলবে', বিচারক নিজস্ব ...  true\n",
       "10388  ['রাফায়েল', বিমান 'নিয়ে', 'ফেঁসে', 'যাচ্ছে', '...  true\n",
       "10389  ['কুষ্টিয়ায়', ছেলে বিরুদ্ধ 'মাকে', 'খুনের', অভ...  true\n",
       "10390  ['এমবিবিএস', 'প্রফেশনাল', পরীক্ষা এগিয়ে 'আদ্-দ...  true\n",
       "10391  বিপর্যয় থেকে 'ঘুরে', 'দাঁড়ানোর', প্রত্যয় 'ইমরু...  true\n",
       "\n",
       "[10392 rows x 2 columns]"
      ]
     },
     "execution_count": 20,
     "metadata": {},
     "output_type": "execute_result"
    }
   ],
   "source": [
    "df"
   ]
  },
  {
   "cell_type": "code",
   "execution_count": 21,
   "id": "e95158d9",
   "metadata": {
    "execution": {
     "iopub.execute_input": "2023-10-14T19:13:00.623580Z",
     "iopub.status.busy": "2023-10-14T19:13:00.623333Z",
     "iopub.status.idle": "2023-10-14T19:13:00.627791Z",
     "shell.execute_reply": "2023-10-14T19:13:00.626865Z"
    },
    "papermill": {
     "duration": 0.013776,
     "end_time": "2023-10-14T19:13:00.629489",
     "exception": false,
     "start_time": "2023-10-14T19:13:00.615713",
     "status": "completed"
    },
    "tags": []
   },
   "outputs": [],
   "source": [
    "text = df['data'].values.tolist()\n",
    "label = df['class'].tolist()"
   ]
  },
  {
   "cell_type": "code",
   "execution_count": 22,
   "id": "6a6fe9b2",
   "metadata": {
    "execution": {
     "iopub.execute_input": "2023-10-14T19:13:00.644207Z",
     "iopub.status.busy": "2023-10-14T19:13:00.643678Z",
     "iopub.status.idle": "2023-10-14T19:13:00.651676Z",
     "shell.execute_reply": "2023-10-14T19:13:00.650884Z"
    },
    "papermill": {
     "duration": 0.017091,
     "end_time": "2023-10-14T19:13:00.653329",
     "exception": false,
     "start_time": "2023-10-14T19:13:00.636238",
     "status": "completed"
    },
    "tags": []
   },
   "outputs": [],
   "source": [
    "from sklearn.model_selection import train_test_split\n",
    "X_train, X_test, y_train, y_test = train_test_split(text , label, test_size=0.2, random_state=42)"
   ]
  },
  {
   "cell_type": "code",
   "execution_count": 23,
   "id": "51e56431",
   "metadata": {
    "execution": {
     "iopub.execute_input": "2023-10-14T19:13:00.668309Z",
     "iopub.status.busy": "2023-10-14T19:13:00.667513Z",
     "iopub.status.idle": "2023-10-14T19:13:39.692453Z",
     "shell.execute_reply": "2023-10-14T19:13:39.691224Z"
    },
    "papermill": {
     "duration": 39.034395,
     "end_time": "2023-10-14T19:13:39.694460",
     "exception": false,
     "start_time": "2023-10-14T19:13:00.660065",
     "status": "completed"
    },
    "tags": []
   },
   "outputs": [
    {
     "name": "stdout",
     "output_type": "stream",
     "text": [
      "Collecting ktrain\r\n",
      "  Downloading ktrain-0.38.0.tar.gz (25.3 MB)\r\n",
      "\u001b[2K     \u001b[90m━━━━━━━━━━━━━━━━━━━━━━━━━━━━━━━━━━━━━━━━\u001b[0m \u001b[32m25.3/25.3 MB\u001b[0m \u001b[31m39.0 MB/s\u001b[0m eta \u001b[36m0:00:00\u001b[0m\r\n",
      "\u001b[?25h  Preparing metadata (setup.py) ... \u001b[?25ldone\r\n",
      "\u001b[?25hRequirement already satisfied: scikit-learn in /opt/conda/lib/python3.10/site-packages (from ktrain) (1.2.2)\r\n",
      "Requirement already satisfied: matplotlib>=3.0.0 in /opt/conda/lib/python3.10/site-packages (from ktrain) (3.7.2)\r\n",
      "Requirement already satisfied: pandas>=1.0.1 in /opt/conda/lib/python3.10/site-packages (from ktrain) (2.0.2)\r\n",
      "Requirement already satisfied: fastprogress>=0.1.21 in /opt/conda/lib/python3.10/site-packages (from ktrain) (1.0.3)\r\n",
      "Requirement already satisfied: requests in /opt/conda/lib/python3.10/site-packages (from ktrain) (2.31.0)\r\n",
      "Requirement already satisfied: joblib in /opt/conda/lib/python3.10/site-packages (from ktrain) (1.3.2)\r\n",
      "Requirement already satisfied: packaging in /opt/conda/lib/python3.10/site-packages (from ktrain) (21.3)\r\n",
      "Collecting langdetect (from ktrain)\r\n",
      "  Downloading langdetect-1.0.9.tar.gz (981 kB)\r\n",
      "\u001b[2K     \u001b[90m━━━━━━━━━━━━━━━━━━━━━━━━━━━━━━━━━━━━━━\u001b[0m \u001b[32m981.5/981.5 kB\u001b[0m \u001b[31m47.8 MB/s\u001b[0m eta \u001b[36m0:00:00\u001b[0m\r\n",
      "\u001b[?25h  Preparing metadata (setup.py) ... \u001b[?25ldone\r\n",
      "\u001b[?25hRequirement already satisfied: jieba in /opt/conda/lib/python3.10/site-packages (from ktrain) (0.42.1)\r\n",
      "Collecting cchardet (from ktrain)\r\n",
      "  Downloading cchardet-2.1.7.tar.gz (653 kB)\r\n",
      "\u001b[2K     \u001b[90m━━━━━━━━━━━━━━━━━━━━━━━━━━━━━━━━━━━━━━\u001b[0m \u001b[32m653.6/653.6 kB\u001b[0m \u001b[31m41.9 MB/s\u001b[0m eta \u001b[36m0:00:00\u001b[0m\r\n",
      "\u001b[?25h  Preparing metadata (setup.py) ... \u001b[?25l-\b \bdone\r\n",
      "\u001b[?25hCollecting chardet (from ktrain)\r\n",
      "  Downloading chardet-5.2.0-py3-none-any.whl (199 kB)\r\n",
      "\u001b[2K     \u001b[90m━━━━━━━━━━━━━━━━━━━━━━━━━━━━━━━━━━━━━━\u001b[0m \u001b[32m199.4/199.4 kB\u001b[0m \u001b[31m16.5 MB/s\u001b[0m eta \u001b[36m0:00:00\u001b[0m\r\n",
      "\u001b[?25hCollecting syntok>1.3.3 (from ktrain)\r\n",
      "  Downloading syntok-1.4.4-py3-none-any.whl (24 kB)\r\n",
      "Collecting tika (from ktrain)\r\n",
      "  Downloading tika-2.6.0.tar.gz (27 kB)\r\n",
      "  Preparing metadata (setup.py) ... \u001b[?25ldone\r\n",
      "\u001b[?25hRequirement already satisfied: transformers>=4.17.0 in /opt/conda/lib/python3.10/site-packages (from ktrain) (4.33.0)\r\n",
      "Requirement already satisfied: sentencepiece in /opt/conda/lib/python3.10/site-packages (from ktrain) (0.1.99)\r\n",
      "Collecting keras_bert>=0.86.0 (from ktrain)\r\n",
      "  Downloading keras-bert-0.89.0.tar.gz (25 kB)\r\n",
      "  Preparing metadata (setup.py) ... \u001b[?25ldone\r\n",
      "\u001b[?25hCollecting whoosh (from ktrain)\r\n",
      "  Downloading Whoosh-2.7.4-py2.py3-none-any.whl (468 kB)\r\n",
      "\u001b[2K     \u001b[90m━━━━━━━━━━━━━━━━━━━━━━━━━━━━━━━━━━━━━━\u001b[0m \u001b[32m468.8/468.8 kB\u001b[0m \u001b[31m27.5 MB/s\u001b[0m eta \u001b[36m0:00:00\u001b[0m\r\n",
      "\u001b[?25hRequirement already satisfied: numpy in /opt/conda/lib/python3.10/site-packages (from keras_bert>=0.86.0->ktrain) (1.23.5)\r\n",
      "Collecting keras-transformer==0.40.0 (from keras_bert>=0.86.0->ktrain)\r\n",
      "  Downloading keras-transformer-0.40.0.tar.gz (9.7 kB)\r\n",
      "  Preparing metadata (setup.py) ... \u001b[?25ldone\r\n",
      "\u001b[?25hCollecting keras-pos-embd==0.13.0 (from keras-transformer==0.40.0->keras_bert>=0.86.0->ktrain)\r\n",
      "  Downloading keras-pos-embd-0.13.0.tar.gz (5.6 kB)\r\n",
      "  Preparing metadata (setup.py) ... \u001b[?25ldone\r\n",
      "\u001b[?25hCollecting keras-multi-head==0.29.0 (from keras-transformer==0.40.0->keras_bert>=0.86.0->ktrain)\r\n",
      "  Downloading keras-multi-head-0.29.0.tar.gz (13 kB)\r\n",
      "  Preparing metadata (setup.py) ... \u001b[?25ldone\r\n",
      "\u001b[?25hCollecting keras-layer-normalization==0.16.0 (from keras-transformer==0.40.0->keras_bert>=0.86.0->ktrain)\r\n",
      "  Downloading keras-layer-normalization-0.16.0.tar.gz (3.9 kB)\r\n",
      "  Preparing metadata (setup.py) ... \u001b[?25ldone\r\n",
      "\u001b[?25hCollecting keras-position-wise-feed-forward==0.8.0 (from keras-transformer==0.40.0->keras_bert>=0.86.0->ktrain)\r\n",
      "  Downloading keras-position-wise-feed-forward-0.8.0.tar.gz (4.1 kB)\r\n",
      "  Preparing metadata (setup.py) ... \u001b[?25ldone\r\n",
      "\u001b[?25hCollecting keras-embed-sim==0.10.0 (from keras-transformer==0.40.0->keras_bert>=0.86.0->ktrain)\r\n",
      "  Downloading keras-embed-sim-0.10.0.tar.gz (3.6 kB)\r\n",
      "  Preparing metadata (setup.py) ... \u001b[?25ldone\r\n",
      "\u001b[?25hCollecting keras-self-attention==0.51.0 (from keras-multi-head==0.29.0->keras-transformer==0.40.0->keras_bert>=0.86.0->ktrain)\r\n",
      "  Downloading keras-self-attention-0.51.0.tar.gz (11 kB)\r\n",
      "  Preparing metadata (setup.py) ... \u001b[?25ldone\r\n",
      "\u001b[?25hRequirement already satisfied: contourpy>=1.0.1 in /opt/conda/lib/python3.10/site-packages (from matplotlib>=3.0.0->ktrain) (1.1.0)\r\n",
      "Requirement already satisfied: cycler>=0.10 in /opt/conda/lib/python3.10/site-packages (from matplotlib>=3.0.0->ktrain) (0.11.0)\r\n",
      "Requirement already satisfied: fonttools>=4.22.0 in /opt/conda/lib/python3.10/site-packages (from matplotlib>=3.0.0->ktrain) (4.40.0)\r\n",
      "Requirement already satisfied: kiwisolver>=1.0.1 in /opt/conda/lib/python3.10/site-packages (from matplotlib>=3.0.0->ktrain) (1.4.4)\r\n",
      "Requirement already satisfied: pillow>=6.2.0 in /opt/conda/lib/python3.10/site-packages (from matplotlib>=3.0.0->ktrain) (9.5.0)\r\n",
      "Requirement already satisfied: pyparsing<3.1,>=2.3.1 in /opt/conda/lib/python3.10/site-packages (from matplotlib>=3.0.0->ktrain) (3.0.9)\r\n",
      "Requirement already satisfied: python-dateutil>=2.7 in /opt/conda/lib/python3.10/site-packages (from matplotlib>=3.0.0->ktrain) (2.8.2)\r\n",
      "Requirement already satisfied: pytz>=2020.1 in /opt/conda/lib/python3.10/site-packages (from pandas>=1.0.1->ktrain) (2023.3)\r\n",
      "Requirement already satisfied: tzdata>=2022.1 in /opt/conda/lib/python3.10/site-packages (from pandas>=1.0.1->ktrain) (2023.3)\r\n",
      "Requirement already satisfied: regex>2016 in /opt/conda/lib/python3.10/site-packages (from syntok>1.3.3->ktrain) (2023.6.3)\r\n",
      "Requirement already satisfied: filelock in /opt/conda/lib/python3.10/site-packages (from transformers>=4.17.0->ktrain) (3.12.2)\r\n",
      "Requirement already satisfied: huggingface-hub<1.0,>=0.15.1 in /opt/conda/lib/python3.10/site-packages (from transformers>=4.17.0->ktrain) (0.16.4)\r\n",
      "Requirement already satisfied: pyyaml>=5.1 in /opt/conda/lib/python3.10/site-packages (from transformers>=4.17.0->ktrain) (6.0)\r\n",
      "Requirement already satisfied: tokenizers!=0.11.3,<0.14,>=0.11.1 in /opt/conda/lib/python3.10/site-packages (from transformers>=4.17.0->ktrain) (0.13.3)\r\n",
      "Requirement already satisfied: safetensors>=0.3.1 in /opt/conda/lib/python3.10/site-packages (from transformers>=4.17.0->ktrain) (0.3.3)\r\n",
      "Requirement already satisfied: tqdm>=4.27 in /opt/conda/lib/python3.10/site-packages (from transformers>=4.17.0->ktrain) (4.66.1)\r\n",
      "Requirement already satisfied: six in /opt/conda/lib/python3.10/site-packages (from langdetect->ktrain) (1.16.0)\r\n",
      "Requirement already satisfied: charset-normalizer<4,>=2 in /opt/conda/lib/python3.10/site-packages (from requests->ktrain) (3.1.0)\r\n",
      "Requirement already satisfied: idna<4,>=2.5 in /opt/conda/lib/python3.10/site-packages (from requests->ktrain) (3.4)\r\n",
      "Requirement already satisfied: urllib3<3,>=1.21.1 in /opt/conda/lib/python3.10/site-packages (from requests->ktrain) (1.26.15)\r\n",
      "Requirement already satisfied: certifi>=2017.4.17 in /opt/conda/lib/python3.10/site-packages (from requests->ktrain) (2023.7.22)\r\n",
      "Requirement already satisfied: scipy>=1.3.2 in /opt/conda/lib/python3.10/site-packages (from scikit-learn->ktrain) (1.11.2)\r\n",
      "Requirement already satisfied: threadpoolctl>=2.0.0 in /opt/conda/lib/python3.10/site-packages (from scikit-learn->ktrain) (3.1.0)\r\n",
      "Requirement already satisfied: setuptools in /opt/conda/lib/python3.10/site-packages (from tika->ktrain) (68.0.0)\r\n",
      "Requirement already satisfied: fsspec in /opt/conda/lib/python3.10/site-packages (from huggingface-hub<1.0,>=0.15.1->transformers>=4.17.0->ktrain) (2023.9.0)\r\n",
      "Requirement already satisfied: typing-extensions>=3.7.4.3 in /opt/conda/lib/python3.10/site-packages (from huggingface-hub<1.0,>=0.15.1->transformers>=4.17.0->ktrain) (4.6.3)\r\n",
      "Building wheels for collected packages: ktrain, keras_bert, keras-transformer, keras-embed-sim, keras-layer-normalization, keras-multi-head, keras-pos-embd, keras-position-wise-feed-forward, keras-self-attention, cchardet, langdetect, tika\r\n",
      "  Building wheel for ktrain (setup.py) ... \u001b[?25l-\b \bdone\r\n",
      "\u001b[?25h  Created wheel for ktrain: filename=ktrain-0.38.0-py3-none-any.whl size=25319964 sha256=e6ceb3f1d1da07f6c0a652a75067f9dd719b48439ed25922a46454d1face2671\r\n",
      "  Stored in directory: /root/.cache/pip/wheels/10/76/6b/5799f396ca78a8c38c7c6439a192ca88538a97cfb970946da5\r\n",
      "  Building wheel for keras_bert (setup.py) ... \u001b[?25l-\b \bdone\r\n",
      "\u001b[?25h  Created wheel for keras_bert: filename=keras_bert-0.89.0-py3-none-any.whl size=33501 sha256=8ef4b08d0df88929b3334bcd8de17d2c654ea63031a23c8301a8d353808590f9\r\n",
      "  Stored in directory: /root/.cache/pip/wheels/89/0c/04/646b6fdf6375911b42c8d540a8a3fda8d5d77634e5dcbe7b26\r\n",
      "  Building wheel for keras-transformer (setup.py) ... \u001b[?25l-\b \bdone\r\n",
      "\u001b[?25h  Created wheel for keras-transformer: filename=keras_transformer-0.40.0-py3-none-any.whl size=12287 sha256=ac0a6c4cf68a1d5a7c43c6b49b81ef0cde8d914760a9e98796ba9b85e2df8fb9\r\n",
      "  Stored in directory: /root/.cache/pip/wheels/f2/cb/22/75a0ad376129177f7c95c0d91331a18f5368fd657f4035ba7c\r\n",
      "  Building wheel for keras-embed-sim (setup.py) ... \u001b[?25l-\b \bdone\r\n",
      "\u001b[?25h  Created wheel for keras-embed-sim: filename=keras_embed_sim-0.10.0-py3-none-any.whl size=3943 sha256=94529599546b5beb0dceca02c422186f80435b65c71d5633fc209c3c24c91454\r\n",
      "  Stored in directory: /root/.cache/pip/wheels/82/32/c7/fd35d0d1b840a6c7cbd4343f808d10d0f7b87d271a4dbe796f\r\n",
      "  Building wheel for keras-layer-normalization (setup.py) ... \u001b[?25l-\b \bdone\r\n",
      "\u001b[?25h  Created wheel for keras-layer-normalization: filename=keras_layer_normalization-0.16.0-py3-none-any.whl size=4653 sha256=8c5ab7e3014b5ba9b1f0025289362fb95f4755e9b14b6e525e62891e97968c23\r\n",
      "  Stored in directory: /root/.cache/pip/wheels/ed/3a/4b/21db23c0cc56c4b219616e181f258eb7c57d36cc5d056fae9a\r\n",
      "  Building wheel for keras-multi-head (setup.py) ... \u001b[?25l-\b \bdone\r\n",
      "\u001b[?25h  Created wheel for keras-multi-head: filename=keras_multi_head-0.29.0-py3-none-any.whl size=14979 sha256=3c06c1169179883a866cd7347f28e991b2bb29bd783210979e578fc9406ff5d8\r\n",
      "  Stored in directory: /root/.cache/pip/wheels/cb/23/4b/06d7ae21714f70fcc25b48f972cc8e5e7f4b6b764a038b509d\r\n",
      "  Building wheel for keras-pos-embd (setup.py) ... \u001b[?25l-\b \bdone\r\n",
      "\u001b[?25h  Created wheel for keras-pos-embd: filename=keras_pos_embd-0.13.0-py3-none-any.whl size=6946 sha256=80352f863c52cb000de6f4c13c5993b70d1d6340454b39cd196f6fdc90987a8b\r\n",
      "  Stored in directory: /root/.cache/pip/wheels/78/07/1b/b1ca47b6ac338554b75c8f52c54e6a2bfbe1b07d79579979a4\r\n",
      "  Building wheel for keras-position-wise-feed-forward (setup.py) ... \u001b[?25l-\b \bdone\r\n",
      "\u001b[?25h  Created wheel for keras-position-wise-feed-forward: filename=keras_position_wise_feed_forward-0.8.0-py3-none-any.whl size=4968 sha256=40bab19ab3fa08a4afbd7ce0b9f5a8f861afdd4b3c9465b3776d9413f06d6f21\r\n",
      "  Stored in directory: /root/.cache/pip/wheels/c1/6a/04/d1706a53b23b2cb5f9a0a76269bf87925daa1bca09eac01b21\r\n",
      "  Building wheel for keras-self-attention (setup.py) ... \u001b[?25l-\b \bdone\r\n",
      "\u001b[?25h  Created wheel for keras-self-attention: filename=keras_self_attention-0.51.0-py3-none-any.whl size=18895 sha256=0392ad82e99c3343e818897489de29cd98b1fed15c601296b741d8c1e0eaa030\r\n",
      "  Stored in directory: /root/.cache/pip/wheels/b8/f7/24/607b483144fb9c47b4ba2c5fba6b68e54aeee2d5bf6c05302e\r\n",
      "  Building wheel for cchardet (setup.py) ... \u001b[?25l-\b \b\\\b \bdone\r\n",
      "\u001b[?25h  Created wheel for cchardet: filename=cchardet-2.1.7-cp310-cp310-linux_x86_64.whl size=133763 sha256=3e61dbc0d13bd9b3da6dd1877a068e704d64a86fab10945a61177401e9a30590\r\n",
      "  Stored in directory: /root/.cache/pip/wheels/ee/e0/ab/e01326f15c59438d080b1496dbab8091e952ec72f35e3c437e\r\n",
      "  Building wheel for langdetect (setup.py) ... \u001b[?25l-\b \bdone\r\n",
      "\u001b[?25h  Created wheel for langdetect: filename=langdetect-1.0.9-py3-none-any.whl size=993224 sha256=67fb3f1c21e0832d1e073d20655a5202d5e9b5655cee09de9201ceb84dce6b6a\r\n",
      "  Stored in directory: /root/.cache/pip/wheels/95/03/7d/59ea870c70ce4e5a370638b5462a7711ab78fba2f655d05106\r\n",
      "  Building wheel for tika (setup.py) ... \u001b[?25l-\b \bdone\r\n",
      "\u001b[?25h  Created wheel for tika: filename=tika-2.6.0-py3-none-any.whl size=32625 sha256=32d6d1d8bc48916b316efc4056a62ba6eb38082b1e62a755fe7aeac6d9f65f95\r\n",
      "  Stored in directory: /root/.cache/pip/wheels/5f/71/c7/b757709531121b1700cffda5b6b0d4aad095fb507ec84316d0\r\n",
      "Successfully built ktrain keras_bert keras-transformer keras-embed-sim keras-layer-normalization keras-multi-head keras-pos-embd keras-position-wise-feed-forward keras-self-attention cchardet langdetect tika\r\n",
      "Installing collected packages: whoosh, cchardet, syntok, langdetect, keras-self-attention, keras-position-wise-feed-forward, keras-pos-embd, keras-layer-normalization, keras-embed-sim, chardet, tika, keras-multi-head, keras-transformer, keras_bert, ktrain\r\n",
      "Successfully installed cchardet-2.1.7 chardet-5.2.0 keras-embed-sim-0.10.0 keras-layer-normalization-0.16.0 keras-multi-head-0.29.0 keras-pos-embd-0.13.0 keras-position-wise-feed-forward-0.8.0 keras-self-attention-0.51.0 keras-transformer-0.40.0 keras_bert-0.89.0 ktrain-0.38.0 langdetect-1.0.9 syntok-1.4.4 tika-2.6.0 whoosh-2.7.4\r\n",
      "Note: you may need to restart the kernel to use updated packages.\n"
     ]
    }
   ],
   "source": [
    "pip install ktrain"
   ]
  },
  {
   "cell_type": "code",
   "execution_count": 24,
   "id": "44e2ddea",
   "metadata": {
    "execution": {
     "iopub.execute_input": "2023-10-14T19:13:39.718940Z",
     "iopub.status.busy": "2023-10-14T19:13:39.718647Z",
     "iopub.status.idle": "2023-10-14T19:14:54.282074Z",
     "shell.execute_reply": "2023-10-14T19:14:54.280999Z"
    },
    "papermill": {
     "duration": 74.578274,
     "end_time": "2023-10-14T19:14:54.284356",
     "exception": false,
     "start_time": "2023-10-14T19:13:39.706082",
     "status": "completed"
    },
    "tags": []
   },
   "outputs": [
    {
     "data": {
      "application/vnd.jupyter.widget-view+json": {
       "model_id": "74df1a06d29d4cb1be410060909b31d4",
       "version_major": 2,
       "version_minor": 0
      },
      "text/plain": [
       "Downloading (…)lve/main/config.json:   0%|          | 0.00/615 [00:00<?, ?B/s]"
      ]
     },
     "metadata": {},
     "output_type": "display_data"
    },
    {
     "data": {
      "application/vnd.jupyter.widget-view+json": {
       "model_id": "167cda6bffa141bd84e324481d5c0253",
       "version_major": 2,
       "version_minor": 0
      },
      "text/plain": [
       "Downloading (…)lve/main/config.json:   0%|          | 0.00/512 [00:00<?, ?B/s]"
      ]
     },
     "metadata": {},
     "output_type": "display_data"
    },
    {
     "data": {
      "application/vnd.jupyter.widget-view+json": {
       "model_id": "747e4917c27149869757c6b038e40df7",
       "version_major": 2,
       "version_minor": 0
      },
      "text/plain": [
       "Downloading tf_model.h5:   0%|          | 0.00/1.89G [00:00<?, ?B/s]"
      ]
     },
     "metadata": {},
     "output_type": "display_data"
    }
   ],
   "source": [
    "\n",
    "import ktrain\n",
    "from ktrain import text\n",
    "MODEL_NAME = 'xlm-roberta-base'\n",
    "t = text.Transformer(MODEL_NAME, maxlen=500)"
   ]
  },
  {
   "cell_type": "code",
   "execution_count": 25,
   "id": "1fb005d4",
   "metadata": {
    "execution": {
     "iopub.execute_input": "2023-10-14T19:14:54.310874Z",
     "iopub.status.busy": "2023-10-14T19:14:54.310596Z",
     "iopub.status.idle": "2023-10-14T19:15:01.066909Z",
     "shell.execute_reply": "2023-10-14T19:15:01.065977Z"
    },
    "papermill": {
     "duration": 6.770986,
     "end_time": "2023-10-14T19:15:01.068920",
     "exception": false,
     "start_time": "2023-10-14T19:14:54.297934",
     "status": "completed"
    },
    "tags": []
   },
   "outputs": [
    {
     "name": "stdout",
     "output_type": "stream",
     "text": [
      "preprocessing train...\n",
      "language: bn\n",
      "train sequence lengths:\n",
      "\tmean : 16\n",
      "\t95percentile : 20\n",
      "\t99percentile : 22\n"
     ]
    },
    {
     "data": {
      "application/vnd.jupyter.widget-view+json": {
       "model_id": "56f9f3442c144e71a2325bb5f0b74a43",
       "version_major": 2,
       "version_minor": 0
      },
      "text/plain": [
       "Downloading (…)tencepiece.bpe.model:   0%|          | 0.00/5.07M [00:00<?, ?B/s]"
      ]
     },
     "metadata": {},
     "output_type": "display_data"
    },
    {
     "data": {
      "text/html": [
       "\n",
       "<style>\n",
       "    /* Turns off some styling */\n",
       "    progress {\n",
       "        /* gets rid of default border in Firefox and Opera. */\n",
       "        border: none;\n",
       "        /* Needs to be in here for Safari polyfill so background images work as expected. */\n",
       "        background-size: auto;\n",
       "    }\n",
       "    progress:not([value]), progress:not([value])::-webkit-progress-bar {\n",
       "        background: repeating-linear-gradient(45deg, #7e7e7e, #7e7e7e 10px, #5c5c5c 10px, #5c5c5c 20px);\n",
       "    }\n",
       "    .progress-bar-interrupted, .progress-bar-interrupted::-webkit-progress-bar {\n",
       "        background: #F44336;\n",
       "    }\n",
       "</style>\n"
      ],
      "text/plain": [
       "<IPython.core.display.HTML object>"
      ]
     },
     "metadata": {},
     "output_type": "display_data"
    },
    {
     "data": {
      "text/html": [],
      "text/plain": [
       "<IPython.core.display.HTML object>"
      ]
     },
     "metadata": {},
     "output_type": "display_data"
    },
    {
     "name": "stdout",
     "output_type": "stream",
     "text": [
      "Is Multi-Label? False\n",
      "preprocessing test...\n",
      "language: bn\n",
      "test sequence lengths:\n",
      "\tmean : 16\n",
      "\t95percentile : 20\n",
      "\t99percentile : 22\n"
     ]
    },
    {
     "data": {
      "text/html": [
       "\n",
       "<style>\n",
       "    /* Turns off some styling */\n",
       "    progress {\n",
       "        /* gets rid of default border in Firefox and Opera. */\n",
       "        border: none;\n",
       "        /* Needs to be in here for Safari polyfill so background images work as expected. */\n",
       "        background-size: auto;\n",
       "    }\n",
       "    progress:not([value]), progress:not([value])::-webkit-progress-bar {\n",
       "        background: repeating-linear-gradient(45deg, #7e7e7e, #7e7e7e 10px, #5c5c5c 10px, #5c5c5c 20px);\n",
       "    }\n",
       "    .progress-bar-interrupted, .progress-bar-interrupted::-webkit-progress-bar {\n",
       "        background: #F44336;\n",
       "    }\n",
       "</style>\n"
      ],
      "text/plain": [
       "<IPython.core.display.HTML object>"
      ]
     },
     "metadata": {},
     "output_type": "display_data"
    },
    {
     "data": {
      "text/html": [],
      "text/plain": [
       "<IPython.core.display.HTML object>"
      ]
     },
     "metadata": {},
     "output_type": "display_data"
    }
   ],
   "source": [
    "trn = t.preprocess_train(X_train, y_train)\n",
    "val = t.preprocess_test(X_test, y_test)"
   ]
  },
  {
   "cell_type": "code",
   "execution_count": 26,
   "id": "e1a78552",
   "metadata": {
    "execution": {
     "iopub.execute_input": "2023-10-14T19:15:01.095471Z",
     "iopub.status.busy": "2023-10-14T19:15:01.094675Z",
     "iopub.status.idle": "2023-10-14T19:15:04.100933Z",
     "shell.execute_reply": "2023-10-14T19:15:04.100014Z"
    },
    "papermill": {
     "duration": 3.021592,
     "end_time": "2023-10-14T19:15:04.103101",
     "exception": false,
     "start_time": "2023-10-14T19:15:01.081509",
     "status": "completed"
    },
    "tags": []
   },
   "outputs": [],
   "source": [
    "model = t.get_classifier()"
   ]
  },
  {
   "cell_type": "code",
   "execution_count": 27,
   "id": "05b84033",
   "metadata": {
    "execution": {
     "iopub.execute_input": "2023-10-14T19:15:04.129817Z",
     "iopub.status.busy": "2023-10-14T19:15:04.129534Z",
     "iopub.status.idle": "2023-10-14T19:15:07.384660Z",
     "shell.execute_reply": "2023-10-14T19:15:07.383438Z"
    },
    "papermill": {
     "duration": 3.271931,
     "end_time": "2023-10-14T19:15:07.387942",
     "exception": false,
     "start_time": "2023-10-14T19:15:04.116011",
     "status": "completed"
    },
    "tags": []
   },
   "outputs": [],
   "source": [
    "learner = ktrain.get_learner(model, train_data=trn, val_data=val, batch_size=6)\n"
   ]
  },
  {
   "cell_type": "code",
   "execution_count": 28,
   "id": "c2c0ba34",
   "metadata": {
    "execution": {
     "iopub.execute_input": "2023-10-14T19:15:07.469098Z",
     "iopub.status.busy": "2023-10-14T19:15:07.468581Z",
     "iopub.status.idle": "2023-10-14T21:08:48.693125Z",
     "shell.execute_reply": "2023-10-14T21:08:48.692027Z"
    },
    "papermill": {
     "duration": 6821.26608,
     "end_time": "2023-10-14T21:08:48.695797",
     "exception": false,
     "start_time": "2023-10-14T19:15:07.429717",
     "status": "completed"
    },
    "tags": []
   },
   "outputs": [
    {
     "name": "stdout",
     "output_type": "stream",
     "text": [
      "\n",
      "\n",
      "begin training using onecycle policy with max lr of 2e-05...\n",
      "Epoch 1/10\n",
      "1386/1386 [==============================] - 702s 491ms/step - loss: 0.3461 - accuracy: 0.8655 - val_loss: 0.2316 - val_accuracy: 0.8778\n",
      "Epoch 2/10\n",
      "1386/1386 [==============================] - 676s 488ms/step - loss: 0.2306 - accuracy: 0.9125 - val_loss: 0.1818 - val_accuracy: 0.9346\n",
      "Epoch 3/10\n",
      "1386/1386 [==============================] - 675s 487ms/step - loss: 0.1830 - accuracy: 0.9293 - val_loss: 0.1968 - val_accuracy: 0.9158\n",
      "Epoch 4/10\n",
      "1386/1386 [==============================] - 676s 488ms/step - loss: 0.1426 - accuracy: 0.9442 - val_loss: 0.1956 - val_accuracy: 0.9327\n",
      "Epoch 5/10\n",
      "1386/1386 [==============================] - 677s 488ms/step - loss: 0.1311 - accuracy: 0.9508 - val_loss: 0.1308 - val_accuracy: 0.9543\n",
      "Epoch 6/10\n",
      "1386/1386 [==============================] - 677s 488ms/step - loss: 0.1085 - accuracy: 0.9621 - val_loss: 0.1255 - val_accuracy: 0.9466\n",
      "Epoch 7/10\n",
      "1386/1386 [==============================] - 677s 489ms/step - loss: 0.0763 - accuracy: 0.9727 - val_loss: 0.1342 - val_accuracy: 0.9586\n",
      "Epoch 8/10\n",
      "1386/1386 [==============================] - 677s 489ms/step - loss: 0.0448 - accuracy: 0.9864 - val_loss: 0.1438 - val_accuracy: 0.9649\n",
      "Epoch 9/10\n",
      "1386/1386 [==============================] - 676s 488ms/step - loss: 0.0250 - accuracy: 0.9930 - val_loss: 0.1860 - val_accuracy: 0.9557\n",
      "Epoch 10/10\n",
      "1386/1386 [==============================] - 676s 488ms/step - loss: 0.0149 - accuracy: 0.9965 - val_loss: 0.1768 - val_accuracy: 0.9591\n"
     ]
    }
   ],
   "source": [
    "history = learner.fit_onecycle(2e-5, 10)\n"
   ]
  },
  {
   "cell_type": "code",
   "execution_count": 29,
   "id": "a154cca5",
   "metadata": {
    "execution": {
     "iopub.execute_input": "2023-10-14T21:08:50.088685Z",
     "iopub.status.busy": "2023-10-14T21:08:50.088350Z",
     "iopub.status.idle": "2023-10-14T21:09:02.855048Z",
     "shell.execute_reply": "2023-10-14T21:09:02.854116Z"
    },
    "papermill": {
     "duration": 13.473127,
     "end_time": "2023-10-14T21:09:02.856872",
     "exception": false,
     "start_time": "2023-10-14T21:08:49.383745",
     "status": "completed"
    },
    "tags": []
   },
   "outputs": [
    {
     "name": "stdout",
     "output_type": "stream",
     "text": [
      "65/65 [==============================] - 13s 154ms/step\n",
      "              precision    recall  f1-score   support\n",
      "\n",
      "        fake       0.87      0.78      0.82       254\n",
      "        true       0.97      0.98      0.98      1825\n",
      "\n",
      "    accuracy                           0.96      2079\n",
      "   macro avg       0.92      0.88      0.90      2079\n",
      "weighted avg       0.96      0.96      0.96      2079\n",
      "\n"
     ]
    },
    {
     "data": {
      "text/plain": [
       "array([[ 199,   55],\n",
       "       [  30, 1795]])"
      ]
     },
     "execution_count": 29,
     "metadata": {},
     "output_type": "execute_result"
    }
   ],
   "source": [
    "learner.validate(class_names=t.get_classes()) \n"
   ]
  },
  {
   "cell_type": "code",
   "execution_count": 30,
   "id": "c3939e87",
   "metadata": {
    "execution": {
     "iopub.execute_input": "2023-10-14T21:09:04.581324Z",
     "iopub.status.busy": "2023-10-14T21:09:04.580809Z",
     "iopub.status.idle": "2023-10-14T21:09:04.590853Z",
     "shell.execute_reply": "2023-10-14T21:09:04.590033Z"
    },
    "papermill": {
     "duration": 1.103726,
     "end_time": "2023-10-14T21:09:04.593712",
     "exception": false,
     "start_time": "2023-10-14T21:09:03.489986",
     "status": "completed"
    },
    "tags": []
   },
   "outputs": [],
   "source": [
    "def PlotGraph(history):\n",
    "    acc = history.history['accuracy']\n",
    "    val_acc = history.history['val_accuracy']\n",
    "    loss = history.history['loss']\n",
    "    val_loss = history.history['val_loss']\n",
    "    x = range(1, len(acc) + 1)\n",
    "\n",
    "    plt.figure(figsize=(12, 5))\n",
    "    plt.subplot(1, 2, 1)\n",
    "    plt.plot(x, acc, 'g', label='Training acc')\n",
    "    plt.plot(x, val_acc, 'b', label='Validation acc')\n",
    "    plt.title('Training and validation accuracy')\n",
    "    plt.legend()\n",
    "    plt.subplot(1, 2, 2)\n",
    "    plt.plot(x, loss, 'g', label='Training loss')\n",
    "    plt.plot(x, val_loss, 'b', label='Validation loss')\n",
    "    plt.title('Training and validation loss')\n",
    "    plt.legend() "
   ]
  },
  {
   "cell_type": "code",
   "execution_count": 31,
   "id": "55c71bb8",
   "metadata": {
    "execution": {
     "iopub.execute_input": "2023-10-14T21:09:06.225763Z",
     "iopub.status.busy": "2023-10-14T21:09:06.224815Z",
     "iopub.status.idle": "2023-10-14T21:09:06.724599Z",
     "shell.execute_reply": "2023-10-14T21:09:06.723689Z"
    },
    "papermill": {
     "duration": 1.150728,
     "end_time": "2023-10-14T21:09:06.726580",
     "exception": false,
     "start_time": "2023-10-14T21:09:05.575852",
     "status": "completed"
    },
    "tags": []
   },
   "outputs": [
    {
     "data": {
      "image/png": "[encoded data removed]",
      "text/plain": [
       "<Figure size 1200x500 with 2 Axes>"
      ]
     },
     "metadata": {},
     "output_type": "display_data"
    }
   ],
   "source": [
    "PlotGraph(history)"
   ]
  },
  {
   "cell_type": "code",
   "execution_count": null,
   "id": "8a84c577",
   "metadata": {
    "papermill": {
     "duration": 0.625699,
     "end_time": "2023-10-14T21:09:08.062027",
     "exception": false,
     "start_time": "2023-10-14T21:09:07.436328",
     "status": "completed"
    },
    "tags": []
   },
   "outputs": [],
   "source": []
  }
 ],
 "metadata": {
  "kernelspec": {
   "display_name": "Python 3",
   "language": "python",
   "name": "python3"
  },
  "language_info": {
   "codemirror_mode": {
    "name": "ipython",
    "version": 3
   },
   "file_extension": ".py",
   "mimetype": "text/x-python",
   "name": "python",
   "nbconvert_exporter": "python",
   "pygments_lexer": "ipython3",
   "version": "3.10.12"
  },
  "papermill": {
   "default_parameters": {},
   "duration": 7050.204052,
   "end_time": "2023-10-14T21:09:11.835836",
   "environment_variables": {},
   "exception": null,
   "input_path": "__notebook__.ipynb",
   "output_path": "__notebook__.ipynb",
   "parameters": {},
   "start_time": "2023-10-14T19:11:41.631784",
   "version": "2.4.0"
  },
  "widgets": {
   "application/vnd.jupyter.widget-state+json": {
    "state": {
     "0854e11bedab4af5a9aece33cd7de947": {
      "model_module": "@jupyter-widgets/base",
      "model_module_version": "1.2.0",
      "model_name": "LayoutModel",
      "state": {
       "_model_module": "@jupyter-widgets/base",
       "_model_module_version": "1.2.0",
       "_model_name": "LayoutModel",
       "_view_count": null,
       "_view_module": "@jupyter-widgets/base",
       "_view_module_version": "1.2.0",
       "_view_name": "LayoutView",
       "align_content": null,
       "align_items": null,
       "align_self": null,
       "border": null,
       "bottom": null,
       "display": null,
       "flex": null,
       "flex_flow": null,
       "grid_area": null,
       "grid_auto_columns": null,
       "grid_auto_flow": null,
       "grid_auto_rows": null,
       "grid_column": null,
       "grid_gap": null,
       "grid_row": null,
       "grid_template_areas": null,
       "grid_template_columns": null,
       "grid_template_rows": null,
       "height": null,
       "justify_content": null,
       "justify_items": null,
       "left": null,
       "margin": null,
       "max_height": null,
       "max_width": null,
       "min_height": null,
       "min_width": null,
       "object_fit": null,
       "object_position": null,
       "order": null,
       "overflow": null,
       "overflow_x": null,
       "overflow_y": null,
       "padding": null,
       "right": null,
       "top": null,
       "visibility": null,
       "width": null
      }
     },
     "1589d86291874472bbb71294549677af": {
      "model_module": "@jupyter-widgets/base",
      "model_module_version": "1.2.0",
      "model_name": "LayoutModel",
      "state": {
       "_model_module": "@jupyter-widgets/base",
       "_model_module_version": "1.2.0",
       "_model_name": "LayoutModel",
       "_view_count": null,
       "_view_module": "@jupyter-widgets/base",
       "_view_module_version": "1.2.0",
       "_view_name": "LayoutView",
       "align_content": null,
       "align_items": null,
       "align_self": null,
       "border": null,
       "bottom": null,
       "display": null,
       "flex": null,
       "flex_flow": null,
       "grid_area": null,
       "grid_auto_columns": null,
       "grid_auto_flow": null,
       "grid_auto_rows": null,
       "grid_column": null,
       "grid_gap": null,
       "grid_row": null,
       "grid_template_areas": null,
       "grid_template_columns": null,
       "grid_template_rows": null,
       "height": null,
       "justify_content": null,
       "justify_items": null,
       "left": null,
       "margin": null,
       "max_height": null,
       "max_width": null,
       "min_height": null,
       "min_width": null,
       "object_fit": null,
       "object_position": null,
       "order": null,
       "overflow": null,
       "overflow_x": null,
       "overflow_y": null,
       "padding": null,
       "right": null,
       "top": null,
       "visibility": null,
       "width": null
      }
     },
     "167cda6bffa141bd84e324481d5c0253": {
      "model_module": "@jupyter-widgets/controls",
      "model_module_version": "1.5.0",
      "model_name": "HBoxModel",
      "state": {
       "_dom_classes": [],
       "_model_module": "@jupyter-widgets/controls",
       "_model_module_version": "1.5.0",
       "_model_name": "HBoxModel",
       "_view_count": null,
       "_view_module": "@jupyter-widgets/controls",
       "_view_module_version": "1.5.0",
       "_view_name": "HBoxView",
       "box_style": "",
       "children": [
        "IPY_MODEL_714e74613bf84fe5ae80bd17e282c44b",
        "IPY_MODEL_7f15c31643a049a5a525270af3a42aed",
        "IPY_MODEL_d5eb7baecaee4befb11aa42607f85e18"
       ],
       "layout": "IPY_MODEL_0854e11bedab4af5a9aece33cd7de947"
      }
     },
     "2a537a58965641938fb39ef215492854": {
      "model_module": "@jupyter-widgets/base",
      "model_module_version": "1.2.0",
      "model_name": "LayoutModel",
      "state": {
       "_model_module": "@jupyter-widgets/base",
       "_model_module_version": "1.2.0",
       "_model_name": "LayoutModel",
       "_view_count": null,
       "_view_module": "@jupyter-widgets/base",
       "_view_module_version": "1.2.0",
       "_view_name": "LayoutView",
       "align_content": null,
       "align_items": null,
       "align_self": null,
       "border": null,
       "bottom": null,
       "display": null,
       "flex": null,
       "flex_flow": null,
       "grid_area": null,
       "grid_auto_columns": null,
       "grid_auto_flow": null,
       "grid_auto_rows": null,
       "grid_column": null,
       "grid_gap": null,
       "grid_row": null,
       "grid_template_areas": null,
       "grid_template_columns": null,
       "grid_template_rows": null,
       "height": null,
       "justify_content": null,
       "justify_items": null,
       "left": null,
       "margin": null,
       "max_height": null,
       "max_width": null,
       "min_height": null,
       "min_width": null,
       "object_fit": null,
       "object_position": null,
       "order": null,
       "overflow": null,
       "overflow_x": null,
       "overflow_y": null,
       "padding": null,
       "right": null,
       "top": null,
       "visibility": null,
       "width": null
      }
     },
     "2bd404d6a7a3466ca6ec26fac72572ee": {
      "model_module": "@jupyter-widgets/controls",
      "model_module_version": "1.5.0",
      "model_name": "FloatProgressModel",
      "state": {
       "_dom_classes": [],
       "_model_module": "@jupyter-widgets/controls",
       "_model_module_version": "1.5.0",
       "_model_name": "FloatProgressModel",
       "_view_count": null,
       "_view_module": "@jupyter-widgets/controls",
       "_view_module_version": "1.5.0",
       "_view_name": "ProgressView",
       "bar_style": "success",
       "description": "",
       "description_tooltip": null,
       "layout": "IPY_MODEL_f3ed86d2dbe247c79d15c4fad3a86d25",
       "max": 5069051.0,
       "min": 0.0,
       "orientation": "horizontal",
       "style": "IPY_MODEL_7f444992a8dd4727bf400e4b653ec394",
       "value": 5069051.0
      }
     },
     "2c64e156edf542b7bfa83de971cd6ada": {
      "model_module": "@jupyter-widgets/controls",
      "model_module_version": "1.5.0",
      "model_name": "ProgressStyleModel",
      "state": {
       "_model_module": "@jupyter-widgets/controls",
       "_model_module_version": "1.5.0",
       "_model_name": "ProgressStyleModel",
       "_view_count": null,
       "_view_module": "@jupyter-widgets/base",
       "_view_module_version": "1.2.0",
       "_view_name": "StyleView",
       "bar_color": null,
       "description_width": ""
      }
     },
     "2f8ca7030c1d400b9c6f4efe66734e44": {
      "model_module": "@jupyter-widgets/base",
      "model_module_version": "1.2.0",
      "model_name": "LayoutModel",
      "state": {
       "_model_module": "@jupyter-widgets/base",
       "_model_module_version": "1.2.0",
       "_model_name": "LayoutModel",
       "_view_count": null,
       "_view_module": "@jupyter-widgets/base",
       "_view_module_version": "1.2.0",
       "_view_name": "LayoutView",
       "align_content": null,
       "align_items": null,
       "align_self": null,
       "border": null,
       "bottom": null,
       "display": null,
       "flex": null,
       "flex_flow": null,
       "grid_area": null,
       "grid_auto_columns": null,
       "grid_auto_flow": null,
       "grid_auto_rows": null,
       "grid_column": null,
       "grid_gap": null,
       "grid_row": null,
       "grid_template_areas": null,
       "grid_template_columns": null,
       "grid_template_rows": null,
       "height": null,
       "justify_content": null,
       "justify_items": null,
       "left": null,
       "margin": null,
       "max_height": null,
       "max_width": null,
       "min_height": null,
       "min_width": null,
       "object_fit": null,
       "object_position": null,
       "order": null,
       "overflow": null,
       "overflow_x": null,
       "overflow_y": null,
       "padding": null,
       "right": null,
       "top": null,
       "visibility": null,
       "width": null
      }
     },
     "3161303823464a96b32e1a3bedd025bc": {
      "model_module": "@jupyter-widgets/controls",
      "model_module_version": "1.5.0",
      "model_name": "FloatProgressModel",
      "state": {
       "_dom_classes": [],
       "_model_module": "@jupyter-widgets/controls",
       "_model_module_version": "1.5.0",
       "_model_name": "FloatProgressModel",
       "_view_count": null,
       "_view_module": "@jupyter-widgets/controls",
       "_view_module_version": "1.5.0",
       "_view_name": "ProgressView",
       "bar_style": "success",
       "description": "",
       "description_tooltip": null,
       "layout": "IPY_MODEL_77a6c35d24d44a188af99c25e2fbe937",
       "max": 615.0,
       "min": 0.0,
       "orientation": "horizontal",
       "style": "IPY_MODEL_72d305ee37cc4602960a1685185bd9ad",
       "value": 615.0
      }
     },
     "3169efe9506e46f0a27974958f2f6c98": {
      "model_module": "@jupyter-widgets/controls",
      "model_module_version": "1.5.0",
      "model_name": "FloatProgressModel",
      "state": {
       "_dom_classes": [],
       "_model_module": "@jupyter-widgets/controls",
       "_model_module_version": "1.5.0",
       "_model_name": "FloatProgressModel",
       "_view_count": null,
       "_view_module": "@jupyter-widgets/controls",
       "_view_module_version": "1.5.0",
       "_view_name": "ProgressView",
       "bar_style": "success",
       "description": "",
       "description_tooltip": null,
       "layout": "IPY_MODEL_69686855763044b5949272097f5fa92a",
       "max": 1885418496.0,
       "min": 0.0,
       "orientation": "horizontal",
       "style": "IPY_MODEL_2c64e156edf542b7bfa83de971cd6ada",
       "value": 1885418496.0
      }
     },
     "3a428763521e4874a53dddf026903538": {
      "model_module": "@jupyter-widgets/base",
      "model_module_version": "1.2.0",
      "model_name": "LayoutModel",
      "state": {
       "_model_module": "@jupyter-widgets/base",
       "_model_module_version": "1.2.0",
       "_model_name": "LayoutModel",
       "_view_count": null,
       "_view_module": "@jupyter-widgets/base",
       "_view_module_version": "1.2.0",
       "_view_name": "LayoutView",
       "align_content": null,
       "align_items": null,
       "align_self": null,
       "border": null,
       "bottom": null,
       "display": null,
       "flex": null,
       "flex_flow": null,
       "grid_area": null,
       "grid_auto_columns": null,
       "grid_auto_flow": null,
       "grid_auto_rows": null,
       "grid_column": null,
       "grid_gap": null,
       "grid_row": null,
       "grid_template_areas": null,
       "grid_template_columns": null,
       "grid_template_rows": null,
       "height": null,
       "justify_content": null,
       "justify_items": null,
       "left": null,
       "margin": null,
       "max_height": null,
       "max_width": null,
       "min_height": null,
       "min_width": null,
       "object_fit": null,
       "object_position": null,
       "order": null,
       "overflow": null,
       "overflow_x": null,
       "overflow_y": null,
       "padding": null,
       "right": null,
       "top": null,
       "visibility": null,
       "width": null
      }
     },
     "3fbeeb09c8ea444397e93be1bcad0383": {
      "model_module": "@jupyter-widgets/controls",
      "model_module_version": "1.5.0",
      "model_name": "DescriptionStyleModel",
      "state": {
       "_model_module": "@jupyter-widgets/controls",
       "_model_module_version": "1.5.0",
       "_model_name": "DescriptionStyleModel",
       "_view_count": null,
       "_view_module": "@jupyter-widgets/base",
       "_view_module_version": "1.2.0",
       "_view_name": "StyleView",
       "description_width": ""
      }
     },
     "4bbb8632382e48d6bd8684ca46e5f36c": {
      "model_module": "@jupyter-widgets/base",
      "model_module_version": "1.2.0",
      "model_name": "LayoutModel",
      "state": {
       "_model_module": "@jupyter-widgets/base",
       "_model_module_version": "1.2.0",
       "_model_name": "LayoutModel",
       "_view_count": null,
       "_view_module": "@jupyter-widgets/base",
       "_view_module_version": "1.2.0",
       "_view_name": "LayoutView",
       "align_content": null,
       "align_items": null,
       "align_self": null,
       "border": null,
       "bottom": null,
       "display": null,
       "flex": null,
       "flex_flow": null,
       "grid_area": null,
       "grid_auto_columns": null,
       "grid_auto_flow": null,
       "grid_auto_rows": null,
       "grid_column": null,
       "grid_gap": null,
       "grid_row": null,
       "grid_template_areas": null,
       "grid_template_columns": null,
       "grid_template_rows": null,
       "height": null,
       "justify_content": null,
       "justify_items": null,
       "left": null,
       "margin": null,
       "max_height": null,
       "max_width": null,
       "min_height": null,
       "min_width": null,
       "object_fit": null,
       "object_position": null,
       "order": null,
       "overflow": null,
       "overflow_x": null,
       "overflow_y": null,
       "padding": null,
       "right": null,
       "top": null,
       "visibility": null,
       "width": null
      }
     },
     "56f9f3442c144e71a2325bb5f0b74a43": {
      "model_module": "@jupyter-widgets/controls",
      "model_module_version": "1.5.0",
      "model_name": "HBoxModel",
      "state": {
       "_dom_classes": [],
       "_model_module": "@jupyter-widgets/controls",
       "_model_module_version": "1.5.0",
       "_model_name": "HBoxModel",
       "_view_count": null,
       "_view_module": "@jupyter-widgets/controls",
       "_view_module_version": "1.5.0",
       "_view_name": "HBoxView",
       "box_style": "",
       "children": [
        "IPY_MODEL_d3760ab4c9cc4d6aab42381ef96dcda4",
        "IPY_MODEL_2bd404d6a7a3466ca6ec26fac72572ee",
        "IPY_MODEL_7442060bb8524dca8d99cde760c61190"
       ],
       "layout": "IPY_MODEL_ceb9be0d7b0347fcbda1e4a8ddb29b47"
      }
     },
     "5a2b88d7826144828e5a0719fcafeeb9": {
      "model_module": "@jupyter-widgets/base",
      "model_module_version": "1.2.0",
      "model_name": "LayoutModel",
      "state": {
       "_model_module": "@jupyter-widgets/base",
       "_model_module_version": "1.2.0",
       "_model_name": "LayoutModel",
       "_view_count": null,
       "_view_module": "@jupyter-widgets/base",
       "_view_module_version": "1.2.0",
       "_view_name": "LayoutView",
       "align_content": null,
       "align_items": null,
       "align_self": null,
       "border": null,
       "bottom": null,
       "display": null,
       "flex": null,
       "flex_flow": null,
       "grid_area": null,
       "grid_auto_columns": null,
       "grid_auto_flow": null,
       "grid_auto_rows": null,
       "grid_column": null,
       "grid_gap": null,
       "grid_row": null,
       "grid_template_areas": null,
       "grid_template_columns": null,
       "grid_template_rows": null,
       "height": null,
       "justify_content": null,
       "justify_items": null,
       "left": null,
       "margin": null,
       "max_height": null,
       "max_width": null,
       "min_height": null,
       "min_width": null,
       "object_fit": null,
       "object_position": null,
       "order": null,
       "overflow": null,
       "overflow_x": null,
       "overflow_y": null,
       "padding": null,
       "right": null,
       "top": null,
       "visibility": null,
       "width": null
      }
     },
     "5d9f98e6e53e432bb8fab9e0646d442e": {
      "model_module": "@jupyter-widgets/controls",
      "model_module_version": "1.5.0",
      "model_name": "HTMLModel",
      "state": {
       "_dom_classes": [],
       "_model_module": "@jupyter-widgets/controls",
       "_model_module_version": "1.5.0",
       "_model_name": "HTMLModel",
       "_view_count": null,
       "_view_module": "@jupyter-widgets/controls",
       "_view_module_version": "1.5.0",
       "_view_name": "HTMLView",
       "description": "",
       "description_tooltip": null,
       "layout": "IPY_MODEL_4bbb8632382e48d6bd8684ca46e5f36c",
       "placeholder": "​",
       "style": "IPY_MODEL_7bbc8a099db74f56a85e11b7c4df4802",
       "value": " 1.89G/1.89G [01:02&lt;00:00, 28.8MB/s]"
      }
     },
     "610394db96eb45b0a3bf97aea17c69cd": {
      "model_module": "@jupyter-widgets/base",
      "model_module_version": "1.2.0",
      "model_name": "LayoutModel",
      "state": {
       "_model_module": "@jupyter-widgets/base",
       "_model_module_version": "1.2.0",
       "_model_name": "LayoutModel",
       "_view_count": null,
       "_view_module": "@jupyter-widgets/base",
       "_view_module_version": "1.2.0",
       "_view_name": "LayoutView",
       "align_content": null,
       "align_items": null,
       "align_self": null,
       "border": null,
       "bottom": null,
       "display": null,
       "flex": null,
       "flex_flow": null,
       "grid_area": null,
       "grid_auto_columns": null,
       "grid_auto_flow": null,
       "grid_auto_rows": null,
       "grid_column": null,
       "grid_gap": null,
       "grid_row": null,
       "grid_template_areas": null,
       "grid_template_columns": null,
       "grid_template_rows": null,
       "height": null,
       "justify_content": null,
       "justify_items": null,
       "left": null,
       "margin": null,
       "max_height": null,
       "max_width": null,
       "min_height": null,
       "min_width": null,
       "object_fit": null,
       "object_position": null,
       "order": null,
       "overflow": null,
       "overflow_x": null,
       "overflow_y": null,
       "padding": null,
       "right": null,
       "top": null,
       "visibility": null,
       "width": null
      }
     },
     "69686855763044b5949272097f5fa92a": {
      "model_module": "@jupyter-widgets/base",
      "model_module_version": "1.2.0",
      "model_name": "LayoutModel",
      "state": {
       "_model_module": "@jupyter-widgets/base",
       "_model_module_version": "1.2.0",
       "_model_name": "LayoutModel",
       "_view_count": null,
       "_view_module": "@jupyter-widgets/base",
       "_view_module_version": "1.2.0",
       "_view_name": "LayoutView",
       "align_content": null,
       "align_items": null,
       "align_self": null,
       "border": null,
       "bottom": null,
       "display": null,
       "flex": null,
       "flex_flow": null,
       "grid_area": null,
       "grid_auto_columns": null,
       "grid_auto_flow": null,
       "grid_auto_rows": null,
       "grid_column": null,
       "grid_gap": null,
       "grid_row": null,
       "grid_template_areas": null,
       "grid_template_columns": null,
       "grid_template_rows": null,
       "height": null,
       "justify_content": null,
       "justify_items": null,
       "left": null,
       "margin": null,
       "max_height": null,
       "max_width": null,
       "min_height": null,
       "min_width": null,
       "object_fit": null,
       "object_position": null,
       "order": null,
       "overflow": null,
       "overflow_x": null,
       "overflow_y": null,
       "padding": null,
       "right": null,
       "top": null,
       "visibility": null,
       "width": null
      }
     },
     "714e74613bf84fe5ae80bd17e282c44b": {
      "model_module": "@jupyter-widgets/controls",
      "model_module_version": "1.5.0",
      "model_name": "HTMLModel",
      "state": {
       "_dom_classes": [],
       "_model_module": "@jupyter-widgets/controls",
       "_model_module_version": "1.5.0",
       "_model_name": "HTMLModel",
       "_view_count": null,
       "_view_module": "@jupyter-widgets/controls",
       "_view_module_version": "1.5.0",
       "_view_name": "HTMLView",
       "description": "",
       "description_tooltip": null,
       "layout": "IPY_MODEL_610394db96eb45b0a3bf97aea17c69cd",
       "placeholder": "​",
       "style": "IPY_MODEL_9648623ac5c64868918bb4c1b694b168",
       "value": "Downloading (…)lve/main/config.json: 100%"
      }
     },
     "72d305ee37cc4602960a1685185bd9ad": {
      "model_module": "@jupyter-widgets/controls",
      "model_module_version": "1.5.0",
      "model_name": "ProgressStyleModel",
      "state": {
       "_model_module": "@jupyter-widgets/controls",
       "_model_module_version": "1.5.0",
       "_model_name": "ProgressStyleModel",
       "_view_count": null,
       "_view_module": "@jupyter-widgets/base",
       "_view_module_version": "1.2.0",
       "_view_name": "StyleView",
       "bar_color": null,
       "description_width": ""
      }
     },
     "7442060bb8524dca8d99cde760c61190": {
      "model_module": "@jupyter-widgets/controls",
      "model_module_version": "1.5.0",
      "model_name": "HTMLModel",
      "state": {
       "_dom_classes": [],
       "_model_module": "@jupyter-widgets/controls",
       "_model_module_version": "1.5.0",
       "_model_name": "HTMLModel",
       "_view_count": null,
       "_view_module": "@jupyter-widgets/controls",
       "_view_module_version": "1.5.0",
       "_view_name": "HTMLView",
       "description": "",
       "description_tooltip": null,
       "layout": "IPY_MODEL_2f8ca7030c1d400b9c6f4efe66734e44",
       "placeholder": "​",
       "style": "IPY_MODEL_cdfb7c59a1c44b8ba5be7409ecb4ae13",
       "value": " 5.07M/5.07M [00:00&lt;00:00, 34.6MB/s]"
      }
     },
     "747e4917c27149869757c6b038e40df7": {
      "model_module": "@jupyter-widgets/controls",
      "model_module_version": "1.5.0",
      "model_name": "HBoxModel",
      "state": {
       "_dom_classes": [],
       "_model_module": "@jupyter-widgets/controls",
       "_model_module_version": "1.5.0",
       "_model_name": "HBoxModel",
       "_view_count": null,
       "_view_module": "@jupyter-widgets/controls",
       "_view_module_version": "1.5.0",
       "_view_name": "HBoxView",
       "box_style": "",
       "children": [
        "IPY_MODEL_c07b6128fa424348bfe17727aeb24631",
        "IPY_MODEL_3169efe9506e46f0a27974958f2f6c98",
        "IPY_MODEL_5d9f98e6e53e432bb8fab9e0646d442e"
       ],
       "layout": "IPY_MODEL_924ee3188b55490ab216d801fa2929ee"
      }
     },
     "74df1a06d29d4cb1be410060909b31d4": {
      "model_module": "@jupyter-widgets/controls",
      "model_module_version": "1.5.0",
      "model_name": "HBoxModel",
      "state": {
       "_dom_classes": [],
       "_model_module": "@jupyter-widgets/controls",
       "_model_module_version": "1.5.0",
       "_model_name": "HBoxModel",
       "_view_count": null,
       "_view_module": "@jupyter-widgets/controls",
       "_view_module_version": "1.5.0",
       "_view_name": "HBoxView",
       "box_style": "",
       "children": [
        "IPY_MODEL_8abd31fcd2994149bc119826b84b87ae",
        "IPY_MODEL_3161303823464a96b32e1a3bedd025bc",
        "IPY_MODEL_92f87e5ae07841349cffd0fd23bc465e"
       ],
       "layout": "IPY_MODEL_5a2b88d7826144828e5a0719fcafeeb9"
      }
     },
     "77a6c35d24d44a188af99c25e2fbe937": {
      "model_module": "@jupyter-widgets/base",
      "model_module_version": "1.2.0",
      "model_name": "LayoutModel",
      "state": {
       "_model_module": "@jupyter-widgets/base",
       "_model_module_version": "1.2.0",
       "_model_name": "LayoutModel",
       "_view_count": null,
       "_view_module": "@jupyter-widgets/base",
       "_view_module_version": "1.2.0",
       "_view_name": "LayoutView",
       "align_content": null,
       "align_items": null,
       "align_self": null,
       "border": null,
       "bottom": null,
       "display": null,
       "flex": null,
       "flex_flow": null,
       "grid_area": null,
       "grid_auto_columns": null,
       "grid_auto_flow": null,
       "grid_auto_rows": null,
       "grid_column": null,
       "grid_gap": null,
       "grid_row": null,
       "grid_template_areas": null,
       "grid_template_columns": null,
       "grid_template_rows": null,
       "height": null,
       "justify_content": null,
       "justify_items": null,
       "left": null,
       "margin": null,
       "max_height": null,
       "max_width": null,
       "min_height": null,
       "min_width": null,
       "object_fit": null,
       "object_position": null,
       "order": null,
       "overflow": null,
       "overflow_x": null,
       "overflow_y": null,
       "padding": null,
       "right": null,
       "top": null,
       "visibility": null,
       "width": null
      }
     },
     "7bbc8a099db74f56a85e11b7c4df4802": {
      "model_module": "@jupyter-widgets/controls",
      "model_module_version": "1.5.0",
      "model_name": "DescriptionStyleModel",
      "state": {
       "_model_module": "@jupyter-widgets/controls",
       "_model_module_version": "1.5.0",
       "_model_name": "DescriptionStyleModel",
       "_view_count": null,
       "_view_module": "@jupyter-widgets/base",
       "_view_module_version": "1.2.0",
       "_view_name": "StyleView",
       "description_width": ""
      }
     },
     "7f15c31643a049a5a525270af3a42aed": {
      "model_module": "@jupyter-widgets/controls",
      "model_module_version": "1.5.0",
      "model_name": "FloatProgressModel",
      "state": {
       "_dom_classes": [],
       "_model_module": "@jupyter-widgets/controls",
       "_model_module_version": "1.5.0",
       "_model_name": "FloatProgressModel",
       "_view_count": null,
       "_view_module": "@jupyter-widgets/controls",
       "_view_module_version": "1.5.0",
       "_view_name": "ProgressView",
       "bar_style": "success",
       "description": "",
       "description_tooltip": null,
       "layout": "IPY_MODEL_2a537a58965641938fb39ef215492854",
       "max": 512.0,
       "min": 0.0,
       "orientation": "horizontal",
       "style": "IPY_MODEL_a01b67d6943b453f93d27e9ff096e574",
       "value": 512.0
      }
     },
     "7f444992a8dd4727bf400e4b653ec394": {
      "model_module": "@jupyter-widgets/controls",
      "model_module_version": "1.5.0",
      "model_name": "ProgressStyleModel",
      "state": {
       "_model_module": "@jupyter-widgets/controls",
       "_model_module_version": "1.5.0",
       "_model_name": "ProgressStyleModel",
       "_view_count": null,
       "_view_module": "@jupyter-widgets/base",
       "_view_module_version": "1.2.0",
       "_view_name": "StyleView",
       "bar_color": null,
       "description_width": ""
      }
     },
     "8abd31fcd2994149bc119826b84b87ae": {
      "model_module": "@jupyter-widgets/controls",
      "model_module_version": "1.5.0",
      "model_name": "HTMLModel",
      "state": {
       "_dom_classes": [],
       "_model_module": "@jupyter-widgets/controls",
       "_model_module_version": "1.5.0",
       "_model_name": "HTMLModel",
       "_view_count": null,
       "_view_module": "@jupyter-widgets/controls",
       "_view_module_version": "1.5.0",
       "_view_name": "HTMLView",
       "description": "",
       "description_tooltip": null,
       "layout": "IPY_MODEL_3a428763521e4874a53dddf026903538",
       "placeholder": "​",
       "style": "IPY_MODEL_d49aad1c6c78426ba87aedf4f58e33c5",
       "value": "Downloading (…)lve/main/config.json: 100%"
      }
     },
     "924ee3188b55490ab216d801fa2929ee": {
      "model_module": "@jupyter-widgets/base",
      "model_module_version": "1.2.0",
      "model_name": "LayoutModel",
      "state": {
       "_model_module": "@jupyter-widgets/base",
       "_model_module_version": "1.2.0",
       "_model_name": "LayoutModel",
       "_view_count": null,
       "_view_module": "@jupyter-widgets/base",
       "_view_module_version": "1.2.0",
       "_view_name": "LayoutView",
       "align_content": null,
       "align_items": null,
       "align_self": null,
       "border": null,
       "bottom": null,
       "display": null,
       "flex": null,
       "flex_flow": null,
       "grid_area": null,
       "grid_auto_columns": null,
       "grid_auto_flow": null,
       "grid_auto_rows": null,
       "grid_column": null,
       "grid_gap": null,
       "grid_row": null,
       "grid_template_areas": null,
       "grid_template_columns": null,
       "grid_template_rows": null,
       "height": null,
       "justify_content": null,
       "justify_items": null,
       "left": null,
       "margin": null,
       "max_height": null,
       "max_width": null,
       "min_height": null,
       "min_width": null,
       "object_fit": null,
       "object_position": null,
       "order": null,
       "overflow": null,
       "overflow_x": null,
       "overflow_y": null,
       "padding": null,
       "right": null,
       "top": null,
       "visibility": null,
       "width": null
      }
     },
     "925777e9f78f408c96b592414b84c2d0": {
      "model_module": "@jupyter-widgets/base",
      "model_module_version": "1.2.0",
      "model_name": "LayoutModel",
      "state": {
       "_model_module": "@jupyter-widgets/base",
       "_model_module_version": "1.2.0",
       "_model_name": "LayoutModel",
       "_view_count": null,
       "_view_module": "@jupyter-widgets/base",
       "_view_module_version": "1.2.0",
       "_view_name": "LayoutView",
       "align_content": null,
       "align_items": null,
       "align_self": null,
       "border": null,
       "bottom": null,
       "display": null,
       "flex": null,
       "flex_flow": null,
       "grid_area": null,
       "grid_auto_columns": null,
       "grid_auto_flow": null,
       "grid_auto_rows": null,
       "grid_column": null,
       "grid_gap": null,
       "grid_row": null,
       "grid_template_areas": null,
       "grid_template_columns": null,
       "grid_template_rows": null,
       "height": null,
       "justify_content": null,
       "justify_items": null,
       "left": null,
       "margin": null,
       "max_height": null,
       "max_width": null,
       "min_height": null,
       "min_width": null,
       "object_fit": null,
       "object_position": null,
       "order": null,
       "overflow": null,
       "overflow_x": null,
       "overflow_y": null,
       "padding": null,
       "right": null,
       "top": null,
       "visibility": null,
       "width": null
      }
     },
     "92f87e5ae07841349cffd0fd23bc465e": {
      "model_module": "@jupyter-widgets/controls",
      "model_module_version": "1.5.0",
      "model_name": "HTMLModel",
      "state": {
       "_dom_classes": [],
       "_model_module": "@jupyter-widgets/controls",
       "_model_module_version": "1.5.0",
       "_model_name": "HTMLModel",
       "_view_count": null,
       "_view_module": "@jupyter-widgets/controls",
       "_view_module_version": "1.5.0",
       "_view_name": "HTMLView",
       "description": "",
       "description_tooltip": null,
       "layout": "IPY_MODEL_925777e9f78f408c96b592414b84c2d0",
       "placeholder": "​",
       "style": "IPY_MODEL_d080adc9683144a9b8024a0c0ef623d5",
       "value": " 615/615 [00:00&lt;00:00, 39.2kB/s]"
      }
     },
     "9648623ac5c64868918bb4c1b694b168": {
      "model_module": "@jupyter-widgets/controls",
      "model_module_version": "1.5.0",
      "model_name": "DescriptionStyleModel",
      "state": {
       "_model_module": "@jupyter-widgets/controls",
       "_model_module_version": "1.5.0",
       "_model_name": "DescriptionStyleModel",
       "_view_count": null,
       "_view_module": "@jupyter-widgets/base",
       "_view_module_version": "1.2.0",
       "_view_name": "StyleView",
       "description_width": ""
      }
     },
     "a01b67d6943b453f93d27e9ff096e574": {
      "model_module": "@jupyter-widgets/controls",
      "model_module_version": "1.5.0",
      "model_name": "ProgressStyleModel",
      "state": {
       "_model_module": "@jupyter-widgets/controls",
       "_model_module_version": "1.5.0",
       "_model_name": "ProgressStyleModel",
       "_view_count": null,
       "_view_module": "@jupyter-widgets/base",
       "_view_module_version": "1.2.0",
       "_view_name": "StyleView",
       "bar_color": null,
       "description_width": ""
      }
     },
     "bbd6ab8571844a8883ea79ed36d1215f": {
      "model_module": "@jupyter-widgets/base",
      "model_module_version": "1.2.0",
      "model_name": "LayoutModel",
      "state": {
       "_model_module": "@jupyter-widgets/base",
       "_model_module_version": "1.2.0",
       "_model_name": "LayoutModel",
       "_view_count": null,
       "_view_module": "@jupyter-widgets/base",
       "_view_module_version": "1.2.0",
       "_view_name": "LayoutView",
       "align_content": null,
       "align_items": null,
       "align_self": null,
       "border": null,
       "bottom": null,
       "display": null,
       "flex": null,
       "flex_flow": null,
       "grid_area": null,
       "grid_auto_columns": null,
       "grid_auto_flow": null,
       "grid_auto_rows": null,
       "grid_column": null,
       "grid_gap": null,
       "grid_row": null,
       "grid_template_areas": null,
       "grid_template_columns": null,
       "grid_template_rows": null,
       "height": null,
       "justify_content": null,
       "justify_items": null,
       "left": null,
       "margin": null,
       "max_height": null,
       "max_width": null,
       "min_height": null,
       "min_width": null,
       "object_fit": null,
       "object_position": null,
       "order": null,
       "overflow": null,
       "overflow_x": null,
       "overflow_y": null,
       "padding": null,
       "right": null,
       "top": null,
       "visibility": null,
       "width": null
      }
     },
     "c07b6128fa424348bfe17727aeb24631": {
      "model_module": "@jupyter-widgets/controls",
      "model_module_version": "1.5.0",
      "model_name": "HTMLModel",
      "state": {
       "_dom_classes": [],
       "_model_module": "@jupyter-widgets/controls",
       "_model_module_version": "1.5.0",
       "_model_name": "HTMLModel",
       "_view_count": null,
       "_view_module": "@jupyter-widgets/controls",
       "_view_module_version": "1.5.0",
       "_view_name": "HTMLView",
       "description": "",
       "description_tooltip": null,
       "layout": "IPY_MODEL_e4e8302c99864af694f76e755a7f608b",
       "placeholder": "​",
       "style": "IPY_MODEL_3fbeeb09c8ea444397e93be1bcad0383",
       "value": "Downloading tf_model.h5: 100%"
      }
     },
     "c2bc37283f264ed193a9e4ed32129471": {
      "model_module": "@jupyter-widgets/controls",
      "model_module_version": "1.5.0",
      "model_name": "DescriptionStyleModel",
      "state": {
       "_model_module": "@jupyter-widgets/controls",
       "_model_module_version": "1.5.0",
       "_model_name": "DescriptionStyleModel",
       "_view_count": null,
       "_view_module": "@jupyter-widgets/base",
       "_view_module_version": "1.2.0",
       "_view_name": "StyleView",
       "description_width": ""
      }
     },
     "cdfb7c59a1c44b8ba5be7409ecb4ae13": {
      "model_module": "@jupyter-widgets/controls",
      "model_module_version": "1.5.0",
      "model_name": "DescriptionStyleModel",
      "state": {
       "_model_module": "@jupyter-widgets/controls",
       "_model_module_version": "1.5.0",
       "_model_name": "DescriptionStyleModel",
       "_view_count": null,
       "_view_module": "@jupyter-widgets/base",
       "_view_module_version": "1.2.0",
       "_view_name": "StyleView",
       "description_width": ""
      }
     },
     "ceb9be0d7b0347fcbda1e4a8ddb29b47": {
      "model_module": "@jupyter-widgets/base",
      "model_module_version": "1.2.0",
      "model_name": "LayoutModel",
      "state": {
       "_model_module": "@jupyter-widgets/base",
       "_model_module_version": "1.2.0",
       "_model_name": "LayoutModel",
       "_view_count": null,
       "_view_module": "@jupyter-widgets/base",
       "_view_module_version": "1.2.0",
       "_view_name": "LayoutView",
       "align_content": null,
       "align_items": null,
       "align_self": null,
       "border": null,
       "bottom": null,
       "display": null,
       "flex": null,
       "flex_flow": null,
       "grid_area": null,
       "grid_auto_columns": null,
       "grid_auto_flow": null,
       "grid_auto_rows": null,
       "grid_column": null,
       "grid_gap": null,
       "grid_row": null,
       "grid_template_areas": null,
       "grid_template_columns": null,
       "grid_template_rows": null,
       "height": null,
       "justify_content": null,
       "justify_items": null,
       "left": null,
       "margin": null,
       "max_height": null,
       "max_width": null,
       "min_height": null,
       "min_width": null,
       "object_fit": null,
       "object_position": null,
       "order": null,
       "overflow": null,
       "overflow_x": null,
       "overflow_y": null,
       "padding": null,
       "right": null,
       "top": null,
       "visibility": null,
       "width": null
      }
     },
     "d080adc9683144a9b8024a0c0ef623d5": {
      "model_module": "@jupyter-widgets/controls",
      "model_module_version": "1.5.0",
      "model_name": "DescriptionStyleModel",
      "state": {
       "_model_module": "@jupyter-widgets/controls",
       "_model_module_version": "1.5.0",
       "_model_name": "DescriptionStyleModel",
       "_view_count": null,
       "_view_module": "@jupyter-widgets/base",
       "_view_module_version": "1.2.0",
       "_view_name": "StyleView",
       "description_width": ""
      }
     },
     "d3760ab4c9cc4d6aab42381ef96dcda4": {
      "model_module": "@jupyter-widgets/controls",
      "model_module_version": "1.5.0",
      "model_name": "HTMLModel",
      "state": {
       "_dom_classes": [],
       "_model_module": "@jupyter-widgets/controls",
       "_model_module_version": "1.5.0",
       "_model_name": "HTMLModel",
       "_view_count": null,
       "_view_module": "@jupyter-widgets/controls",
       "_view_module_version": "1.5.0",
       "_view_name": "HTMLView",
       "description": "",
       "description_tooltip": null,
       "layout": "IPY_MODEL_bbd6ab8571844a8883ea79ed36d1215f",
       "placeholder": "​",
       "style": "IPY_MODEL_c2bc37283f264ed193a9e4ed32129471",
       "value": "Downloading (…)tencepiece.bpe.model: 100%"
      }
     },
     "d49aad1c6c78426ba87aedf4f58e33c5": {
      "model_module": "@jupyter-widgets/controls",
      "model_module_version": "1.5.0",
      "model_name": "DescriptionStyleModel",
      "state": {
       "_model_module": "@jupyter-widgets/controls",
       "_model_module_version": "1.5.0",
       "_model_name": "DescriptionStyleModel",
       "_view_count": null,
       "_view_module": "@jupyter-widgets/base",
       "_view_module_version": "1.2.0",
       "_view_name": "StyleView",
       "description_width": ""
      }
     },
     "d5eb7baecaee4befb11aa42607f85e18": {
      "model_module": "@jupyter-widgets/controls",
      "model_module_version": "1.5.0",
      "model_name": "HTMLModel",
      "state": {
       "_dom_classes": [],
       "_model_module": "@jupyter-widgets/controls",
       "_model_module_version": "1.5.0",
       "_model_name": "HTMLModel",
       "_view_count": null,
       "_view_module": "@jupyter-widgets/controls",
       "_view_module_version": "1.5.0",
       "_view_name": "HTMLView",
       "description": "",
       "description_tooltip": null,
       "layout": "IPY_MODEL_1589d86291874472bbb71294549677af",
       "placeholder": "​",
       "style": "IPY_MODEL_e268406aa1014b0d81bb5b0282f78ff0",
       "value": " 512/512 [00:00&lt;00:00, 31.8kB/s]"
      }
     },
     "e268406aa1014b0d81bb5b0282f78ff0": {
      "model_module": "@jupyter-widgets/controls",
      "model_module_version": "1.5.0",
      "model_name": "DescriptionStyleModel",
      "state": {
       "_model_module": "@jupyter-widgets/controls",
       "_model_module_version": "1.5.0",
       "_model_name": "DescriptionStyleModel",
       "_view_count": null,
       "_view_module": "@jupyter-widgets/base",
       "_view_module_version": "1.2.0",
       "_view_name": "StyleView",
       "description_width": ""
      }
     },
     "e4e8302c99864af694f76e755a7f608b": {
      "model_module": "@jupyter-widgets/base",
      "model_module_version": "1.2.0",
      "model_name": "LayoutModel",
      "state": {
       "_model_module": "@jupyter-widgets/base",
       "_model_module_version": "1.2.0",
       "_model_name": "LayoutModel",
       "_view_count": null,
       "_view_module": "@jupyter-widgets/base",
       "_view_module_version": "1.2.0",
       "_view_name": "LayoutView",
       "align_content": null,
       "align_items": null,
       "align_self": null,
       "border": null,
       "bottom": null,
       "display": null,
       "flex": null,
       "flex_flow": null,
       "grid_area": null,
       "grid_auto_columns": null,
       "grid_auto_flow": null,
       "grid_auto_rows": null,
       "grid_column": null,
       "grid_gap": null,
       "grid_row": null,
       "grid_template_areas": null,
       "grid_template_columns": null,
       "grid_template_rows": null,
       "height": null,
       "justify_content": null,
       "justify_items": null,
       "left": null,
       "margin": null,
       "max_height": null,
       "max_width": null,
       "min_height": null,
       "min_width": null,
       "object_fit": null,
       "object_position": null,
       "order": null,
       "overflow": null,
       "overflow_x": null,
       "overflow_y": null,
       "padding": null,
       "right": null,
       "top": null,
       "visibility": null,
       "width": null
      }
     },
     "f3ed86d2dbe247c79d15c4fad3a86d25": {
      "model_module": "@jupyter-widgets/base",
      "model_module_version": "1.2.0",
      "model_name": "LayoutModel",
      "state": {
       "_model_module": "@jupyter-widgets/base",
       "_model_module_version": "1.2.0",
       "_model_name": "LayoutModel",
       "_view_count": null,
       "_view_module": "@jupyter-widgets/base",
       "_view_module_version": "1.2.0",
       "_view_name": "LayoutView",
       "align_content": null,
       "align_items": null,
       "align_self": null,
       "border": null,
       "bottom": null,
       "display": null,
       "flex": null,
       "flex_flow": null,
       "grid_area": null,
       "grid_auto_columns": null,
       "grid_auto_flow": null,
       "grid_auto_rows": null,
       "grid_column": null,
       "grid_gap": null,
       "grid_row": null,
       "grid_template_areas": null,
       "grid_template_columns": null,
       "grid_template_rows": null,
       "height": null,
       "justify_content": null,
       "justify_items": null,
       "left": null,
       "margin": null,
       "max_height": null,
       "max_width": null,
       "min_height": null,
       "min_width": null,
       "object_fit": null,
       "object_position": null,
       "order": null,
       "overflow": null,
       "overflow_x": null,
       "overflow_y": null,
       "padding": null,
       "right": null,
       "top": null,
       "visibility": null,
       "width": null
      }
     }
    },
    "version_major": 2,
    "version_minor": 0
   }
  }
 },
 "nbformat": 4,
 "nbformat_minor": 5
}
